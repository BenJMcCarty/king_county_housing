{
 "cells": [
  {
   "cell_type": "markdown",
   "metadata": {
    "id": "cj2TboyMuoQe"
   },
   "source": [
    "# Phase 2 Project version 2.0 - DSC060721 Cohort"
   ]
  },
  {
   "cell_type": "markdown",
   "metadata": {
    "id": "QUnD-3j6uoOO"
   },
   "source": [
    "Purpose: to adapt prior project notebook for new data\n",
    "\n",
    "Goal: to use old notebook's code and structure as a baseline for further adjustments\n",
    "\n"
   ]
  },
  {
   "cell_type": "markdown",
   "metadata": {
    "id": "9zh5kWAlsq1k"
   },
   "source": [
    "# Selling Seattle: Impactful Features on House Sell Price "
   ]
  },
  {
   "cell_type": "markdown",
   "metadata": {
    "id": "76jtLj8Gsq1n"
   },
   "source": [
    "**When selling your house, one of the highest priorities is getting the best price for it.** You may be a real estate agent looking to advise homeowners on the price range for their home, or to give potential buyers an idea of what prices to expect for particular features (like waterfront locations or multiple bedrooms). Or perhaps you are a homeowner who is interested in doing some renovations to improve the house's value. Either way, you want to know what features have the greatest impact on that value.\n",
    "\n",
    "But how do you *really* know what features are best? How can you be sure that your intuition or expectations are based on fact and not assumptions? **Turn to the facts for answers!**\n",
    "\n",
    "---\n",
    "\n",
    "**WHAT QUESTIONS ARE IMPORTANT FROM THE BUSINESS PERSPECTIVE? WHAT QUESTIONS DID I USE TO GUIDE MY EXPLORATION?**\n",
    "\n",
    "My project used data from house sales in King County, WA. to determine some of the top features determining the sell price of a home.\n",
    "\n",
    "* **First, I explored the data using the Pandas package to review the data itself.** I reviewed the different features included in my dataset and their respective values; the descriptive statistics for the numerical data; and the overall size and shape of the data (how many rows and columns).\n",
    "\n",
    "* **Then, I used Seaborn to plot the data and a fitted linear regression model for each feature against the sell price.** These visualizations helped differentiate which features to treat as *categorical* variables (e.g. features that would be one of a select number of options) versus *continuous* variables (which would have less of a rigid range of values).\n",
    "\n",
    "* **In order to give more depth to my data, I engineered four new features based on the original features and data.** I determined the age of each house at sale; whether or not a home was renovated; how many years since a renovation; and whether or not a house had a basement.\n",
    "\n",
    "* **I wanted to make sure all of the features and their data were relevant to apply to my future model.** I performed correlational comparisons to determine which features were too closely related (indicating multicollinearity), which would affect my modeling process later on.\n",
    "\n",
    "* **To test my assumptions that certain features would have a statistically significant impact on the price, I performed a few statistical tests.** I performed an ANOVA test on our \"condition\" feature (comparing each ranking of condition against the others) and I ran a two-sample t-test on the \"waterfront\" and \"was_renovated\" features as well.\n",
    "\n",
    "* **LReg for Inferences**"
   ]
  },
  {
   "cell_type": "markdown",
   "metadata": {
    "id": "AQQLR7ANsq1o"
   },
   "source": [
    "# **Setting Up the Tools and Data**"
   ]
  },
  {
   "cell_type": "markdown",
   "metadata": {
    "id": "bl8Y9RaXsq1o"
   },
   "source": [
    "## Imports"
   ]
  },
  {
   "cell_type": "code",
   "execution_count": 29,
   "metadata": {
    "ExecuteTime": {
     "end_time": "2021-07-12T14:52:11.777358Z",
     "start_time": "2021-07-12T14:52:11.759327Z"
    },
    "id": "fwxtrzBMsq1p"
   },
   "outputs": [],
   "source": [
    "# Data Handling\n",
    "import pandas as pd\n",
    "import numpy as np\n",
    "from scipy import stats\n",
    "import plotly.express as px\n",
    "import json\n",
    "\n",
    "# Visualizations\n",
    "import matplotlib.pyplot as plt\n",
    "import seaborn as sns\n",
    "\n",
    "# Modeling - Statsmodels\n",
    "import statsmodels.formula.api as smf\n",
    "import statsmodels.api as sm\n",
    "\n",
    "# Modeling - SKLearn\n",
    "from sklearn import metrics\n",
    "from sklearn.linear_model import LinearRegression\n",
    "from sklearn.metrics import mean_squared_error\n",
    "from sklearn.preprocessing import PolynomialFeatures, StandardScaler, OneHotEncoder\n",
    "from sklearn.model_selection import train_test_split, cross_validate\n",
    "from sklearn.feature_selection import RFECV\n",
    "from sklearn.impute import SimpleImputer\n",
    "\n",
    "# Settings\n",
    "%matplotlib inline\n",
    "plt.style.use('seaborn-talk')\n",
    "pd.set_option('display.max_columns', None)"
   ]
  },
  {
   "cell_type": "markdown",
   "metadata": {
    "id": "iZ4wFbLYsq1q"
   },
   "source": [
    "## Defining Functions"
   ]
  },
  {
   "cell_type": "markdown",
   "metadata": {
    "id": "ngyZupdpsq1q"
   },
   "source": [
    "I created several functions to help review, clean, test, and evaluate my data."
   ]
  },
  {
   "cell_type": "markdown",
   "metadata": {
    "id": "uafuQiZxsq1r"
   },
   "source": [
    "### Data Cleaning and Visualizations"
   ]
  },
  {
   "cell_type": "markdown",
   "metadata": {
    "id": "Gyw6C0llsq1s"
   },
   "source": [
    "> The following functions enable the user to filter a Pandas series and return a boolean index to use for filtering out the outliers. Once saved to a new variable, the user can perform further filtering by using the new variable to slice the dataframe to be filtered."
   ]
  },
  {
   "cell_type": "markdown",
   "metadata": {
    "id": "rirZS1CCsq1t"
   },
   "source": [
    "#### ƒ: `find_outliers_z`"
   ]
  },
  {
   "cell_type": "code",
   "execution_count": 2,
   "metadata": {
    "ExecuteTime": {
     "end_time": "2021-07-12T14:50:01.648460Z",
     "start_time": "2021-07-12T14:50:01.635435Z"
    },
    "id": "wmvwk4Jvsq1t"
   },
   "outputs": [],
   "source": [
    "## Check using z-score - sensitive to outliers\n",
    "\n",
    "def find_outliers_z(data):\n",
    "    \"\"\"Detects outliers using the Z-score>3 cutoff.\n",
    "    Returns a boolean Series where True=outlier\n",
    "    \n",
    "    Source: https://github.com/jirvingphd/dsc-phase-2-project/blob/main/functions_SG.py\n",
    "    \"\"\"\n",
    "    \n",
    "    zFP = np.abs(stats.zscore(data))\n",
    "    zFP = pd.Series(zFP, index=data.index)\n",
    "    idx_outliers = zFP > 3\n",
    "    return idx_outliers"
   ]
  },
  {
   "cell_type": "markdown",
   "metadata": {
    "id": "LIuaeAfvsq1u"
   },
   "source": [
    "#### ƒ: `find_outliers_IQR`"
   ]
  },
  {
   "cell_type": "code",
   "execution_count": 3,
   "metadata": {
    "ExecuteTime": {
     "end_time": "2021-07-12T14:50:01.663431Z",
     "start_time": "2021-07-12T14:50:01.650428Z"
    },
    "id": "x1rjxpLpsq1u"
   },
   "outputs": [],
   "source": [
    "## Check using IQR - less sensitive to outliers\n",
    "\n",
    "def find_outliers_IQR(data):\n",
    "    \"\"\"\n",
    "    * Takes a series sliced from a dataframe\n",
    "    * Detects outliers using the 1.5*IQR thresholds.\n",
    "    * Returns a boolean Series where True=outlier\n",
    "\n",
    "    Source: https://github.com/jirvingphd/dsc-phase-2-project/blob/main/functions_SG.py\n",
    "    \"\"\"\n",
    "    \n",
    "    res = data.describe()\n",
    "    q1 = res['25%']\n",
    "    q3 = res['75%']\n",
    "    thresh = 1.5*(q3-q1)\n",
    "    idx_outliers =(data < (q1-thresh)) | (data > (q3+thresh))\n",
    "    return idx_outliers"
   ]
  },
  {
   "cell_type": "markdown",
   "metadata": {
    "id": "oJDK_KD0sq1u"
   },
   "source": [
    "#### ƒ: `feature_vis`"
   ]
  },
  {
   "cell_type": "code",
   "execution_count": 4,
   "metadata": {
    "ExecuteTime": {
     "end_time": "2021-07-12T14:50:01.679459Z",
     "start_time": "2021-07-12T14:50:01.666427Z"
    },
    "id": "YfCOtXfqsq1v"
   },
   "outputs": [],
   "source": [
    "def feature_vis(data, x, y = 'price', discrete = False, kde = True):\n",
    "    '''-----\n",
    "    * Requires a DataFrame and a column name to process.\n",
    "    * Keyword arguments specify that the target variable will be \"price\"\n",
    "    for this case.\n",
    "    * For future use, redefine function without predetermined y-value, or \n",
    "    reassign.\n",
    "    \n",
    "    --\n",
    "    \n",
    "    * Args:\n",
    "        * Data: Pandas DataFrame; data source\n",
    "        * x: str; column index to specify data\n",
    "    \n",
    "    * Kwargs:\n",
    "        * y = \"price\"\n",
    "        * discrete = False\n",
    "        * kde = true\n",
    "        \n",
    "    -----'''\n",
    "    \n",
    "    ## Print the slice of the original DataFrame for easy viewing\n",
    "    \n",
    "    print(df[x].value_counts().sort_index())\n",
    "  \n",
    "    ## Create two plots via Seaborn: one scatter plot with regression line,\n",
    "    ## then a histogram of the data (with KDE if specified\n",
    "    \n",
    "    fig, axs = plt.subplots(ncols=2, figsize= (12,6))\n",
    "    \n",
    "    sns.regplot(data=data, x=x, y=y, ax=axs[0])\n",
    "    sns.histplot(data=data, x=x, discrete=discrete, kde=kde, ax=axs[1])\n",
    "    \n",
    "    fig.suptitle(f'{x.title()} vs. {y.title()}', fontsize=16)\n",
    "    plt.tight_layout();\n",
    "    \n",
    "    return"
   ]
  },
  {
   "cell_type": "markdown",
   "metadata": {
    "id": "AloiaVmRsq1v"
   },
   "source": [
    "#### ƒ: `filter_outliers`"
   ]
  },
  {
   "cell_type": "code",
   "execution_count": 5,
   "metadata": {
    "ExecuteTime": {
     "end_time": "2021-07-12T14:50:01.694459Z",
     "start_time": "2021-07-12T14:50:01.681439Z"
    },
    "id": "47jRhQicsq1v"
   },
   "outputs": [],
   "source": [
    "def filter_outliers(data):\n",
    "    '''------\n",
    "    \n",
    "    * Removes outliers from data via \"find_outliers_IQR\" and saves filtered\n",
    "    values to the dataframe\n",
    "    \n",
    "    ---\n",
    "    \n",
    "    * Arg:\n",
    "        * Data: slice of a dataframe for a specific column header\n",
    "    \n",
    "    ------\n",
    "    '''\n",
    "   \n",
    "    idx_out = find_outliers_IQR(data)\n",
    " \n",
    "    cleaned = df[~idx_out]\n",
    "\n",
    "    print(f'There were {idx_out.sum()} outliers.')\n",
    "    \n",
    "    return cleaned"
   ]
  },
  {
   "cell_type": "markdown",
   "metadata": {
    "id": "_BLRbRMSsq1v"
   },
   "source": [
    "#### ƒ: `remove_outliers`"
   ]
  },
  {
   "cell_type": "code",
   "execution_count": 6,
   "metadata": {
    "ExecuteTime": {
     "end_time": "2021-07-12T14:50:01.710460Z",
     "start_time": "2021-07-12T14:50:01.696431Z"
    },
    "id": "YCUW8oIGsq1v"
   },
   "outputs": [],
   "source": [
    "def remove_outliers(data, x):\n",
    "\n",
    "    idx_out = find_outliers_IQR(data[x])\n",
    " \n",
    "    df_clean = df[~idx_out].copy()\n",
    "    \n",
    "    return df_clean"
   ]
  },
  {
   "cell_type": "markdown",
   "metadata": {
    "id": "gVwO3EKCsq1w"
   },
   "source": [
    "#### ƒ: `show_cleaned_vis`"
   ]
  },
  {
   "cell_type": "code",
   "execution_count": 7,
   "metadata": {
    "ExecuteTime": {
     "end_time": "2021-07-12T14:50:01.725459Z",
     "start_time": "2021-07-12T14:50:01.712438Z"
    },
    "id": "1bdhDzz0sq1w"
   },
   "outputs": [],
   "source": [
    "def show_cleaned_vis(data, x, y = 'price', discrete = False, kde = True):\n",
    "    '''-----\n",
    "    \n",
    "    * Combines functions to filter outliers and to create the feature \n",
    "        visualizations.\n",
    "    * Requres 'find_outliers_IQR' and 'feature_vis' to be defined.\n",
    "    * Returns filtered data and two visualizations - Seaborn regression plot\n",
    "        and histplot.\n",
    "    \n",
    "    ---\n",
    "    \n",
    "    * Args:\n",
    "        * Data: Pandas DataFrame; data source\n",
    "        * x: str; column index to specify data\n",
    "    * Kwargs\n",
    "    \n",
    "    -----'''\n",
    "    \n",
    "    ### Filter outliers first\n",
    "    \n",
    "    idx_out = find_outliers_IQR(data[x])\n",
    " \n",
    "    df_cleaned = df[~idx_out].copy()\n",
    "\n",
    "    print(f'There were {idx_out.sum()} outliers.')\n",
    "    \n",
    "    ### Plot Data\n",
    "    \n",
    "    \n",
    "    df_cleaned[x].value_counts().sort_index()\n",
    "        \n",
    "    fig, axs = plt.subplots(ncols=2, figsize= (12,6))\n",
    "    \n",
    "    sns.regplot(data=df_cleaned, x=x, y=y, ax=axs[0])\n",
    "    sns.histplot(data=df_cleaned, x=x, discrete=discrete, kde=kde, ax=axs[1])\n",
    "    \n",
    "    fig.suptitle(f'{x.title()} vs. {y.title()}', fontsize=16)\n",
    "    plt.tight_layout();\n",
    "    \n",
    "    return #df_cleaned"
   ]
  },
  {
   "cell_type": "markdown",
   "metadata": {
    "id": "s-BJIpsKsq1w"
   },
   "source": [
    "### Creating Function for T-Testing"
   ]
  },
  {
   "cell_type": "markdown",
   "metadata": {
    "id": "YE2Ox5zHsq1x"
   },
   "source": [
    "#### ƒ: `ttest_review`"
   ]
  },
  {
   "cell_type": "code",
   "execution_count": 8,
   "metadata": {
    "ExecuteTime": {
     "end_time": "2021-07-12T14:50:01.740430Z",
     "start_time": "2021-07-12T14:50:01.728427Z"
    },
    "id": "ZM-u0bqKsq1x"
   },
   "outputs": [],
   "source": [
    "def ttest_review(sample_1, sample_2, alpha=.05):\n",
    "    '''------\n",
    "    * Runs a t-test on two samples; prints whether or not they are significant,\n",
    "    and returns p-value as a variable called \"p-value.\"\n",
    "    * Requires two data samples and an alpha value.\n",
    "    \n",
    "    ----\n",
    "    \n",
    "    * Args: two data samples for t-test\n",
    "    * Kwargs: alpha=.05\n",
    "    \n",
    "    -----\n",
    "    '''\n",
    "    \n",
    "    result = stats.ttest_ind(sample_1, sample_2)\n",
    "    crit_val, p_val = result\n",
    "    \n",
    "    ## Creating interpretation based on p-value results.\n",
    "\n",
    "    if p_value < .05:\n",
    "        print(f'The feature \"waterfront\" is statistically significant with a p-value of {p_val}.')\n",
    "\n",
    "    else:\n",
    "         print(f'The feature \"waterfront\" is not statistically significant with a p-value of {p_val}.')\n",
    "    \n",
    "    return p_val"
   ]
  },
  {
   "cell_type": "markdown",
   "metadata": {
    "id": "DXLszJATsq1x"
   },
   "source": [
    "### Creating a Correlation Matrix"
   ]
  },
  {
   "cell_type": "markdown",
   "metadata": {
    "id": "M0qgFLMwsq1x"
   },
   "source": [
    "#### ƒ: `\"corr_val\"`"
   ]
  },
  {
   "cell_type": "code",
   "execution_count": 9,
   "metadata": {
    "ExecuteTime": {
     "end_time": "2021-07-12T14:50:01.756426Z",
     "start_time": "2021-07-12T14:50:01.743427Z"
    },
    "id": "7T1z3gs4sq1z"
   },
   "outputs": [],
   "source": [
    "# Create \"corr_val\" function\n",
    "\n",
    "def corr_val(df,figsize=(15,15),cmap=\"OrRd\",):\n",
    "    \n",
    "    # Calculate correlations\n",
    "    corr = df.corr()\n",
    "       \n",
    "    # Create a mask of the same size as our correlation data\n",
    "    mask = np.zeros_like(corr)\n",
    "    \n",
    "    # Set the upper values of the numpy array to \"True\" to ignore them\n",
    "    mask[np.triu_indices_from(mask)] = True\n",
    "\n",
    "    fig, ax = plt.subplots(figsize=figsize)\n",
    "    \n",
    "    # Mask=mask to hide the upper-right half of values (otherwise mirrored)\n",
    "    sns.heatmap(corr, annot=True,cmap=\"Reds\",mask=mask)\n",
    "    return fig, ax"
   ]
  },
  {
   "cell_type": "markdown",
   "metadata": {
    "id": "cmk5Rvxbsq1z"
   },
   "source": [
    "### Creating and Evaluating Models"
   ]
  },
  {
   "cell_type": "markdown",
   "metadata": {
    "id": "LaJ3g1mHsq10"
   },
   "source": [
    "#### ƒ: `create_model`"
   ]
  },
  {
   "cell_type": "code",
   "execution_count": 10,
   "metadata": {
    "ExecuteTime": {
     "end_time": "2021-07-12T14:50:01.771461Z",
     "start_time": "2021-07-12T14:50:01.758429Z"
    },
    "id": "3IsiXaDQsq10"
   },
   "outputs": [],
   "source": [
    "def create_model(data, cont, cat):\n",
    "    '''------\n",
    "    \n",
    "    * Creates a linear regression model using Statsmodels OLS\n",
    "    * Save the \n",
    "    \n",
    "    ---\n",
    "    \n",
    "    * Args:\n",
    "        * Data: dataframe as data source\n",
    "        * Cont: list of continuous variables\n",
    "        * Cat: list of categorical variables\n",
    "        * unique_id: UNIQUE name for the resulting model\n",
    "    \n",
    "    -----\n",
    "    '''\n",
    "\n",
    "    cont_features = '+'.join(cont)\n",
    "\n",
    "    cat_features = '+'.join([f'C({x})' for x in cat])\n",
    "\n",
    "    f = f'price~+{cont_features}+{cat_features}'\n",
    "\n",
    "    print(f)\n",
    "\n",
    "    model = smf.ols(formula=f, data=data).fit()\n",
    "   \n",
    "    diagnose_model(model)\n",
    "    \n",
    "    return model"
   ]
  },
  {
   "cell_type": "markdown",
   "metadata": {
    "id": "iSlurXWgsq10"
   },
   "source": [
    "#### ƒ: `diagnose_model`"
   ]
  },
  {
   "cell_type": "markdown",
   "metadata": {
    "id": "hGqMyxbBsq10"
   },
   "source": [
    ">* Create a function to:\n",
    ">  * Display the summary details of the model\n",
    ">  * Create a scatter plot of the predictions\n",
    ">    * Used for determining homoscedasticity\n",
    ">  * Create a Q-Q plot of the residuals of the model\n",
    ">    * Used to determine the normality of the residuals\n"
   ]
  },
  {
   "cell_type": "code",
   "execution_count": 11,
   "metadata": {
    "ExecuteTime": {
     "end_time": "2021-07-12T14:50:01.786429Z",
     "start_time": "2021-07-12T14:50:01.773428Z"
    },
    "id": "vFMurIdfsq10"
   },
   "outputs": [],
   "source": [
    "def diagnose_model(model, figsize=(10,5)):\n",
    "    \"\"\" ---\n",
    "    \n",
    "    Argument:\n",
    "        * model: provide the linear regression model for diagnostics\n",
    "    \n",
    "    Keyword Argument:\n",
    "        * figsize: default (10,5); can increase/decrease for larger/smaller\n",
    "    ---\n",
    "    \n",
    "    * Display the summary details of the provided model\n",
    "    * Create two scatter plots to test assumptions of linearity\n",
    "        * Predictions: verifying homoscedasticity (no cone-shapes)\n",
    "        * Residuals: confirming normal distribution of residuals\n",
    "    ---\n",
    "    \n",
    "    \"\"\"\n",
    "    display(model.summary())\n",
    "    \n",
    "    fig, axes = plt.subplots(ncols=2, figsize=figsize)\n",
    "\n",
    "    axes[0].scatter(model.predict(), model.resid)\n",
    "    axes[0].axhline()\n",
    "    axes[0].set_xlabel('Model Predictions')\n",
    "    axes[0].set_ylabel('Model Residuals')\n",
    "    axes[0].set_title('Testing for Homoscedasticity')\n",
    "\n",
    "    sms.graphics.qqplot(data=model.resid, fit=True, line = \"45\", ax=axes[1])\n",
    "    \n",
    "    plt.tight_layout()\n",
    "    \n",
    "    return"
   ]
  },
  {
   "cell_type": "markdown",
   "metadata": {
    "id": "pQGv8y3nsq11"
   },
   "source": [
    "#### ƒ: `plot_param_coef`"
   ]
  },
  {
   "cell_type": "markdown",
   "metadata": {
    "id": "SkuEUQrTsq11"
   },
   "source": [
    ">* Create a function to:\n",
    ">  * Get the model's coefficients as a series\n",
    ">  * Plot a figure to show the coefficients in descending order\n"
   ]
  },
  {
   "cell_type": "code",
   "execution_count": 12,
   "metadata": {
    "ExecuteTime": {
     "end_time": "2021-07-12T14:50:01.802455Z",
     "start_time": "2021-07-12T14:50:01.788428Z"
    },
    "id": "KsLO0Nx6sq11"
   },
   "outputs": [],
   "source": [
    "def plot_param_coef(model, kind = 'barh', figsize = (10,5)):\n",
    "    ''' ---\n",
    "    \n",
    "    * Plotting a figure to visualize parameter coefficients\n",
    "    \n",
    "    ---\n",
    "    \n",
    "    * Args:\n",
    "        * Model: linear regression model details to plot\n",
    "        \n",
    "    * Kwargs:\n",
    "        * Kind (default 'barh'): allows different types of plots\n",
    "        * Size (default (10,10)): allows for different sizes\n",
    "    ---\n",
    "    \n",
    "    '''\n",
    "    # Plotting figure to visualize parameter coefficients\n",
    "\n",
    "    ## Getting coefficients as a Series\n",
    "    params = model.params[1:]\n",
    "    params.sort_values(inplace=True)\n",
    "\n",
    "    plt.figure(figsize=figsize) # Used if large number of params\n",
    "    ax = params.plot(kind=kind)\n",
    "    ax.axvline()\n",
    "    ax.set_xlabel('Coefficient')\n",
    "    ax.set_ylabel('Features')\n",
    "    ax.set_title('Comparing Feature Coefficients')\n",
    "    \n",
    "    plt.tight_layout()\n",
    "    \n",
    "    return"
   ]
  },
  {
   "cell_type": "markdown",
   "metadata": {
    "id": "6h5r5Laasq11"
   },
   "source": [
    "#### ƒ: `plot_p_values`"
   ]
  },
  {
   "cell_type": "code",
   "execution_count": 13,
   "metadata": {
    "ExecuteTime": {
     "end_time": "2021-07-12T14:50:01.818455Z",
     "start_time": "2021-07-12T14:50:01.804430Z"
    },
    "id": "KAL7r60xsq11"
   },
   "outputs": [],
   "source": [
    "def plot_p_values(model, kind = 'barh', size = None, alpha = .05):\n",
    "    ''' ---\n",
    "    \n",
    "    * Plots a figure to visualize parameter p-values exceeding stated alpha.\n",
    "    \n",
    "    ---\n",
    "    \n",
    "    * Args:\n",
    "        * Model: linear regression model details to plot\n",
    "        \n",
    "    * Kwargs:\n",
    "        * Kind (default 'barh'): allows different types of plots\n",
    "        * Size (default None): allows for different sizes\n",
    "    ---\n",
    "    \n",
    "    '''\n",
    "    \n",
    "    pv = model.pvalues[1:]\n",
    "    pv_high = pv[pv > alpha]\n",
    "    pv_low = pv[pv <= alpha]\n",
    "    pv_high.sort_values(ascending=False, inplace=True)\n",
    "    \n",
    "    if len(pv_high) > 0:\n",
    "        plt.figure(figsize=size) # Used if large number of params\n",
    "        ax = pv_high.plot(kind=kind)\n",
    "        ax = pv_low.plot(kind=kind)\n",
    "        ax.axvline()\n",
    "        plt.suptitle(f'P-Values')\n",
    "        \n",
    "    if len(pv_low) > 0:\n",
    "        plt.figure(figsize=size) # Used if large number of params\n",
    "        ax = pv_low.plot(kind=kind)\n",
    "        ax.axvline()\n",
    "        plt.suptitle(f'P-Values Below {alpha}')        \n",
    "        \n",
    "#     else:\n",
    "#         print(f'There are no p-values above {alpha}.')\n",
    "        \n",
    "    plt.tight_layout()\n",
    "    \n",
    "    return"
   ]
  },
  {
   "cell_type": "markdown",
   "metadata": {
    "id": "vDlSAelusq12"
   },
   "source": [
    "#### ƒ: `review_model`"
   ]
  },
  {
   "cell_type": "code",
   "execution_count": 14,
   "metadata": {
    "ExecuteTime": {
     "end_time": "2021-07-12T14:50:01.834452Z",
     "start_time": "2021-07-12T14:50:01.820430Z"
    },
    "id": "oNq7svFbsq12"
   },
   "outputs": [],
   "source": [
    "def review_model(model):\n",
    "    '''---\n",
    "    \n",
    "    Combines earlier functions into one all-purpose function for reviewing\n",
    "    model performance.\n",
    "    \n",
    "    ---\n",
    "    \n",
    "    Arg:\n",
    "        * model: Specify model to review.\n",
    "        \n",
    "    ---'''\n",
    "    \n",
    "    diagnose_model(model)\n",
    "    \n",
    "    plot_param_coef(model)\n",
    "    \n",
    "    plot_p_values(model)\n",
    "    \n",
    "    return    "
   ]
  },
  {
   "cell_type": "markdown",
   "metadata": {
    "id": "z6WjRioGsq12"
   },
   "source": [
    "## Reading Data"
   ]
  },
  {
   "cell_type": "code",
   "execution_count": 15,
   "metadata": {
    "ExecuteTime": {
     "end_time": "2021-07-12T14:50:01.849454Z",
     "start_time": "2021-07-12T14:50:01.837428Z"
    },
    "id": "GJa2-z9iuCWF"
   },
   "outputs": [],
   "source": [
    "# old_data = 'https://raw.githubusercontent.com/BenJMcCarty/Phase_2_Project_Final/main/kc_house_data_train.csv'\n",
    "\n",
    "new_data = 'https://raw.githubusercontent.com/BenJMcCarty/king_county_housing/main/data/kc_house_data.csv'"
   ]
  },
  {
   "cell_type": "code",
   "execution_count": 16,
   "metadata": {
    "ExecuteTime": {
     "end_time": "2021-07-12T14:50:03.688740Z",
     "start_time": "2021-07-12T14:50:01.851429Z"
    },
    "id": "O0NN2C4ysq12"
   },
   "outputs": [],
   "source": [
    "df= pd.read_csv(new_data, index_col=0)"
   ]
  },
  {
   "cell_type": "markdown",
   "metadata": {
    "id": "Nd8bcFoVsq12"
   },
   "source": [
    "# **Exploring Fresh Data**"
   ]
  },
  {
   "cell_type": "markdown",
   "metadata": {
    "id": "ABcBsWZusq12"
   },
   "source": [
    "## Basic Overviews"
   ]
  },
  {
   "cell_type": "markdown",
   "metadata": {
    "id": "KViKvrsBsq12"
   },
   "source": [
    "The goal for this section is to get a broad idea of the data before I start any cleaning or feature engineering."
   ]
  },
  {
   "cell_type": "code",
   "execution_count": 17,
   "metadata": {
    "ExecuteTime": {
     "end_time": "2021-07-12T14:50:03.720636Z",
     "start_time": "2021-07-12T14:50:03.691595Z"
    },
    "colab": {
     "base_uri": "https://localhost:8080/",
     "height": 255
    },
    "id": "Ftg2a7Ivsq13",
    "outputId": "881da1ae-4997-4de2-87b8-42dc402f41a7"
   },
   "outputs": [
    {
     "data": {
      "text/html": [
       "<div>\n",
       "<style scoped>\n",
       "    .dataframe tbody tr th:only-of-type {\n",
       "        vertical-align: middle;\n",
       "    }\n",
       "\n",
       "    .dataframe tbody tr th {\n",
       "        vertical-align: top;\n",
       "    }\n",
       "\n",
       "    .dataframe thead th {\n",
       "        text-align: right;\n",
       "    }\n",
       "</style>\n",
       "<table border=\"1\" class=\"dataframe\">\n",
       "  <thead>\n",
       "    <tr style=\"text-align: right;\">\n",
       "      <th></th>\n",
       "      <th>date</th>\n",
       "      <th>price</th>\n",
       "      <th>bedrooms</th>\n",
       "      <th>bathrooms</th>\n",
       "      <th>sqft_living</th>\n",
       "      <th>sqft_lot</th>\n",
       "      <th>floors</th>\n",
       "      <th>waterfront</th>\n",
       "      <th>view</th>\n",
       "      <th>condition</th>\n",
       "      <th>grade</th>\n",
       "      <th>sqft_above</th>\n",
       "      <th>sqft_basement</th>\n",
       "      <th>yr_built</th>\n",
       "      <th>yr_renovated</th>\n",
       "      <th>zipcode</th>\n",
       "      <th>lat</th>\n",
       "      <th>long</th>\n",
       "      <th>sqft_living15</th>\n",
       "      <th>sqft_lot15</th>\n",
       "    </tr>\n",
       "    <tr>\n",
       "      <th>id</th>\n",
       "      <th></th>\n",
       "      <th></th>\n",
       "      <th></th>\n",
       "      <th></th>\n",
       "      <th></th>\n",
       "      <th></th>\n",
       "      <th></th>\n",
       "      <th></th>\n",
       "      <th></th>\n",
       "      <th></th>\n",
       "      <th></th>\n",
       "      <th></th>\n",
       "      <th></th>\n",
       "      <th></th>\n",
       "      <th></th>\n",
       "      <th></th>\n",
       "      <th></th>\n",
       "      <th></th>\n",
       "      <th></th>\n",
       "      <th></th>\n",
       "    </tr>\n",
       "  </thead>\n",
       "  <tbody>\n",
       "    <tr>\n",
       "      <th>7129300520</th>\n",
       "      <td>10/13/2014</td>\n",
       "      <td>221900.0</td>\n",
       "      <td>3</td>\n",
       "      <td>1.00</td>\n",
       "      <td>1180</td>\n",
       "      <td>5650</td>\n",
       "      <td>1.0</td>\n",
       "      <td>NaN</td>\n",
       "      <td>0.0</td>\n",
       "      <td>3</td>\n",
       "      <td>7</td>\n",
       "      <td>1180</td>\n",
       "      <td>0.0</td>\n",
       "      <td>1955</td>\n",
       "      <td>0.0</td>\n",
       "      <td>98178</td>\n",
       "      <td>47.5112</td>\n",
       "      <td>-122.257</td>\n",
       "      <td>1340</td>\n",
       "      <td>5650</td>\n",
       "    </tr>\n",
       "    <tr>\n",
       "      <th>6414100192</th>\n",
       "      <td>12/9/2014</td>\n",
       "      <td>538000.0</td>\n",
       "      <td>3</td>\n",
       "      <td>2.25</td>\n",
       "      <td>2570</td>\n",
       "      <td>7242</td>\n",
       "      <td>2.0</td>\n",
       "      <td>0.0</td>\n",
       "      <td>0.0</td>\n",
       "      <td>3</td>\n",
       "      <td>7</td>\n",
       "      <td>2170</td>\n",
       "      <td>400.0</td>\n",
       "      <td>1951</td>\n",
       "      <td>1991.0</td>\n",
       "      <td>98125</td>\n",
       "      <td>47.7210</td>\n",
       "      <td>-122.319</td>\n",
       "      <td>1690</td>\n",
       "      <td>7639</td>\n",
       "    </tr>\n",
       "    <tr>\n",
       "      <th>5631500400</th>\n",
       "      <td>2/25/2015</td>\n",
       "      <td>180000.0</td>\n",
       "      <td>2</td>\n",
       "      <td>1.00</td>\n",
       "      <td>770</td>\n",
       "      <td>10000</td>\n",
       "      <td>1.0</td>\n",
       "      <td>0.0</td>\n",
       "      <td>0.0</td>\n",
       "      <td>3</td>\n",
       "      <td>6</td>\n",
       "      <td>770</td>\n",
       "      <td>0.0</td>\n",
       "      <td>1933</td>\n",
       "      <td>NaN</td>\n",
       "      <td>98028</td>\n",
       "      <td>47.7379</td>\n",
       "      <td>-122.233</td>\n",
       "      <td>2720</td>\n",
       "      <td>8062</td>\n",
       "    </tr>\n",
       "    <tr>\n",
       "      <th>2487200875</th>\n",
       "      <td>12/9/2014</td>\n",
       "      <td>604000.0</td>\n",
       "      <td>4</td>\n",
       "      <td>3.00</td>\n",
       "      <td>1960</td>\n",
       "      <td>5000</td>\n",
       "      <td>1.0</td>\n",
       "      <td>0.0</td>\n",
       "      <td>0.0</td>\n",
       "      <td>5</td>\n",
       "      <td>7</td>\n",
       "      <td>1050</td>\n",
       "      <td>910.0</td>\n",
       "      <td>1965</td>\n",
       "      <td>0.0</td>\n",
       "      <td>98136</td>\n",
       "      <td>47.5208</td>\n",
       "      <td>-122.393</td>\n",
       "      <td>1360</td>\n",
       "      <td>5000</td>\n",
       "    </tr>\n",
       "    <tr>\n",
       "      <th>1954400510</th>\n",
       "      <td>2/18/2015</td>\n",
       "      <td>510000.0</td>\n",
       "      <td>3</td>\n",
       "      <td>2.00</td>\n",
       "      <td>1680</td>\n",
       "      <td>8080</td>\n",
       "      <td>1.0</td>\n",
       "      <td>0.0</td>\n",
       "      <td>0.0</td>\n",
       "      <td>3</td>\n",
       "      <td>8</td>\n",
       "      <td>1680</td>\n",
       "      <td>0.0</td>\n",
       "      <td>1987</td>\n",
       "      <td>0.0</td>\n",
       "      <td>98074</td>\n",
       "      <td>47.6168</td>\n",
       "      <td>-122.045</td>\n",
       "      <td>1800</td>\n",
       "      <td>7503</td>\n",
       "    </tr>\n",
       "  </tbody>\n",
       "</table>\n",
       "</div>"
      ],
      "text/plain": [
       "                  date     price  bedrooms  bathrooms  sqft_living  sqft_lot  \\\n",
       "id                                                                             \n",
       "7129300520  10/13/2014  221900.0         3       1.00         1180      5650   \n",
       "6414100192   12/9/2014  538000.0         3       2.25         2570      7242   \n",
       "5631500400   2/25/2015  180000.0         2       1.00          770     10000   \n",
       "2487200875   12/9/2014  604000.0         4       3.00         1960      5000   \n",
       "1954400510   2/18/2015  510000.0         3       2.00         1680      8080   \n",
       "\n",
       "            floors  waterfront  view  condition  grade  sqft_above  \\\n",
       "id                                                                   \n",
       "7129300520     1.0         NaN   0.0          3      7        1180   \n",
       "6414100192     2.0         0.0   0.0          3      7        2170   \n",
       "5631500400     1.0         0.0   0.0          3      6         770   \n",
       "2487200875     1.0         0.0   0.0          5      7        1050   \n",
       "1954400510     1.0         0.0   0.0          3      8        1680   \n",
       "\n",
       "           sqft_basement  yr_built  yr_renovated  zipcode      lat     long  \\\n",
       "id                                                                            \n",
       "7129300520           0.0      1955           0.0    98178  47.5112 -122.257   \n",
       "6414100192         400.0      1951        1991.0    98125  47.7210 -122.319   \n",
       "5631500400           0.0      1933           NaN    98028  47.7379 -122.233   \n",
       "2487200875         910.0      1965           0.0    98136  47.5208 -122.393   \n",
       "1954400510           0.0      1987           0.0    98074  47.6168 -122.045   \n",
       "\n",
       "            sqft_living15  sqft_lot15  \n",
       "id                                     \n",
       "7129300520           1340        5650  \n",
       "6414100192           1690        7639  \n",
       "5631500400           2720        8062  \n",
       "2487200875           1360        5000  \n",
       "1954400510           1800        7503  "
      ]
     },
     "execution_count": 17,
     "metadata": {},
     "output_type": "execute_result"
    }
   ],
   "source": [
    "df.head()"
   ]
  },
  {
   "cell_type": "code",
   "execution_count": 18,
   "metadata": {
    "ExecuteTime": {
     "end_time": "2021-07-12T14:50:03.845624Z",
     "start_time": "2021-07-12T14:50:03.723597Z"
    },
    "colab": {
     "background_save": true
    },
    "id": "9KY_8DSasq13",
    "outputId": "c14f735d-e743-4955-f104-ae82bd334268"
   },
   "outputs": [
    {
     "data": {
      "text/html": [
       "<div>\n",
       "<style scoped>\n",
       "    .dataframe tbody tr th:only-of-type {\n",
       "        vertical-align: middle;\n",
       "    }\n",
       "\n",
       "    .dataframe tbody tr th {\n",
       "        vertical-align: top;\n",
       "    }\n",
       "\n",
       "    .dataframe thead th {\n",
       "        text-align: right;\n",
       "    }\n",
       "</style>\n",
       "<table border=\"1\" class=\"dataframe\">\n",
       "  <thead>\n",
       "    <tr style=\"text-align: right;\">\n",
       "      <th></th>\n",
       "      <th>count</th>\n",
       "      <th>mean</th>\n",
       "      <th>std</th>\n",
       "      <th>min</th>\n",
       "      <th>25%</th>\n",
       "      <th>50%</th>\n",
       "      <th>75%</th>\n",
       "      <th>max</th>\n",
       "      <th>num_unique</th>\n",
       "      <th>DTypes</th>\n",
       "      <th>NaN_sum</th>\n",
       "      <th>NaN_pct</th>\n",
       "    </tr>\n",
       "  </thead>\n",
       "  <tbody>\n",
       "    <tr>\n",
       "      <th>price</th>\n",
       "      <td>21597.0</td>\n",
       "      <td>540296.573506</td>\n",
       "      <td>367368.140101</td>\n",
       "      <td>78000.0000</td>\n",
       "      <td>322000.0000</td>\n",
       "      <td>450000.0000</td>\n",
       "      <td>645000.000</td>\n",
       "      <td>7.700000e+06</td>\n",
       "      <td>3622</td>\n",
       "      <td>float64</td>\n",
       "      <td>0</td>\n",
       "      <td>0.000000</td>\n",
       "    </tr>\n",
       "    <tr>\n",
       "      <th>bedrooms</th>\n",
       "      <td>21597.0</td>\n",
       "      <td>3.373200</td>\n",
       "      <td>0.926299</td>\n",
       "      <td>1.0000</td>\n",
       "      <td>3.0000</td>\n",
       "      <td>3.0000</td>\n",
       "      <td>4.000</td>\n",
       "      <td>3.300000e+01</td>\n",
       "      <td>12</td>\n",
       "      <td>int64</td>\n",
       "      <td>0</td>\n",
       "      <td>0.000000</td>\n",
       "    </tr>\n",
       "    <tr>\n",
       "      <th>bathrooms</th>\n",
       "      <td>21597.0</td>\n",
       "      <td>2.115826</td>\n",
       "      <td>0.768984</td>\n",
       "      <td>0.5000</td>\n",
       "      <td>1.7500</td>\n",
       "      <td>2.2500</td>\n",
       "      <td>2.500</td>\n",
       "      <td>8.000000e+00</td>\n",
       "      <td>29</td>\n",
       "      <td>float64</td>\n",
       "      <td>0</td>\n",
       "      <td>0.000000</td>\n",
       "    </tr>\n",
       "    <tr>\n",
       "      <th>sqft_living</th>\n",
       "      <td>21597.0</td>\n",
       "      <td>2080.321850</td>\n",
       "      <td>918.106125</td>\n",
       "      <td>370.0000</td>\n",
       "      <td>1430.0000</td>\n",
       "      <td>1910.0000</td>\n",
       "      <td>2550.000</td>\n",
       "      <td>1.354000e+04</td>\n",
       "      <td>1034</td>\n",
       "      <td>int64</td>\n",
       "      <td>0</td>\n",
       "      <td>0.000000</td>\n",
       "    </tr>\n",
       "    <tr>\n",
       "      <th>sqft_lot</th>\n",
       "      <td>21597.0</td>\n",
       "      <td>15099.408760</td>\n",
       "      <td>41412.636876</td>\n",
       "      <td>520.0000</td>\n",
       "      <td>5040.0000</td>\n",
       "      <td>7618.0000</td>\n",
       "      <td>10685.000</td>\n",
       "      <td>1.651359e+06</td>\n",
       "      <td>9776</td>\n",
       "      <td>int64</td>\n",
       "      <td>0</td>\n",
       "      <td>0.000000</td>\n",
       "    </tr>\n",
       "    <tr>\n",
       "      <th>floors</th>\n",
       "      <td>21597.0</td>\n",
       "      <td>1.494096</td>\n",
       "      <td>0.539683</td>\n",
       "      <td>1.0000</td>\n",
       "      <td>1.0000</td>\n",
       "      <td>1.5000</td>\n",
       "      <td>2.000</td>\n",
       "      <td>3.500000e+00</td>\n",
       "      <td>6</td>\n",
       "      <td>float64</td>\n",
       "      <td>0</td>\n",
       "      <td>0.000000</td>\n",
       "    </tr>\n",
       "    <tr>\n",
       "      <th>waterfront</th>\n",
       "      <td>19221.0</td>\n",
       "      <td>0.007596</td>\n",
       "      <td>0.086825</td>\n",
       "      <td>0.0000</td>\n",
       "      <td>0.0000</td>\n",
       "      <td>0.0000</td>\n",
       "      <td>0.000</td>\n",
       "      <td>1.000000e+00</td>\n",
       "      <td>2</td>\n",
       "      <td>float64</td>\n",
       "      <td>2376</td>\n",
       "      <td>0.110015</td>\n",
       "    </tr>\n",
       "    <tr>\n",
       "      <th>view</th>\n",
       "      <td>21534.0</td>\n",
       "      <td>0.233863</td>\n",
       "      <td>0.765686</td>\n",
       "      <td>0.0000</td>\n",
       "      <td>0.0000</td>\n",
       "      <td>0.0000</td>\n",
       "      <td>0.000</td>\n",
       "      <td>4.000000e+00</td>\n",
       "      <td>5</td>\n",
       "      <td>float64</td>\n",
       "      <td>63</td>\n",
       "      <td>0.002917</td>\n",
       "    </tr>\n",
       "    <tr>\n",
       "      <th>condition</th>\n",
       "      <td>21597.0</td>\n",
       "      <td>3.409825</td>\n",
       "      <td>0.650546</td>\n",
       "      <td>1.0000</td>\n",
       "      <td>3.0000</td>\n",
       "      <td>3.0000</td>\n",
       "      <td>4.000</td>\n",
       "      <td>5.000000e+00</td>\n",
       "      <td>5</td>\n",
       "      <td>int64</td>\n",
       "      <td>0</td>\n",
       "      <td>0.000000</td>\n",
       "    </tr>\n",
       "    <tr>\n",
       "      <th>grade</th>\n",
       "      <td>21597.0</td>\n",
       "      <td>7.657915</td>\n",
       "      <td>1.173200</td>\n",
       "      <td>3.0000</td>\n",
       "      <td>7.0000</td>\n",
       "      <td>7.0000</td>\n",
       "      <td>8.000</td>\n",
       "      <td>1.300000e+01</td>\n",
       "      <td>11</td>\n",
       "      <td>int64</td>\n",
       "      <td>0</td>\n",
       "      <td>0.000000</td>\n",
       "    </tr>\n",
       "    <tr>\n",
       "      <th>sqft_above</th>\n",
       "      <td>21597.0</td>\n",
       "      <td>1788.596842</td>\n",
       "      <td>827.759761</td>\n",
       "      <td>370.0000</td>\n",
       "      <td>1190.0000</td>\n",
       "      <td>1560.0000</td>\n",
       "      <td>2210.000</td>\n",
       "      <td>9.410000e+03</td>\n",
       "      <td>942</td>\n",
       "      <td>int64</td>\n",
       "      <td>0</td>\n",
       "      <td>0.000000</td>\n",
       "    </tr>\n",
       "    <tr>\n",
       "      <th>yr_built</th>\n",
       "      <td>21597.0</td>\n",
       "      <td>1970.999676</td>\n",
       "      <td>29.375234</td>\n",
       "      <td>1900.0000</td>\n",
       "      <td>1951.0000</td>\n",
       "      <td>1975.0000</td>\n",
       "      <td>1997.000</td>\n",
       "      <td>2.015000e+03</td>\n",
       "      <td>116</td>\n",
       "      <td>int64</td>\n",
       "      <td>0</td>\n",
       "      <td>0.000000</td>\n",
       "    </tr>\n",
       "    <tr>\n",
       "      <th>yr_renovated</th>\n",
       "      <td>17755.0</td>\n",
       "      <td>83.636778</td>\n",
       "      <td>399.946414</td>\n",
       "      <td>0.0000</td>\n",
       "      <td>0.0000</td>\n",
       "      <td>0.0000</td>\n",
       "      <td>0.000</td>\n",
       "      <td>2.015000e+03</td>\n",
       "      <td>70</td>\n",
       "      <td>float64</td>\n",
       "      <td>3842</td>\n",
       "      <td>0.177895</td>\n",
       "    </tr>\n",
       "    <tr>\n",
       "      <th>zipcode</th>\n",
       "      <td>21597.0</td>\n",
       "      <td>98077.951845</td>\n",
       "      <td>53.513072</td>\n",
       "      <td>98001.0000</td>\n",
       "      <td>98033.0000</td>\n",
       "      <td>98065.0000</td>\n",
       "      <td>98118.000</td>\n",
       "      <td>9.819900e+04</td>\n",
       "      <td>70</td>\n",
       "      <td>int64</td>\n",
       "      <td>0</td>\n",
       "      <td>0.000000</td>\n",
       "    </tr>\n",
       "    <tr>\n",
       "      <th>lat</th>\n",
       "      <td>21597.0</td>\n",
       "      <td>47.560093</td>\n",
       "      <td>0.138552</td>\n",
       "      <td>47.1559</td>\n",
       "      <td>47.4711</td>\n",
       "      <td>47.5718</td>\n",
       "      <td>47.678</td>\n",
       "      <td>4.777760e+01</td>\n",
       "      <td>5033</td>\n",
       "      <td>float64</td>\n",
       "      <td>0</td>\n",
       "      <td>0.000000</td>\n",
       "    </tr>\n",
       "    <tr>\n",
       "      <th>long</th>\n",
       "      <td>21597.0</td>\n",
       "      <td>-122.213982</td>\n",
       "      <td>0.140724</td>\n",
       "      <td>-122.5190</td>\n",
       "      <td>-122.3280</td>\n",
       "      <td>-122.2310</td>\n",
       "      <td>-122.125</td>\n",
       "      <td>-1.213150e+02</td>\n",
       "      <td>751</td>\n",
       "      <td>float64</td>\n",
       "      <td>0</td>\n",
       "      <td>0.000000</td>\n",
       "    </tr>\n",
       "    <tr>\n",
       "      <th>sqft_living15</th>\n",
       "      <td>21597.0</td>\n",
       "      <td>1986.620318</td>\n",
       "      <td>685.230472</td>\n",
       "      <td>399.0000</td>\n",
       "      <td>1490.0000</td>\n",
       "      <td>1840.0000</td>\n",
       "      <td>2360.000</td>\n",
       "      <td>6.210000e+03</td>\n",
       "      <td>777</td>\n",
       "      <td>int64</td>\n",
       "      <td>0</td>\n",
       "      <td>0.000000</td>\n",
       "    </tr>\n",
       "    <tr>\n",
       "      <th>sqft_lot15</th>\n",
       "      <td>21597.0</td>\n",
       "      <td>12758.283512</td>\n",
       "      <td>27274.441950</td>\n",
       "      <td>651.0000</td>\n",
       "      <td>5100.0000</td>\n",
       "      <td>7620.0000</td>\n",
       "      <td>10083.000</td>\n",
       "      <td>8.712000e+05</td>\n",
       "      <td>8682</td>\n",
       "      <td>int64</td>\n",
       "      <td>0</td>\n",
       "      <td>0.000000</td>\n",
       "    </tr>\n",
       "    <tr>\n",
       "      <th>date</th>\n",
       "      <td>NaN</td>\n",
       "      <td>NaN</td>\n",
       "      <td>NaN</td>\n",
       "      <td>NaN</td>\n",
       "      <td>NaN</td>\n",
       "      <td>NaN</td>\n",
       "      <td>NaN</td>\n",
       "      <td>NaN</td>\n",
       "      <td>372</td>\n",
       "      <td>object</td>\n",
       "      <td>0</td>\n",
       "      <td>0.000000</td>\n",
       "    </tr>\n",
       "    <tr>\n",
       "      <th>sqft_basement</th>\n",
       "      <td>NaN</td>\n",
       "      <td>NaN</td>\n",
       "      <td>NaN</td>\n",
       "      <td>NaN</td>\n",
       "      <td>NaN</td>\n",
       "      <td>NaN</td>\n",
       "      <td>NaN</td>\n",
       "      <td>NaN</td>\n",
       "      <td>304</td>\n",
       "      <td>object</td>\n",
       "      <td>0</td>\n",
       "      <td>0.000000</td>\n",
       "    </tr>\n",
       "  </tbody>\n",
       "</table>\n",
       "</div>"
      ],
      "text/plain": [
       "                 count           mean            std         min          25%  \\\n",
       "price          21597.0  540296.573506  367368.140101  78000.0000  322000.0000   \n",
       "bedrooms       21597.0       3.373200       0.926299      1.0000       3.0000   \n",
       "bathrooms      21597.0       2.115826       0.768984      0.5000       1.7500   \n",
       "sqft_living    21597.0    2080.321850     918.106125    370.0000    1430.0000   \n",
       "sqft_lot       21597.0   15099.408760   41412.636876    520.0000    5040.0000   \n",
       "floors         21597.0       1.494096       0.539683      1.0000       1.0000   \n",
       "waterfront     19221.0       0.007596       0.086825      0.0000       0.0000   \n",
       "view           21534.0       0.233863       0.765686      0.0000       0.0000   \n",
       "condition      21597.0       3.409825       0.650546      1.0000       3.0000   \n",
       "grade          21597.0       7.657915       1.173200      3.0000       7.0000   \n",
       "sqft_above     21597.0    1788.596842     827.759761    370.0000    1190.0000   \n",
       "yr_built       21597.0    1970.999676      29.375234   1900.0000    1951.0000   \n",
       "yr_renovated   17755.0      83.636778     399.946414      0.0000       0.0000   \n",
       "zipcode        21597.0   98077.951845      53.513072  98001.0000   98033.0000   \n",
       "lat            21597.0      47.560093       0.138552     47.1559      47.4711   \n",
       "long           21597.0    -122.213982       0.140724   -122.5190    -122.3280   \n",
       "sqft_living15  21597.0    1986.620318     685.230472    399.0000    1490.0000   \n",
       "sqft_lot15     21597.0   12758.283512   27274.441950    651.0000    5100.0000   \n",
       "date               NaN            NaN            NaN         NaN          NaN   \n",
       "sqft_basement      NaN            NaN            NaN         NaN          NaN   \n",
       "\n",
       "                       50%         75%           max  num_unique   DTypes  \\\n",
       "price          450000.0000  645000.000  7.700000e+06        3622  float64   \n",
       "bedrooms            3.0000       4.000  3.300000e+01          12    int64   \n",
       "bathrooms           2.2500       2.500  8.000000e+00          29  float64   \n",
       "sqft_living      1910.0000    2550.000  1.354000e+04        1034    int64   \n",
       "sqft_lot         7618.0000   10685.000  1.651359e+06        9776    int64   \n",
       "floors              1.5000       2.000  3.500000e+00           6  float64   \n",
       "waterfront          0.0000       0.000  1.000000e+00           2  float64   \n",
       "view                0.0000       0.000  4.000000e+00           5  float64   \n",
       "condition           3.0000       4.000  5.000000e+00           5    int64   \n",
       "grade               7.0000       8.000  1.300000e+01          11    int64   \n",
       "sqft_above       1560.0000    2210.000  9.410000e+03         942    int64   \n",
       "yr_built         1975.0000    1997.000  2.015000e+03         116    int64   \n",
       "yr_renovated        0.0000       0.000  2.015000e+03          70  float64   \n",
       "zipcode         98065.0000   98118.000  9.819900e+04          70    int64   \n",
       "lat                47.5718      47.678  4.777760e+01        5033  float64   \n",
       "long             -122.2310    -122.125 -1.213150e+02         751  float64   \n",
       "sqft_living15    1840.0000    2360.000  6.210000e+03         777    int64   \n",
       "sqft_lot15       7620.0000   10083.000  8.712000e+05        8682    int64   \n",
       "date                   NaN         NaN           NaN         372   object   \n",
       "sqft_basement          NaN         NaN           NaN         304   object   \n",
       "\n",
       "               NaN_sum   NaN_pct  \n",
       "price                0  0.000000  \n",
       "bedrooms             0  0.000000  \n",
       "bathrooms            0  0.000000  \n",
       "sqft_living          0  0.000000  \n",
       "sqft_lot             0  0.000000  \n",
       "floors               0  0.000000  \n",
       "waterfront        2376  0.110015  \n",
       "view                63  0.002917  \n",
       "condition            0  0.000000  \n",
       "grade                0  0.000000  \n",
       "sqft_above           0  0.000000  \n",
       "yr_built             0  0.000000  \n",
       "yr_renovated      3842  0.177895  \n",
       "zipcode              0  0.000000  \n",
       "lat                  0  0.000000  \n",
       "long                 0  0.000000  \n",
       "sqft_living15        0  0.000000  \n",
       "sqft_lot15           0  0.000000  \n",
       "date                 0  0.000000  \n",
       "sqft_basement        0  0.000000  "
      ]
     },
     "execution_count": 18,
     "metadata": {},
     "output_type": "execute_result"
    }
   ],
   "source": [
    "## Create dataframe to review the number of unique values, each column's dataype,\n",
    "## the number of null values, and the percentage of null values in each column\n",
    "\n",
    "report_df = pd.DataFrame({'num_unique':df.nunique(),\n",
    "              'DTypes':df.dtypes,\n",
    "              'NaN_sum':df.isna().sum(),\n",
    "              'NaN_pct':df.isna().sum()/len(df)})\n",
    "\n",
    "pd.concat([df.describe().T,report_df], axis=1)"
   ]
  },
  {
   "cell_type": "markdown",
   "metadata": {
    "id": "wOmmqD7koDQi"
   },
   "source": [
    "## Data Cleaning and Processing"
   ]
  },
  {
   "cell_type": "markdown",
   "metadata": {
    "id": "81U2WYpRsq14"
   },
   "source": [
    "**DF Columns to Convert**\n",
    "\n",
    "* 'date' to datetime; continuous variable\n",
    "* 'waterfront' to category; discrete/categorical variable\n",
    "* 'view' to category; discrete/categorical\n",
    "* 'condition' to category; discrete/categorical variable\n",
    "* 'grade' to category; discrete/categorical variable\n",
    "* 'zipcode' to category; discrete/categorical variable\n",
    "\n",
    "**Null Values to Process**\n",
    "* 'yr_renovated'\n",
    "    - check against yr_built; if diff == 0, then fill with zero\n",
    "    - If diff > 0, determine h2 fillna\n",
    "* 'waterfront' - ColXF, KNN/ItImp\n",
    "* 'view' - ColXF, KNN/ItImp"
   ]
  },
  {
   "cell_type": "code",
   "execution_count": 19,
   "metadata": {
    "ExecuteTime": {
     "end_time": "2021-07-12T14:50:03.893629Z",
     "start_time": "2021-07-12T14:50:03.848599Z"
    },
    "colab": {
     "base_uri": "https://localhost:8080/"
    },
    "id": "NK_VFrBh6-Q1",
    "outputId": "5cfa8293-6e19-435c-ddf8-84aa3ca622d7"
   },
   "outputs": [
    {
     "data": {
      "text/plain": [
       "id\n",
       "7129300520   2014-10-13\n",
       "6414100192   2014-12-09\n",
       "5631500400   2015-02-25\n",
       "2487200875   2014-12-09\n",
       "1954400510   2015-02-18\n",
       "                ...    \n",
       "263000018    2014-05-21\n",
       "6600060120   2015-02-23\n",
       "1523300141   2014-06-23\n",
       "291310100    2015-01-16\n",
       "1523300157   2014-10-15\n",
       "Name: date, Length: 21597, dtype: datetime64[ns]"
      ]
     },
     "execution_count": 19,
     "metadata": {},
     "output_type": "execute_result"
    }
   ],
   "source": [
    "## Converting 'date' column to datetime\n",
    "\n",
    "df['date'] = pd.to_datetime(df['date'])\n",
    "df['date']"
   ]
  },
  {
   "cell_type": "code",
   "execution_count": 21,
   "metadata": {
    "ExecuteTime": {
     "end_time": "2021-07-12T14:50:28.912626Z",
     "start_time": "2021-07-12T14:50:28.893627Z"
    },
    "colab": {
     "base_uri": "https://localhost:8080/"
    },
    "id": "dBgOkFsVChMH",
    "outputId": "966e713c-4e28-44ee-bbab-129181812a3d"
   },
   "outputs": [
    {
     "name": "stdout",
     "output_type": "stream",
     "text": [
      "There are 0 null values.\n",
      "\n"
     ]
    },
    {
     "data": {
      "text/plain": [
       "0.0       13280\n",
       "600.0       217\n",
       "500.0       209\n",
       "700.0       208\n",
       "800.0       201\n",
       "          ...  \n",
       "915.0         1\n",
       "295.0         1\n",
       "1281.0        1\n",
       "2130.0        1\n",
       "906.0         1\n",
       "Name: sqft_basement, Length: 303, dtype: int64"
      ]
     },
     "execution_count": 21,
     "metadata": {},
     "output_type": "execute_result"
    }
   ],
   "source": [
    "## Converting 'sqft_basement' to numeric and filling any null values with zero\n",
    "df['sqft_basement'] = pd.to_numeric(df['sqft_basement'], errors='coerce')\n",
    "df['sqft_basement'].fillna('0', inplace=True)\n",
    "print(f'There are {df[\"sqft_basement\"].isna().sum()} null values.\\n')\n",
    "df['sqft_basement'].value_counts()"
   ]
  },
  {
   "cell_type": "code",
   "execution_count": 22,
   "metadata": {
    "ExecuteTime": {
     "end_time": "2021-07-12T14:50:40.108792Z",
     "start_time": "2021-07-12T14:50:40.096792Z"
    },
    "colab": {
     "base_uri": "https://localhost:8080/"
    },
    "id": "iK2SiCjpsq14",
    "outputId": "7d56b9fe-6276-4ff5-b059-563c8b82c36b",
    "scrolled": true
   },
   "outputs": [
    {
     "data": {
      "text/plain": [
       "0.0    19422\n",
       "2.0      957\n",
       "3.0      508\n",
       "1.0      330\n",
       "4.0      317\n",
       "Name: view, dtype: int64"
      ]
     },
     "execution_count": 22,
     "metadata": {},
     "output_type": "execute_result"
    }
   ],
   "source": [
    "df['view'].value_counts()"
   ]
  },
  {
   "cell_type": "code",
   "execution_count": 23,
   "metadata": {
    "ExecuteTime": {
     "end_time": "2021-07-12T14:50:40.623762Z",
     "start_time": "2021-07-12T14:50:40.519765Z"
    },
    "colab": {
     "base_uri": "https://localhost:8080/",
     "height": 669
    },
    "id": "bK_EKire6g3O",
    "outputId": "51496c6c-8c9b-4359-a60d-f0d560eb2dc1"
   },
   "outputs": [
    {
     "data": {
      "text/html": [
       "<div>\n",
       "<style scoped>\n",
       "    .dataframe tbody tr th:only-of-type {\n",
       "        vertical-align: middle;\n",
       "    }\n",
       "\n",
       "    .dataframe tbody tr th {\n",
       "        vertical-align: top;\n",
       "    }\n",
       "\n",
       "    .dataframe thead th {\n",
       "        text-align: right;\n",
       "    }\n",
       "</style>\n",
       "<table border=\"1\" class=\"dataframe\">\n",
       "  <thead>\n",
       "    <tr style=\"text-align: right;\">\n",
       "      <th></th>\n",
       "      <th>count</th>\n",
       "      <th>mean</th>\n",
       "      <th>std</th>\n",
       "      <th>min</th>\n",
       "      <th>25%</th>\n",
       "      <th>50%</th>\n",
       "      <th>75%</th>\n",
       "      <th>max</th>\n",
       "      <th>num_unique</th>\n",
       "      <th>DTypes</th>\n",
       "      <th>NaN_sum</th>\n",
       "      <th>NaN_pct</th>\n",
       "    </tr>\n",
       "  </thead>\n",
       "  <tbody>\n",
       "    <tr>\n",
       "      <th>price</th>\n",
       "      <td>21597.0</td>\n",
       "      <td>540296.573506</td>\n",
       "      <td>367368.140101</td>\n",
       "      <td>78000.0000</td>\n",
       "      <td>322000.0000</td>\n",
       "      <td>450000.0000</td>\n",
       "      <td>645000.000</td>\n",
       "      <td>7.700000e+06</td>\n",
       "      <td>3622</td>\n",
       "      <td>float64</td>\n",
       "      <td>0</td>\n",
       "      <td>0.000000</td>\n",
       "    </tr>\n",
       "    <tr>\n",
       "      <th>bedrooms</th>\n",
       "      <td>21597.0</td>\n",
       "      <td>3.373200</td>\n",
       "      <td>0.926299</td>\n",
       "      <td>1.0000</td>\n",
       "      <td>3.0000</td>\n",
       "      <td>3.0000</td>\n",
       "      <td>4.000</td>\n",
       "      <td>3.300000e+01</td>\n",
       "      <td>12</td>\n",
       "      <td>int64</td>\n",
       "      <td>0</td>\n",
       "      <td>0.000000</td>\n",
       "    </tr>\n",
       "    <tr>\n",
       "      <th>bathrooms</th>\n",
       "      <td>21597.0</td>\n",
       "      <td>2.115826</td>\n",
       "      <td>0.768984</td>\n",
       "      <td>0.5000</td>\n",
       "      <td>1.7500</td>\n",
       "      <td>2.2500</td>\n",
       "      <td>2.500</td>\n",
       "      <td>8.000000e+00</td>\n",
       "      <td>29</td>\n",
       "      <td>float64</td>\n",
       "      <td>0</td>\n",
       "      <td>0.000000</td>\n",
       "    </tr>\n",
       "    <tr>\n",
       "      <th>sqft_living</th>\n",
       "      <td>21597.0</td>\n",
       "      <td>2080.321850</td>\n",
       "      <td>918.106125</td>\n",
       "      <td>370.0000</td>\n",
       "      <td>1430.0000</td>\n",
       "      <td>1910.0000</td>\n",
       "      <td>2550.000</td>\n",
       "      <td>1.354000e+04</td>\n",
       "      <td>1034</td>\n",
       "      <td>int64</td>\n",
       "      <td>0</td>\n",
       "      <td>0.000000</td>\n",
       "    </tr>\n",
       "    <tr>\n",
       "      <th>sqft_lot</th>\n",
       "      <td>21597.0</td>\n",
       "      <td>15099.408760</td>\n",
       "      <td>41412.636876</td>\n",
       "      <td>520.0000</td>\n",
       "      <td>5040.0000</td>\n",
       "      <td>7618.0000</td>\n",
       "      <td>10685.000</td>\n",
       "      <td>1.651359e+06</td>\n",
       "      <td>9776</td>\n",
       "      <td>int64</td>\n",
       "      <td>0</td>\n",
       "      <td>0.000000</td>\n",
       "    </tr>\n",
       "    <tr>\n",
       "      <th>floors</th>\n",
       "      <td>21597.0</td>\n",
       "      <td>1.494096</td>\n",
       "      <td>0.539683</td>\n",
       "      <td>1.0000</td>\n",
       "      <td>1.0000</td>\n",
       "      <td>1.5000</td>\n",
       "      <td>2.000</td>\n",
       "      <td>3.500000e+00</td>\n",
       "      <td>6</td>\n",
       "      <td>float64</td>\n",
       "      <td>0</td>\n",
       "      <td>0.000000</td>\n",
       "    </tr>\n",
       "    <tr>\n",
       "      <th>waterfront</th>\n",
       "      <td>19221.0</td>\n",
       "      <td>0.007596</td>\n",
       "      <td>0.086825</td>\n",
       "      <td>0.0000</td>\n",
       "      <td>0.0000</td>\n",
       "      <td>0.0000</td>\n",
       "      <td>0.000</td>\n",
       "      <td>1.000000e+00</td>\n",
       "      <td>2</td>\n",
       "      <td>float64</td>\n",
       "      <td>2376</td>\n",
       "      <td>0.110015</td>\n",
       "    </tr>\n",
       "    <tr>\n",
       "      <th>view</th>\n",
       "      <td>21534.0</td>\n",
       "      <td>0.233863</td>\n",
       "      <td>0.765686</td>\n",
       "      <td>0.0000</td>\n",
       "      <td>0.0000</td>\n",
       "      <td>0.0000</td>\n",
       "      <td>0.000</td>\n",
       "      <td>4.000000e+00</td>\n",
       "      <td>5</td>\n",
       "      <td>float64</td>\n",
       "      <td>63</td>\n",
       "      <td>0.002917</td>\n",
       "    </tr>\n",
       "    <tr>\n",
       "      <th>condition</th>\n",
       "      <td>21597.0</td>\n",
       "      <td>3.409825</td>\n",
       "      <td>0.650546</td>\n",
       "      <td>1.0000</td>\n",
       "      <td>3.0000</td>\n",
       "      <td>3.0000</td>\n",
       "      <td>4.000</td>\n",
       "      <td>5.000000e+00</td>\n",
       "      <td>5</td>\n",
       "      <td>int64</td>\n",
       "      <td>0</td>\n",
       "      <td>0.000000</td>\n",
       "    </tr>\n",
       "    <tr>\n",
       "      <th>grade</th>\n",
       "      <td>21597.0</td>\n",
       "      <td>7.657915</td>\n",
       "      <td>1.173200</td>\n",
       "      <td>3.0000</td>\n",
       "      <td>7.0000</td>\n",
       "      <td>7.0000</td>\n",
       "      <td>8.000</td>\n",
       "      <td>1.300000e+01</td>\n",
       "      <td>11</td>\n",
       "      <td>int64</td>\n",
       "      <td>0</td>\n",
       "      <td>0.000000</td>\n",
       "    </tr>\n",
       "    <tr>\n",
       "      <th>sqft_above</th>\n",
       "      <td>21597.0</td>\n",
       "      <td>1788.596842</td>\n",
       "      <td>827.759761</td>\n",
       "      <td>370.0000</td>\n",
       "      <td>1190.0000</td>\n",
       "      <td>1560.0000</td>\n",
       "      <td>2210.000</td>\n",
       "      <td>9.410000e+03</td>\n",
       "      <td>942</td>\n",
       "      <td>int64</td>\n",
       "      <td>0</td>\n",
       "      <td>0.000000</td>\n",
       "    </tr>\n",
       "    <tr>\n",
       "      <th>sqft_basement</th>\n",
       "      <td>21597.0</td>\n",
       "      <td>285.716581</td>\n",
       "      <td>439.819830</td>\n",
       "      <td>0.0000</td>\n",
       "      <td>0.0000</td>\n",
       "      <td>0.0000</td>\n",
       "      <td>550.000</td>\n",
       "      <td>4.820000e+03</td>\n",
       "      <td>303</td>\n",
       "      <td>float64</td>\n",
       "      <td>0</td>\n",
       "      <td>0.000000</td>\n",
       "    </tr>\n",
       "    <tr>\n",
       "      <th>yr_built</th>\n",
       "      <td>21597.0</td>\n",
       "      <td>1970.999676</td>\n",
       "      <td>29.375234</td>\n",
       "      <td>1900.0000</td>\n",
       "      <td>1951.0000</td>\n",
       "      <td>1975.0000</td>\n",
       "      <td>1997.000</td>\n",
       "      <td>2.015000e+03</td>\n",
       "      <td>116</td>\n",
       "      <td>int64</td>\n",
       "      <td>0</td>\n",
       "      <td>0.000000</td>\n",
       "    </tr>\n",
       "    <tr>\n",
       "      <th>yr_renovated</th>\n",
       "      <td>17755.0</td>\n",
       "      <td>83.636778</td>\n",
       "      <td>399.946414</td>\n",
       "      <td>0.0000</td>\n",
       "      <td>0.0000</td>\n",
       "      <td>0.0000</td>\n",
       "      <td>0.000</td>\n",
       "      <td>2.015000e+03</td>\n",
       "      <td>70</td>\n",
       "      <td>float64</td>\n",
       "      <td>3842</td>\n",
       "      <td>0.177895</td>\n",
       "    </tr>\n",
       "    <tr>\n",
       "      <th>zipcode</th>\n",
       "      <td>21597.0</td>\n",
       "      <td>98077.951845</td>\n",
       "      <td>53.513072</td>\n",
       "      <td>98001.0000</td>\n",
       "      <td>98033.0000</td>\n",
       "      <td>98065.0000</td>\n",
       "      <td>98118.000</td>\n",
       "      <td>9.819900e+04</td>\n",
       "      <td>70</td>\n",
       "      <td>int64</td>\n",
       "      <td>0</td>\n",
       "      <td>0.000000</td>\n",
       "    </tr>\n",
       "    <tr>\n",
       "      <th>lat</th>\n",
       "      <td>21597.0</td>\n",
       "      <td>47.560093</td>\n",
       "      <td>0.138552</td>\n",
       "      <td>47.1559</td>\n",
       "      <td>47.4711</td>\n",
       "      <td>47.5718</td>\n",
       "      <td>47.678</td>\n",
       "      <td>4.777760e+01</td>\n",
       "      <td>5033</td>\n",
       "      <td>float64</td>\n",
       "      <td>0</td>\n",
       "      <td>0.000000</td>\n",
       "    </tr>\n",
       "    <tr>\n",
       "      <th>long</th>\n",
       "      <td>21597.0</td>\n",
       "      <td>-122.213982</td>\n",
       "      <td>0.140724</td>\n",
       "      <td>-122.5190</td>\n",
       "      <td>-122.3280</td>\n",
       "      <td>-122.2310</td>\n",
       "      <td>-122.125</td>\n",
       "      <td>-1.213150e+02</td>\n",
       "      <td>751</td>\n",
       "      <td>float64</td>\n",
       "      <td>0</td>\n",
       "      <td>0.000000</td>\n",
       "    </tr>\n",
       "    <tr>\n",
       "      <th>sqft_living15</th>\n",
       "      <td>21597.0</td>\n",
       "      <td>1986.620318</td>\n",
       "      <td>685.230472</td>\n",
       "      <td>399.0000</td>\n",
       "      <td>1490.0000</td>\n",
       "      <td>1840.0000</td>\n",
       "      <td>2360.000</td>\n",
       "      <td>6.210000e+03</td>\n",
       "      <td>777</td>\n",
       "      <td>int64</td>\n",
       "      <td>0</td>\n",
       "      <td>0.000000</td>\n",
       "    </tr>\n",
       "    <tr>\n",
       "      <th>sqft_lot15</th>\n",
       "      <td>21597.0</td>\n",
       "      <td>12758.283512</td>\n",
       "      <td>27274.441950</td>\n",
       "      <td>651.0000</td>\n",
       "      <td>5100.0000</td>\n",
       "      <td>7620.0000</td>\n",
       "      <td>10083.000</td>\n",
       "      <td>8.712000e+05</td>\n",
       "      <td>8682</td>\n",
       "      <td>int64</td>\n",
       "      <td>0</td>\n",
       "      <td>0.000000</td>\n",
       "    </tr>\n",
       "    <tr>\n",
       "      <th>date</th>\n",
       "      <td>NaN</td>\n",
       "      <td>NaN</td>\n",
       "      <td>NaN</td>\n",
       "      <td>NaN</td>\n",
       "      <td>NaN</td>\n",
       "      <td>NaN</td>\n",
       "      <td>NaN</td>\n",
       "      <td>NaN</td>\n",
       "      <td>372</td>\n",
       "      <td>datetime64[ns]</td>\n",
       "      <td>0</td>\n",
       "      <td>0.000000</td>\n",
       "    </tr>\n",
       "  </tbody>\n",
       "</table>\n",
       "</div>"
      ],
      "text/plain": [
       "                 count           mean            std         min          25%  \\\n",
       "price          21597.0  540296.573506  367368.140101  78000.0000  322000.0000   \n",
       "bedrooms       21597.0       3.373200       0.926299      1.0000       3.0000   \n",
       "bathrooms      21597.0       2.115826       0.768984      0.5000       1.7500   \n",
       "sqft_living    21597.0    2080.321850     918.106125    370.0000    1430.0000   \n",
       "sqft_lot       21597.0   15099.408760   41412.636876    520.0000    5040.0000   \n",
       "floors         21597.0       1.494096       0.539683      1.0000       1.0000   \n",
       "waterfront     19221.0       0.007596       0.086825      0.0000       0.0000   \n",
       "view           21534.0       0.233863       0.765686      0.0000       0.0000   \n",
       "condition      21597.0       3.409825       0.650546      1.0000       3.0000   \n",
       "grade          21597.0       7.657915       1.173200      3.0000       7.0000   \n",
       "sqft_above     21597.0    1788.596842     827.759761    370.0000    1190.0000   \n",
       "sqft_basement  21597.0     285.716581     439.819830      0.0000       0.0000   \n",
       "yr_built       21597.0    1970.999676      29.375234   1900.0000    1951.0000   \n",
       "yr_renovated   17755.0      83.636778     399.946414      0.0000       0.0000   \n",
       "zipcode        21597.0   98077.951845      53.513072  98001.0000   98033.0000   \n",
       "lat            21597.0      47.560093       0.138552     47.1559      47.4711   \n",
       "long           21597.0    -122.213982       0.140724   -122.5190    -122.3280   \n",
       "sqft_living15  21597.0    1986.620318     685.230472    399.0000    1490.0000   \n",
       "sqft_lot15     21597.0   12758.283512   27274.441950    651.0000    5100.0000   \n",
       "date               NaN            NaN            NaN         NaN          NaN   \n",
       "\n",
       "                       50%         75%           max  num_unique  \\\n",
       "price          450000.0000  645000.000  7.700000e+06        3622   \n",
       "bedrooms            3.0000       4.000  3.300000e+01          12   \n",
       "bathrooms           2.2500       2.500  8.000000e+00          29   \n",
       "sqft_living      1910.0000    2550.000  1.354000e+04        1034   \n",
       "sqft_lot         7618.0000   10685.000  1.651359e+06        9776   \n",
       "floors              1.5000       2.000  3.500000e+00           6   \n",
       "waterfront          0.0000       0.000  1.000000e+00           2   \n",
       "view                0.0000       0.000  4.000000e+00           5   \n",
       "condition           3.0000       4.000  5.000000e+00           5   \n",
       "grade               7.0000       8.000  1.300000e+01          11   \n",
       "sqft_above       1560.0000    2210.000  9.410000e+03         942   \n",
       "sqft_basement       0.0000     550.000  4.820000e+03         303   \n",
       "yr_built         1975.0000    1997.000  2.015000e+03         116   \n",
       "yr_renovated        0.0000       0.000  2.015000e+03          70   \n",
       "zipcode         98065.0000   98118.000  9.819900e+04          70   \n",
       "lat                47.5718      47.678  4.777760e+01        5033   \n",
       "long             -122.2310    -122.125 -1.213150e+02         751   \n",
       "sqft_living15    1840.0000    2360.000  6.210000e+03         777   \n",
       "sqft_lot15       7620.0000   10083.000  8.712000e+05        8682   \n",
       "date                   NaN         NaN           NaN         372   \n",
       "\n",
       "                       DTypes  NaN_sum   NaN_pct  \n",
       "price                 float64        0  0.000000  \n",
       "bedrooms                int64        0  0.000000  \n",
       "bathrooms             float64        0  0.000000  \n",
       "sqft_living             int64        0  0.000000  \n",
       "sqft_lot                int64        0  0.000000  \n",
       "floors                float64        0  0.000000  \n",
       "waterfront            float64     2376  0.110015  \n",
       "view                  float64       63  0.002917  \n",
       "condition               int64        0  0.000000  \n",
       "grade                   int64        0  0.000000  \n",
       "sqft_above              int64        0  0.000000  \n",
       "sqft_basement         float64        0  0.000000  \n",
       "yr_built                int64        0  0.000000  \n",
       "yr_renovated          float64     3842  0.177895  \n",
       "zipcode                 int64        0  0.000000  \n",
       "lat                   float64        0  0.000000  \n",
       "long                  float64        0  0.000000  \n",
       "sqft_living15           int64        0  0.000000  \n",
       "sqft_lot15              int64        0  0.000000  \n",
       "date           datetime64[ns]        0  0.000000  "
      ]
     },
     "execution_count": 23,
     "metadata": {},
     "output_type": "execute_result"
    }
   ],
   "source": [
    "report_df = pd.DataFrame({'num_unique':df.nunique(),\n",
    "              'DTypes':df.dtypes,\n",
    "              'NaN_sum':df.isna().sum(),\n",
    "              'NaN_pct':df.isna().sum()/len(df)})\n",
    "\n",
    "pd.concat([df.describe().T,report_df], axis=1)"
   ]
  },
  {
   "cell_type": "code",
   "execution_count": 24,
   "metadata": {
    "ExecuteTime": {
     "end_time": "2021-07-12T14:50:41.001792Z",
     "start_time": "2021-07-12T14:50:40.982797Z"
    },
    "colab": {
     "base_uri": "https://localhost:8080/"
    },
    "id": "nRe-PxjkAlUj",
    "outputId": "436d4e4e-f2b3-44db-a970-0d9b9fd2a986"
   },
   "outputs": [
    {
     "data": {
      "text/plain": [
       "['waterfront', 'view', 'yr_renovated']"
      ]
     },
     "execution_count": 24,
     "metadata": {},
     "output_type": "execute_result"
    }
   ],
   "source": [
    "# df_na_col = []\n",
    "# for col in df:\n",
    "#     if df[col].isna().sum() > 0:\n",
    "#         df_na_col.append(col)\n",
    "\n",
    "# df_na_col"
   ]
  },
  {
   "cell_type": "code",
   "execution_count": 27,
   "metadata": {
    "ExecuteTime": {
     "end_time": "2021-07-12T14:50:52.173796Z",
     "start_time": "2021-07-12T14:50:52.155761Z"
    },
    "id": "Qoi1NkHIA9Ac"
   },
   "outputs": [],
   "source": [
    "# df['waterfront'].fillna(df['waterfront'].mode()[0], inplace=True)"
   ]
  },
  {
   "cell_type": "code",
   "execution_count": 34,
   "metadata": {
    "ExecuteTime": {
     "end_time": "2021-07-12T14:58:48.705636Z",
     "start_time": "2021-07-12T14:58:48.686601Z"
    }
   },
   "outputs": [
    {
     "ename": "TypeError",
     "evalue": "'type' object is not iterable",
     "output_type": "error",
     "traceback": [
      "\u001b[1;31m---------------------------------------------------------------------------\u001b[0m",
      "\u001b[1;31mTypeError\u001b[0m                                 Traceback (most recent call last)",
      "\u001b[1;32m<ipython-input-34-532794b13bf2>\u001b[0m in \u001b[0;36m<module>\u001b[1;34m\u001b[0m\n\u001b[0;32m      4\u001b[0m                   remainder='passthrough',n_jobs = -1)\n\u001b[0;32m      5\u001b[0m \u001b[1;33m\u001b[0m\u001b[0m\n\u001b[1;32m----> 6\u001b[1;33m \u001b[0mct\u001b[0m\u001b[1;33m.\u001b[0m\u001b[0mfit_transform\u001b[0m\u001b[1;33m(\u001b[0m\u001b[0mdf\u001b[0m\u001b[1;33m)\u001b[0m\u001b[1;33m\u001b[0m\u001b[1;33m\u001b[0m\u001b[0m\n\u001b[0m",
      "\u001b[1;32m~\\anaconda3\\envs\\learn-env-bmc\\lib\\site-packages\\sklearn\\compose\\_column_transformer.py\u001b[0m in \u001b[0;36mfit_transform\u001b[1;34m(self, X, y)\u001b[0m\n\u001b[0;32m    525\u001b[0m         \u001b[1;31m# set n_features_in_ attribute\u001b[0m\u001b[1;33m\u001b[0m\u001b[1;33m\u001b[0m\u001b[1;33m\u001b[0m\u001b[0m\n\u001b[0;32m    526\u001b[0m         \u001b[0mself\u001b[0m\u001b[1;33m.\u001b[0m\u001b[0m_check_n_features\u001b[0m\u001b[1;33m(\u001b[0m\u001b[0mX\u001b[0m\u001b[1;33m,\u001b[0m \u001b[0mreset\u001b[0m\u001b[1;33m=\u001b[0m\u001b[1;32mTrue\u001b[0m\u001b[1;33m)\u001b[0m\u001b[1;33m\u001b[0m\u001b[1;33m\u001b[0m\u001b[0m\n\u001b[1;32m--> 527\u001b[1;33m         \u001b[0mself\u001b[0m\u001b[1;33m.\u001b[0m\u001b[0m_validate_transformers\u001b[0m\u001b[1;33m(\u001b[0m\u001b[1;33m)\u001b[0m\u001b[1;33m\u001b[0m\u001b[1;33m\u001b[0m\u001b[0m\n\u001b[0m\u001b[0;32m    528\u001b[0m         \u001b[0mself\u001b[0m\u001b[1;33m.\u001b[0m\u001b[0m_validate_column_callables\u001b[0m\u001b[1;33m(\u001b[0m\u001b[0mX\u001b[0m\u001b[1;33m)\u001b[0m\u001b[1;33m\u001b[0m\u001b[1;33m\u001b[0m\u001b[0m\n\u001b[0;32m    529\u001b[0m         \u001b[0mself\u001b[0m\u001b[1;33m.\u001b[0m\u001b[0m_validate_remainder\u001b[0m\u001b[1;33m(\u001b[0m\u001b[0mX\u001b[0m\u001b[1;33m)\u001b[0m\u001b[1;33m\u001b[0m\u001b[1;33m\u001b[0m\u001b[0m\n",
      "\u001b[1;32m~\\anaconda3\\envs\\learn-env-bmc\\lib\\site-packages\\sklearn\\compose\\_column_transformer.py\u001b[0m in \u001b[0;36m_validate_transformers\u001b[1;34m(self)\u001b[0m\n\u001b[0;32m    274\u001b[0m             \u001b[1;32mreturn\u001b[0m\u001b[1;33m\u001b[0m\u001b[1;33m\u001b[0m\u001b[0m\n\u001b[0;32m    275\u001b[0m \u001b[1;33m\u001b[0m\u001b[0m\n\u001b[1;32m--> 276\u001b[1;33m         \u001b[0mnames\u001b[0m\u001b[1;33m,\u001b[0m \u001b[0mtransformers\u001b[0m\u001b[1;33m,\u001b[0m \u001b[0m_\u001b[0m \u001b[1;33m=\u001b[0m \u001b[0mzip\u001b[0m\u001b[1;33m(\u001b[0m\u001b[1;33m*\u001b[0m\u001b[0mself\u001b[0m\u001b[1;33m.\u001b[0m\u001b[0mtransformers\u001b[0m\u001b[1;33m)\u001b[0m\u001b[1;33m\u001b[0m\u001b[1;33m\u001b[0m\u001b[0m\n\u001b[0m\u001b[0;32m    277\u001b[0m \u001b[1;33m\u001b[0m\u001b[0m\n\u001b[0;32m    278\u001b[0m         \u001b[1;31m# validate names\u001b[0m\u001b[1;33m\u001b[0m\u001b[1;33m\u001b[0m\u001b[1;33m\u001b[0m\u001b[0m\n",
      "\u001b[1;31mTypeError\u001b[0m: 'type' object is not iterable"
     ]
    }
   ],
   "source": [
    "from sklearn.compose import ColumnTransformer\n",
    "\n",
    "ct = ColumnTransformer([('imp_mode',estimators = ('sim_imp', SimpleImputer), 'waterfront')], \n",
    "                  remainder='passthrough',n_jobs = -1)\n",
    "\n",
    "ct.fit_transform(df)"
   ]
  },
  {
   "cell_type": "code",
   "execution_count": 28,
   "metadata": {
    "ExecuteTime": {
     "end_time": "2021-07-12T14:50:52.680796Z",
     "start_time": "2021-07-12T14:50:52.649790Z"
    },
    "colab": {
     "base_uri": "https://localhost:8080/"
    },
    "id": "Alb_l0T3Bhha",
    "outputId": "39f6a342-034b-4756-835a-bb262c119940"
   },
   "outputs": [
    {
     "data": {
      "text/html": [
       "<div>\n",
       "<style scoped>\n",
       "    .dataframe tbody tr th:only-of-type {\n",
       "        vertical-align: middle;\n",
       "    }\n",
       "\n",
       "    .dataframe tbody tr th {\n",
       "        vertical-align: top;\n",
       "    }\n",
       "\n",
       "    .dataframe thead th {\n",
       "        text-align: right;\n",
       "    }\n",
       "</style>\n",
       "<table border=\"1\" class=\"dataframe\">\n",
       "  <thead>\n",
       "    <tr style=\"text-align: right;\">\n",
       "      <th></th>\n",
       "      <th>num_unique</th>\n",
       "      <th>DTypes</th>\n",
       "      <th>NaN_sum</th>\n",
       "      <th>NaN_pct</th>\n",
       "    </tr>\n",
       "  </thead>\n",
       "  <tbody>\n",
       "    <tr>\n",
       "      <th>date</th>\n",
       "      <td>372</td>\n",
       "      <td>datetime64[ns]</td>\n",
       "      <td>0</td>\n",
       "      <td>0.000000</td>\n",
       "    </tr>\n",
       "    <tr>\n",
       "      <th>price</th>\n",
       "      <td>3622</td>\n",
       "      <td>float64</td>\n",
       "      <td>0</td>\n",
       "      <td>0.000000</td>\n",
       "    </tr>\n",
       "    <tr>\n",
       "      <th>bedrooms</th>\n",
       "      <td>12</td>\n",
       "      <td>int64</td>\n",
       "      <td>0</td>\n",
       "      <td>0.000000</td>\n",
       "    </tr>\n",
       "    <tr>\n",
       "      <th>bathrooms</th>\n",
       "      <td>29</td>\n",
       "      <td>float64</td>\n",
       "      <td>0</td>\n",
       "      <td>0.000000</td>\n",
       "    </tr>\n",
       "    <tr>\n",
       "      <th>sqft_living</th>\n",
       "      <td>1034</td>\n",
       "      <td>int64</td>\n",
       "      <td>0</td>\n",
       "      <td>0.000000</td>\n",
       "    </tr>\n",
       "    <tr>\n",
       "      <th>sqft_lot</th>\n",
       "      <td>9776</td>\n",
       "      <td>int64</td>\n",
       "      <td>0</td>\n",
       "      <td>0.000000</td>\n",
       "    </tr>\n",
       "    <tr>\n",
       "      <th>floors</th>\n",
       "      <td>6</td>\n",
       "      <td>float64</td>\n",
       "      <td>0</td>\n",
       "      <td>0.000000</td>\n",
       "    </tr>\n",
       "    <tr>\n",
       "      <th>waterfront</th>\n",
       "      <td>2</td>\n",
       "      <td>float64</td>\n",
       "      <td>2376</td>\n",
       "      <td>0.110015</td>\n",
       "    </tr>\n",
       "    <tr>\n",
       "      <th>view</th>\n",
       "      <td>5</td>\n",
       "      <td>float64</td>\n",
       "      <td>63</td>\n",
       "      <td>0.002917</td>\n",
       "    </tr>\n",
       "    <tr>\n",
       "      <th>condition</th>\n",
       "      <td>5</td>\n",
       "      <td>int64</td>\n",
       "      <td>0</td>\n",
       "      <td>0.000000</td>\n",
       "    </tr>\n",
       "    <tr>\n",
       "      <th>grade</th>\n",
       "      <td>11</td>\n",
       "      <td>int64</td>\n",
       "      <td>0</td>\n",
       "      <td>0.000000</td>\n",
       "    </tr>\n",
       "    <tr>\n",
       "      <th>sqft_above</th>\n",
       "      <td>942</td>\n",
       "      <td>int64</td>\n",
       "      <td>0</td>\n",
       "      <td>0.000000</td>\n",
       "    </tr>\n",
       "    <tr>\n",
       "      <th>sqft_basement</th>\n",
       "      <td>303</td>\n",
       "      <td>float64</td>\n",
       "      <td>0</td>\n",
       "      <td>0.000000</td>\n",
       "    </tr>\n",
       "    <tr>\n",
       "      <th>yr_built</th>\n",
       "      <td>116</td>\n",
       "      <td>int64</td>\n",
       "      <td>0</td>\n",
       "      <td>0.000000</td>\n",
       "    </tr>\n",
       "    <tr>\n",
       "      <th>yr_renovated</th>\n",
       "      <td>70</td>\n",
       "      <td>float64</td>\n",
       "      <td>3842</td>\n",
       "      <td>0.177895</td>\n",
       "    </tr>\n",
       "    <tr>\n",
       "      <th>zipcode</th>\n",
       "      <td>70</td>\n",
       "      <td>int64</td>\n",
       "      <td>0</td>\n",
       "      <td>0.000000</td>\n",
       "    </tr>\n",
       "    <tr>\n",
       "      <th>lat</th>\n",
       "      <td>5033</td>\n",
       "      <td>float64</td>\n",
       "      <td>0</td>\n",
       "      <td>0.000000</td>\n",
       "    </tr>\n",
       "    <tr>\n",
       "      <th>long</th>\n",
       "      <td>751</td>\n",
       "      <td>float64</td>\n",
       "      <td>0</td>\n",
       "      <td>0.000000</td>\n",
       "    </tr>\n",
       "    <tr>\n",
       "      <th>sqft_living15</th>\n",
       "      <td>777</td>\n",
       "      <td>int64</td>\n",
       "      <td>0</td>\n",
       "      <td>0.000000</td>\n",
       "    </tr>\n",
       "    <tr>\n",
       "      <th>sqft_lot15</th>\n",
       "      <td>8682</td>\n",
       "      <td>int64</td>\n",
       "      <td>0</td>\n",
       "      <td>0.000000</td>\n",
       "    </tr>\n",
       "  </tbody>\n",
       "</table>\n",
       "</div>"
      ],
      "text/plain": [
       "               num_unique          DTypes  NaN_sum   NaN_pct\n",
       "date                  372  datetime64[ns]        0  0.000000\n",
       "price                3622         float64        0  0.000000\n",
       "bedrooms               12           int64        0  0.000000\n",
       "bathrooms              29         float64        0  0.000000\n",
       "sqft_living          1034           int64        0  0.000000\n",
       "sqft_lot             9776           int64        0  0.000000\n",
       "floors                  6         float64        0  0.000000\n",
       "waterfront              2         float64     2376  0.110015\n",
       "view                    5         float64       63  0.002917\n",
       "condition               5           int64        0  0.000000\n",
       "grade                  11           int64        0  0.000000\n",
       "sqft_above            942           int64        0  0.000000\n",
       "sqft_basement         303         float64        0  0.000000\n",
       "yr_built              116           int64        0  0.000000\n",
       "yr_renovated           70         float64     3842  0.177895\n",
       "zipcode                70           int64        0  0.000000\n",
       "lat                  5033         float64        0  0.000000\n",
       "long                  751         float64        0  0.000000\n",
       "sqft_living15         777           int64        0  0.000000\n",
       "sqft_lot15           8682           int64        0  0.000000"
      ]
     },
     "execution_count": 28,
     "metadata": {},
     "output_type": "execute_result"
    }
   ],
   "source": [
    "report_df"
   ]
  },
  {
   "cell_type": "markdown",
   "metadata": {
    "id": "jxVD4Vyosq14"
   },
   "source": [
    "### Overview Summary"
   ]
  },
  {
   "cell_type": "markdown",
   "metadata": {
    "id": "xFgxYi-Ysq14"
   },
   "source": [
    "The dataset contains 21 colums of data, most of which seem useful for evaluations and modeling, but \"id\" and \"date\" are not really usable in their current state.\n",
    "\n",
    "I do not have any null values to handle. Additionally, the data types seem to be relatively accurate; the only exception being the dates being treated as an object vs. datetime.\n",
    "\n",
    "I could convert the date for later calculations, engineering, or modeling. For now, I will leave it as-is."
   ]
  },
  {
   "cell_type": "markdown",
   "metadata": {
    "id": "yr_BhpeHsq14"
   },
   "source": [
    "## Exploring Features"
   ]
  },
  {
   "cell_type": "markdown",
   "metadata": {
    "id": "LMn26MgRsq14"
   },
   "source": [
    "Now I will be comparing each individual feature against \"price\" to determine if a feature is continuous or categorical.\n",
    "\n",
    "I will check the regressions and histograms for each feature; if a regression plot shows a flatter regression line or if the histogram is not a normal distribution, I will treat that feature as a categorical feature.\n",
    "\n",
    "As part of the function to create the plots, I include my function to ignore any outliers for the purpose of the visualizations. I will *not* change the data itself, though."
   ]
  },
  {
   "cell_type": "markdown",
   "metadata": {
    "id": "esH0MiIUsq14"
   },
   "source": [
    "### Bedrooms"
   ]
  },
  {
   "cell_type": "code",
   "execution_count": null,
   "metadata": {
    "id": "71XLgj2isq15",
    "outputId": "935aaf0c-4523-4be1-e154-f9af9653bf40"
   },
   "outputs": [],
   "source": [
    "show_cleaned_vis(df,\"bedrooms\", discrete=True, kde = False)"
   ]
  },
  {
   "cell_type": "markdown",
   "metadata": {
    "id": "EIKLDVvVsq15"
   },
   "source": [
    "***\n",
    "**Observations**\n",
    ">* There is a slight linear regression between the number of bedrooms and the sell price, indicated by the positive slope of the regression line.\n",
    ">\n",
    ">* The histogram slightly resembles a normal distribution, although the first bin is lower than I would expect for a normal distribution.\n",
    "\n",
    "***\n",
    "**TO-DO**\n",
    ">* Use Bedrooms as a continuous variable.\n",
    "***"
   ]
  },
  {
   "cell_type": "markdown",
   "metadata": {
    "id": "2PoQcwoMsq15"
   },
   "source": [
    "### Bathrooms"
   ]
  },
  {
   "cell_type": "code",
   "execution_count": null,
   "metadata": {
    "id": "uTpdKmEQsq15",
    "outputId": "929c2b48-248b-4065-9153-364279aa73ac",
    "scrolled": false
   },
   "outputs": [],
   "source": [
    "show_cleaned_vis(df,\"bathrooms\", discrete=True, kde=False)"
   ]
  },
  {
   "cell_type": "markdown",
   "metadata": {
    "id": "JqSGJlJXsq15"
   },
   "source": [
    "***\n",
    "**Observations**\n",
    ">* Clear linear relationship between bathrooms and price.\n",
    ">* The histogram/normal distribution isn't the strongest, but I feel it is good enough.\n",
    "***\n",
    "**TO-DO**\n",
    ">* Use as continuous variable.\n",
    "*** "
   ]
  },
  {
   "cell_type": "markdown",
   "metadata": {
    "id": "yhXyxOvesq15"
   },
   "source": [
    "### sqft_living"
   ]
  },
  {
   "cell_type": "code",
   "execution_count": null,
   "metadata": {
    "id": "_2Cv_c8gsq16",
    "outputId": "ae5b0f3d-632a-46de-c90d-9bafc61a53e9"
   },
   "outputs": [],
   "source": [
    "show_cleaned_vis(df,\"sqft_living\")"
   ]
  },
  {
   "cell_type": "markdown",
   "metadata": {
    "id": "rCamjs1Csq17"
   },
   "source": [
    "***\n",
    "**Observations**\n",
    "\n",
    ">* Clear linear relationship and normal distribution.\n",
    "\n",
    "***\n",
    "\n",
    "**TO-DO**\n",
    "\n",
    ">* Use as continuous variable\n"
   ]
  },
  {
   "cell_type": "markdown",
   "metadata": {
    "id": "zSq414W9sq17"
   },
   "source": [
    "### sqft_lot"
   ]
  },
  {
   "cell_type": "code",
   "execution_count": null,
   "metadata": {
    "id": "mt-YYo6Gsq17",
    "outputId": "c1ebdfcd-0cb6-452b-f3f2-3741dc4883d0"
   },
   "outputs": [],
   "source": [
    "show_cleaned_vis(df,\"sqft_lot\")"
   ]
  },
  {
   "cell_type": "markdown",
   "metadata": {
    "id": "Ckn113g_sq17"
   },
   "source": [
    "***\n",
    "**Observations**\n",
    "\n",
    ">* Neither normally distributed nor having a linear relationship with price.\n",
    "***\n",
    "\n",
    "**TO-DO**\n",
    "\n",
    ">* Treat as categorical variable.\n",
    "\n",
    "* **"
   ]
  },
  {
   "cell_type": "markdown",
   "metadata": {
    "id": "KJN32UMQsq18"
   },
   "source": [
    "### floors"
   ]
  },
  {
   "cell_type": "code",
   "execution_count": null,
   "metadata": {
    "id": "SX_3n2SHsq18",
    "outputId": "016730e9-f040-44df-b385-27583b677b6b"
   },
   "outputs": [],
   "source": [
    "show_cleaned_vis(df,\"floors\", kde=False)"
   ]
  },
  {
   "cell_type": "markdown",
   "metadata": {
    "id": "1uS1Lb5tsq18"
   },
   "source": [
    "***\n",
    "**Observations**\n",
    "\n",
    ">* Linear relationship, but not normally distributed\n",
    ">\n",
    ">* Most homes had one or two bedrooms.\n",
    "\n",
    "***\n",
    "**TO-DO**\n",
    "\n",
    ">* Treat as continuous variable due to regression\n",
    " \n",
    "***"
   ]
  },
  {
   "cell_type": "markdown",
   "metadata": {
    "id": "uKYMc5wOsq19"
   },
   "source": [
    "### waterfront"
   ]
  },
  {
   "cell_type": "code",
   "execution_count": null,
   "metadata": {
    "id": "YcdNRh3Csq19",
    "outputId": "58a2e2e3-e332-4e6c-b49e-39ccedd63c4e",
    "scrolled": false
   },
   "outputs": [],
   "source": [
    "feature_vis(df,\"waterfront\", discrete=True, kde=False)"
   ]
  },
  {
   "cell_type": "markdown",
   "metadata": {
    "id": "WEdL6h4nsq19"
   },
   "source": [
    "***\n",
    "**Observations**\n",
    "\n",
    ">* Graphs are misleading\n",
    ">* Most properties are non-waterfront\n",
    ">* Clear linear relationship, but not normally distributed\n",
    "\n",
    "***\n",
    "**TO-DO**\n",
    "\n",
    ">* Treat as categorical - only two options (0 or 1).\n",
    " \n",
    "***"
   ]
  },
  {
   "cell_type": "markdown",
   "metadata": {
    "id": "qCVzAq8esq19"
   },
   "source": [
    "### view"
   ]
  },
  {
   "cell_type": "code",
   "execution_count": null,
   "metadata": {
    "id": "8iQdM8agsq19",
    "outputId": "ca94d504-1046-4a59-ce71-90fded2be326",
    "scrolled": false
   },
   "outputs": [],
   "source": [
    "feature_vis(df,\"view\", discrete=True, kde=False)"
   ]
  },
  {
   "cell_type": "markdown",
   "metadata": {
    "id": "Dz1VgSkvsq1-"
   },
   "source": [
    "***\n",
    "**Observations**\n",
    "\n",
    ">* Higher \"view\" rating, higher price\n",
    ">* Most have '0' view\n",
    ">* A few extreme outliers in pricing\n",
    "\n",
    "***\n",
    "**TO-DO**\n",
    "\n",
    ">* Treat as categorical\n",
    " \n",
    "***"
   ]
  },
  {
   "cell_type": "markdown",
   "metadata": {
    "id": "OFK6Oe3Nsq1-"
   },
   "source": [
    "### condition"
   ]
  },
  {
   "cell_type": "code",
   "execution_count": null,
   "metadata": {
    "id": "MfMn5q0esq1-",
    "outputId": "4f558c05-ac1f-4ee1-eaa9-739d6242757a",
    "scrolled": false
   },
   "outputs": [],
   "source": [
    "show_cleaned_vis(df,\"condition\", discrete=True, kde= False)"
   ]
  },
  {
   "cell_type": "markdown",
   "metadata": {
    "id": "qgI1_0Umsq1-"
   },
   "source": [
    "***\n",
    "**Observations**\n",
    "\n",
    ">* Largest number of homes sold were in condition 3\n",
    ">* Very few sold in 1s, 2s\n",
    ">* Price outliers in 4.0 area, some slight outliers in 2 and 3\n",
    ">* No linear relationship, not normal distribution.\n",
    "\n",
    "***\n",
    "**TO-DO**\n",
    "\n",
    ">* Treat as categorical\n",
    " \n",
    "***"
   ]
  },
  {
   "cell_type": "markdown",
   "metadata": {
    "id": "ShUVl0iisq1_"
   },
   "source": [
    "### grade"
   ]
  },
  {
   "cell_type": "code",
   "execution_count": null,
   "metadata": {
    "id": "RfuwzUUfsq1_",
    "outputId": "e71c43ff-9fc2-4dad-9ae3-ccd7e3c4ad34",
    "scrolled": false
   },
   "outputs": [],
   "source": [
    "show_cleaned_vis(df,\"grade\", kde=False)"
   ]
  },
  {
   "cell_type": "markdown",
   "metadata": {
    "id": "LA6v2PInsq1_"
   },
   "source": [
    "**Observations**\n",
    "\n",
    ">* Clear linear trend - as grade increases, so does price\n",
    ">\n",
    ">* Largest range of grades is 6-9\n",
    "---\n",
    "**TO-DO**\n",
    "\n",
    ">* Treat as continuous variable\n"
   ]
  },
  {
   "cell_type": "markdown",
   "metadata": {
    "id": "RR77jhqZsq2A"
   },
   "source": [
    "### sqft_above"
   ]
  },
  {
   "cell_type": "code",
   "execution_count": null,
   "metadata": {
    "id": "DHsYgwg8sq2A",
    "outputId": "795cfa4e-6c86-44a2-e12e-24b373d1d9de",
    "scrolled": false
   },
   "outputs": [],
   "source": [
    "show_cleaned_vis(df,\"sqft_above\")"
   ]
  },
  {
   "cell_type": "markdown",
   "metadata": {
    "id": "Ceio_9Hxsq2A"
   },
   "source": [
    "---\n",
    "\n",
    "**Observations**\n",
    "\n",
    ">* Outliers impacting accuracy of linear regression, but still seems relatively linear.\n",
    ">\n",
    ">* Distribution skewed left, but normal\n",
    "---\n",
    "**TO-DO**\n",
    "\n",
    ">* Treat as continuous\n",
    "---"
   ]
  },
  {
   "cell_type": "markdown",
   "metadata": {
    "id": "mV_Ai-awsq2B"
   },
   "source": [
    "### sqft_basement"
   ]
  },
  {
   "cell_type": "code",
   "execution_count": null,
   "metadata": {
    "id": "AdhxJs8Dsq2B",
    "outputId": "65dc3e4a-deec-46e9-e0f8-63d9a5eb2a0b",
    "scrolled": false
   },
   "outputs": [],
   "source": [
    "show_cleaned_vis(df,\"sqft_basement\")"
   ]
  },
  {
   "cell_type": "markdown",
   "metadata": {
    "id": "RtQWfKTNsq2B"
   },
   "source": [
    "\n",
    "**Observations**\n",
    "\n",
    ">* Lots of 0 sqft basements -  shows no basement at all on property\n",
    ">\n",
    ">* scattered outliers; poor regression due to 0s\n",
    "---\n",
    "**TO-DO**\n",
    "\n",
    ">* Treat as continuous if used for modeling\n"
   ]
  },
  {
   "cell_type": "markdown",
   "metadata": {
    "id": "9rFbdTozsq2B"
   },
   "source": [
    "### yr_built"
   ]
  },
  {
   "cell_type": "code",
   "execution_count": null,
   "metadata": {
    "id": "gM1k8hcKsq2C",
    "outputId": "8760fecc-dc75-4bf1-ff0c-33232173dbd7",
    "scrolled": false
   },
   "outputs": [],
   "source": [
    "show_cleaned_vis(df,\"yr_built\")"
   ]
  },
  {
   "cell_type": "markdown",
   "metadata": {
    "id": "2dMEm9GJsq2C"
   },
   "source": [
    "---\n",
    "**Observations**\n",
    "\n",
    ">* Non-linear trend from this regression plot\n",
    ">\n",
    ">* Seems like may houses built between 1940 - 1970, then major boom in early 2000s.\n",
    ">\n",
    ">* Some significant outliers with price, but not affecting regression\n",
    "---\n",
    "\n",
    "**TO-DO**\n",
    "\n",
    ">* Compare to year sold - how old was the house at sale?\n",
    ">\n",
    ">* Treat as categorical due to regression plot\n",
    "---"
   ]
  },
  {
   "cell_type": "markdown",
   "metadata": {
    "id": "ZSfdRI4Fsq2C"
   },
   "source": [
    "### yr_renovated"
   ]
  },
  {
   "cell_type": "code",
   "execution_count": null,
   "metadata": {
    "id": "bzlSV8vTsq2C",
    "outputId": "45c0cf96-4296-45e9-a3ac-3764ec924fd3",
    "scrolled": false
   },
   "outputs": [],
   "source": [
    "feature_vis(df,'yr_renovated', kde=False)"
   ]
  },
  {
   "cell_type": "markdown",
   "metadata": {
    "id": "1oGuuSiZsq2C"
   },
   "source": [
    "\n",
    "**Observations**\n",
    "\n",
    ">* Number of houses not renovated significantly outweighs the number renovated\n",
    ">\n",
    ">* Graphs indicate that an engineered feature for whether or not the house was renovated would be worthwhile.\n",
    "---\n",
    "**TO-DO**\n",
    "\n",
    ">* Create new categorical feature - renovated or not"
   ]
  },
  {
   "cell_type": "markdown",
   "metadata": {
    "id": "x8HlMm5zsq2C"
   },
   "source": [
    "### zipcode"
   ]
  },
  {
   "cell_type": "code",
   "execution_count": null,
   "metadata": {
    "id": "QE6O2kLnsq2C",
    "outputId": "3ec0d472-458f-445e-a323-333a62154e85",
    "scrolled": false
   },
   "outputs": [],
   "source": [
    "show_cleaned_vis(df,\"zipcode\", discrete=True, kde=False)"
   ]
  },
  {
   "cell_type": "markdown",
   "metadata": {
    "id": "6-P7OXcasq2D"
   },
   "source": [
    "---\n",
    "**Observations**\n",
    "\n",
    ">* No linear relationship; not normally distributed\n",
    "---\n",
    "**TO-DO**\n",
    "\n",
    ">* Treat as categorical variable\n",
    ">\n",
    ">* Perform OneHotEncoding to create new features for modeling.\n",
    "---"
   ]
  },
  {
   "cell_type": "markdown",
   "metadata": {
    "id": "wpeCeCCasq2D"
   },
   "source": [
    "### lat"
   ]
  },
  {
   "cell_type": "code",
   "execution_count": null,
   "metadata": {
    "id": "Kc4AN0Rrsq2D",
    "outputId": "1fba4c7c-6084-406f-8f1e-5ba58313e1b4",
    "scrolled": false
   },
   "outputs": [],
   "source": [
    "show_cleaned_vis(df,\"lat\")"
   ]
  },
  {
   "cell_type": "markdown",
   "metadata": {
    "id": "zFLAb-cQsq2D"
   },
   "source": [
    "**Observations**\n",
    "\n",
    ">* No linear relationship and not normally distributed.\n",
    "\n",
    "---\n",
    "**TO-DO**\n",
    "\n",
    ">* Treat as continuous if used for modeling."
   ]
  },
  {
   "cell_type": "markdown",
   "metadata": {
    "id": "kKBhksmKsq2D"
   },
   "source": [
    "### long"
   ]
  },
  {
   "cell_type": "code",
   "execution_count": null,
   "metadata": {
    "id": "bE3EPDPMsq2D",
    "outputId": "d707bf01-73d7-4fb7-f531-ddaa8d272aa5",
    "scrolled": false
   },
   "outputs": [],
   "source": [
    "show_cleaned_vis(df,\"long\")"
   ]
  },
  {
   "cell_type": "markdown",
   "metadata": {
    "id": "_kj7xgYRsq2E"
   },
   "source": [
    "**Observations**\n",
    "\n",
    ">* No linear relationship and not normally distributed.\n",
    "\n",
    "---\n",
    "**TO-DO**\n",
    "\n",
    ">* Treat as continuous if used for modeling."
   ]
  },
  {
   "cell_type": "markdown",
   "metadata": {
    "id": "WDv_3hS5sq2E"
   },
   "source": [
    "### sqft_living15"
   ]
  },
  {
   "cell_type": "code",
   "execution_count": null,
   "metadata": {
    "id": "luLGHfCKsq2E",
    "outputId": "fb3be1d6-fd85-4530-94ed-86960a88b312",
    "scrolled": false
   },
   "outputs": [],
   "source": [
    "show_cleaned_vis(df,\"sqft_living15\")"
   ]
  },
  {
   "cell_type": "markdown",
   "metadata": {
    "id": "QtVJ3AkLsq2E"
   },
   "source": [
    "---\n",
    "**Observations**\n",
    "\n",
    ">* Most properties sold with sqft between 1500/2000 \n",
    ">\n",
    ">* Price follows linear trend and is normally distributed, although skewed right.\n",
    "---\n",
    "**TO-DO**\n",
    "\n",
    ">* Treat as continuous variable\n",
    "---"
   ]
  },
  {
   "cell_type": "markdown",
   "metadata": {
    "id": "MjQYCqAasq2E"
   },
   "source": [
    "### sqft_lot15"
   ]
  },
  {
   "cell_type": "code",
   "execution_count": null,
   "metadata": {
    "id": "2Wv8CQbrsq2F",
    "outputId": "5dd25e0c-e026-430d-e8c1-7090c01a67a5",
    "scrolled": false
   },
   "outputs": [],
   "source": [
    "show_cleaned_vis(df,\"sqft_lot15\")"
   ]
  },
  {
   "cell_type": "markdown",
   "metadata": {
    "id": "eF1dX4Opsq2F"
   },
   "source": [
    "---\n",
    "**Observations**\n",
    "\n",
    ">* No clear linear trend\n",
    "\n",
    "---\n",
    "**TO-DO**\n",
    ">* Treat as categorical\n",
    "---"
   ]
  },
  {
   "cell_type": "markdown",
   "metadata": {
    "id": "0RzFYbgcsq2F"
   },
   "source": [
    "# **Feature Engineering**"
   ]
  },
  {
   "cell_type": "markdown",
   "metadata": {
    "id": "8mpimDh2sq2F"
   },
   "source": [
    "## Creating `'yrs_old_sold'`"
   ]
  },
  {
   "cell_type": "markdown",
   "metadata": {
    "id": "HmU0Rwyjsq2F"
   },
   "source": [
    "I created this feature to differentiate between houses that were built recently versus older houses.\n",
    "\n",
    "In order to determine this feature, I need to determine the year the house was sold first."
   ]
  },
  {
   "cell_type": "markdown",
   "metadata": {
    "id": "lgTdOjJnsq2F"
   },
   "source": [
    "### Determine `'year_sold'`"
   ]
  },
  {
   "cell_type": "code",
   "execution_count": null,
   "metadata": {
    "id": "ltoQKbEFsq2G",
    "scrolled": false
   },
   "outputs": [],
   "source": [
    "## Pull the year from the \"date\" column\n",
    "df['year_sold'] = df['date'].map(lambda x: x[:4])\n",
    "\n",
    "## Change it from a string to an integer datatype\n",
    "df['year_sold'] =  df['year_sold'].map(lambda x: int(x))"
   ]
  },
  {
   "cell_type": "code",
   "execution_count": null,
   "metadata": {
    "colab": {
     "base_uri": "https://localhost:8080/",
     "height": 561
    },
    "id": "-1diPStDsq2G",
    "outputId": "8641b6d9-c243-403e-c499-3c73496baa61"
   },
   "outputs": [],
   "source": [
    "## Confirm that it was created\n",
    "df['year_sold'] in df.columns"
   ]
  },
  {
   "cell_type": "code",
   "execution_count": null,
   "metadata": {
    "id": "5bzz3E8Ssq2G",
    "outputId": "a8151bff-7f92-429b-b87d-e24f7a45cc5e"
   },
   "outputs": [],
   "source": [
    "## Review the values to ensure they are only the four-digit years\n",
    "df['year_sold'].value_counts()"
   ]
  },
  {
   "cell_type": "markdown",
   "metadata": {
    "id": "M9dY6ryUsq2G"
   },
   "source": [
    "### Calculate `'y_old_sold'`"
   ]
  },
  {
   "cell_type": "code",
   "execution_count": null,
   "metadata": {
    "id": "EjI_PHB0sq2G",
    "outputId": "f8199020-11ed-4252-80af-ee86afb89a78",
    "scrolled": true
   },
   "outputs": [],
   "source": [
    "## Calculating the age of the house at the time of sale\n",
    "df['y_old_sold'] = df['year_sold'] - df['yr_built']\n",
    "df['y_old_sold'].describe()\n",
    "\n",
    "## Minimum age is -1 due to a house being sold before it was finished being built"
   ]
  },
  {
   "cell_type": "code",
   "execution_count": null,
   "metadata": {
    "id": "lomf0SFasq2G",
    "outputId": "2cc48806-af29-4a90-af22-d937d85685f8"
   },
   "outputs": [],
   "source": [
    "## Confirming creation\n",
    "df.columns"
   ]
  },
  {
   "cell_type": "code",
   "execution_count": null,
   "metadata": {
    "id": "gsACaTOCsq2H",
    "outputId": "3e7053e8-ea16-4924-9a9a-73859600a1db"
   },
   "outputs": [],
   "source": [
    "## Confirming number of house entries\n",
    "df['y_old_sold'].value_counts().sort_index()"
   ]
  },
  {
   "cell_type": "code",
   "execution_count": null,
   "metadata": {
    "id": "7VOvbngzsq2H",
    "outputId": "993226f5-29ba-45e4-b0f3-9e9227e7224f",
    "scrolled": true
   },
   "outputs": [],
   "source": [
    "## Reviewing the descriptive stats for the data\n",
    "df['y_old_sold'].describe()"
   ]
  },
  {
   "cell_type": "markdown",
   "metadata": {
    "id": "Gzl5f2Ktsq2H"
   },
   "source": [
    "## `'was_renovated'`"
   ]
  },
  {
   "cell_type": "markdown",
   "metadata": {
    "id": "vL3j33BYsq2H"
   },
   "source": [
    "I created this feature to determine whether or not a house was renovated. If a house was renovated, what impact would that have on the price? "
   ]
  },
  {
   "cell_type": "code",
   "execution_count": null,
   "metadata": {
    "id": "X7QoQoBLsq2I"
   },
   "outputs": [],
   "source": [
    "## Using the year that the home was renovated to deterine whether or not the home was renovated\n",
    "reno_y_n = np.where(df['yr_renovated']>0, 1, 0 )\n",
    "df = df.assign(was_renovated = reno_y_n)"
   ]
  },
  {
   "cell_type": "code",
   "execution_count": null,
   "metadata": {
    "id": "kltnwNfIsq2I",
    "outputId": "caaada13-58e0-4c08-cf62-7b8fbeedf911"
   },
   "outputs": [],
   "source": [
    "## Checking values\n",
    "df['was_renovated'].value_counts()"
   ]
  },
  {
   "cell_type": "code",
   "execution_count": null,
   "metadata": {
    "id": "zEGN8WNtsq2I",
    "outputId": "0da99a61-499e-4211-de78-2e51de736626",
    "scrolled": true
   },
   "outputs": [],
   "source": [
    "## Confirming column was created\n",
    "df.columns"
   ]
  },
  {
   "cell_type": "markdown",
   "metadata": {
    "id": "fb2ISg5Xsq2I"
   },
   "source": [
    "## `\"yrs_since_reno\"`"
   ]
  },
  {
   "cell_type": "markdown",
   "metadata": {
    "id": "lFYYV9xCsq2I"
   },
   "source": [
    "If a house was renovated, how long ago was the renovation? Would more newly-renovated houses increase price?"
   ]
  },
  {
   "cell_type": "code",
   "execution_count": null,
   "metadata": {
    "id": "yROCJQ30sq2J",
    "outputId": "484891cb-b939-42e0-cf4b-8a1e38151b6f"
   },
   "outputs": [],
   "source": [
    "## Using new \"was_renovated\" feature to calculate how recently the house was renovated at the time of sale\n",
    "reno = df[df['was_renovated'] == 1]\n",
    "\n",
    "difference = reno['year_sold'] - reno['yr_renovated']\n",
    "\n",
    "difference"
   ]
  },
  {
   "cell_type": "code",
   "execution_count": null,
   "metadata": {
    "id": "PyCQiZsrsq2J",
    "outputId": "5796592a-238a-49ac-bddd-f571ba5830ce"
   },
   "outputs": [],
   "source": [
    "## Confirming column creation within the dataframe\n",
    "df.columns"
   ]
  },
  {
   "cell_type": "code",
   "execution_count": null,
   "metadata": {
    "id": "TzPxiLbIsq2J",
    "outputId": "b99d184f-085f-4a1e-82b5-9332a9a718ca",
    "scrolled": true
   },
   "outputs": [],
   "source": [
    "## Ensuring there are no null values in the new feature and replacing any with zeroes\n",
    "df = df.assign(yrs_since_reno = difference)\n",
    "\n",
    "df['yrs_since_reno'].fillna(0, inplace=True)\n",
    "\n",
    "df['yrs_since_reno'].isnull().sum()\n",
    "\n",
    "df['yrs_since_reno'].describe()\n",
    "\n",
    "## Minimum age is -1 due to a house being sold before it was finished being built"
   ]
  },
  {
   "cell_type": "markdown",
   "metadata": {
    "id": "G6TwLd00sq2J"
   },
   "source": [
    "## \"`has_bsmnt`\""
   ]
  },
  {
   "cell_type": "markdown",
   "metadata": {
    "id": "fl4Yn656sq2J"
   },
   "source": [
    "I noticed that there were fewer houses with a value for \"sqft_basement\" during my data exploration. I am curious if the presence or absence of a basement would have any impact."
   ]
  },
  {
   "cell_type": "code",
   "execution_count": null,
   "metadata": {
    "id": "lWHPc64-sq2J",
    "outputId": "1b48b91d-ebaf-4cdb-be5d-811fa8334a21"
   },
   "outputs": [],
   "source": [
    "## Determining whether or not a house has a basement based on the square footage\n",
    "df['has_bsmnt'] = np.where(df['sqft_basement'] > 0, 1, 0)\n",
    "\n",
    "# Reviewing the results\n",
    "display(df['has_bsmnt'].describe(), df['has_bsmnt'].value_counts())"
   ]
  },
  {
   "cell_type": "markdown",
   "metadata": {
    "id": "puQqlrLFsq2K"
   },
   "source": [
    "# **Correlations**"
   ]
  },
  {
   "cell_type": "markdown",
   "metadata": {
    "id": "Wf4tEuN1sq2K"
   },
   "source": [
    "## Determining Correlations with Price"
   ]
  },
  {
   "cell_type": "code",
   "execution_count": null,
   "metadata": {
    "id": "sOw4_jhVsq2K",
    "outputId": "90b78d09-3d7d-4737-c9ca-65c6967ccf66"
   },
   "outputs": [],
   "source": [
    "## Determining each feature's relationship with price\n",
    "\n",
    "df_corr = df.drop(['price', 'id', 'lat','long'], axis=1).corrwith(df['price']).sort_values(ascending=False)\n",
    "display(df_corr[0:5],df_corr[-6:-1])"
   ]
  },
  {
   "cell_type": "markdown",
   "metadata": {
    "id": "Co8mLW6Zsq2K"
   },
   "source": [
    "## Determining Multicollinearity"
   ]
  },
  {
   "cell_type": "code",
   "execution_count": null,
   "metadata": {
    "id": "J4xPBDMMsq2K",
    "outputId": "5fe4aeb3-5af0-420f-dd5a-05fccfb95dbe"
   },
   "outputs": [],
   "source": [
    "## Get the correlation matrix for the data (without the target)\n",
    "corr = df.drop('price',axis=1).corr()\n",
    "corr.round(2)"
   ]
  },
  {
   "cell_type": "code",
   "execution_count": null,
   "metadata": {
    "id": "6LjFop6Psq2L",
    "outputId": "bf3ad586-7fec-4f97-98a0-cfec0ca1ae72"
   },
   "outputs": [],
   "source": [
    "corr_val(df.drop('price',axis=1), figsize=(20,20));"
   ]
  },
  {
   "cell_type": "code",
   "execution_count": null,
   "metadata": {
    "id": "FZyJieM6sq2L"
   },
   "outputs": [],
   "source": [
    "## Correlation results ignoring duplicate values \n",
    "## Except for \"was_renovated\", which shows a perfect relationship to itself\n",
    "\n",
    "df_corr_results = df.corr().unstack().sort_values(ascending=False).drop_duplicates()"
   ]
  },
  {
   "cell_type": "code",
   "execution_count": null,
   "metadata": {
    "id": "4aGIQ8DGsq2L",
    "outputId": "e21a69e7-288d-409b-d99d-5773297dd456"
   },
   "outputs": [],
   "source": [
    "# Show strongest postive and negative correlations\n",
    "display(df_corr_results[1:11], df_corr_results[-11:-1])"
   ]
  },
  {
   "cell_type": "code",
   "execution_count": null,
   "metadata": {
    "id": "NX0PsIQmsq2L"
   },
   "outputs": [],
   "source": [
    "# Dropping columns to address multicollinearity (over .8)\n",
    "\n",
    "df.drop(['yr_renovated','sqft_basement','sqft_above'], axis=1, inplace=True)"
   ]
  },
  {
   "cell_type": "code",
   "execution_count": null,
   "metadata": {
    "id": "NfHwiihhsq2L",
    "outputId": "ba07fadc-541d-4a1b-f4ab-a0d279166b54"
   },
   "outputs": [],
   "source": [
    "# Rerunning model\n",
    "\n",
    "corr_val(df.drop('price',axis=1), figsize=(20,20));"
   ]
  },
  {
   "cell_type": "code",
   "execution_count": null,
   "metadata": {
    "id": "lz6NhZtDsq2M",
    "outputId": "9ceda911-5bc3-478a-ff30-4653b676a0b5",
    "scrolled": false
   },
   "outputs": [],
   "source": [
    "# Correlation results ignoring (most) duplicate values\n",
    "df_corr_results = df.corr().unstack().sort_values(ascending=False).drop_duplicates()\n",
    "\n",
    "# Show strongest postive and negative correlations\n",
    "display(df_corr_results[1:11], df_corr_results[-11:-1])"
   ]
  },
  {
   "cell_type": "markdown",
   "metadata": {
    "id": "ec-kVi6hsq2M"
   },
   "source": [
    "### Interpretation of Correlations"
   ]
  },
  {
   "cell_type": "markdown",
   "metadata": {
    "id": "MO8fInGdsq2M"
   },
   "source": [
    "***\n",
    "**Top 10 Positive Relationships**\n",
    ">* Nothing too surprising as most of the matches are intuitively related.\n",
    ">  * E.g. \"yr_renovated\" and \"was_renovated\" have a nearly-perfect positive correlation as \"was_renovated\" is determined by \"yr_renovated\" in our feature engineering.\n",
    ">\n",
    ">\n",
    ">* Two interesting relationships would be:\n",
    ">  * The living space (ft^2) and grade\n",
    ">    * Indicates that a larger house has a higher grade\n",
    "> * The living space (ft^2) of the 15 nearest houses sold\n",
    ">   * Indicates a larger area above ground (ft^2)\n",
    ">    * Perhaps larger houses are more likely to be nearby each other?\n",
    "***\n",
    "**Top 10 Negative Relationships**\n",
    ">* Older houses may have fewer bathrooms\n",
    ">* Older houses may have fewer floors\n",
    ">* Older houses have a lower grade\n",
    "***"
   ]
  },
  {
   "cell_type": "markdown",
   "metadata": {
    "id": "RTSyWtS6sq2M"
   },
   "source": [
    "# **Statistical Testing**"
   ]
  },
  {
   "cell_type": "markdown",
   "metadata": {
    "id": "pagdqsmNsq2M"
   },
   "source": [
    "## One-Way ANOVA"
   ]
  },
  {
   "cell_type": "markdown",
   "metadata": {
    "id": "6qVo6Vl9sq2M"
   },
   "source": [
    "I would assume that the condition of a house would have an impact on the price of a house (who would pay more for a run-down house that would need a lot of repair work?).\n",
    "\n",
    "I wanted to confirm that the different condition levels would be significant for modeling."
   ]
  },
  {
   "cell_type": "markdown",
   "metadata": {
    "id": "wbQPX2Ccsq2N"
   },
   "source": [
    "### *Testing `'condition'`*"
   ]
  },
  {
   "cell_type": "markdown",
   "metadata": {
    "id": "xgK5pTmhsq2N"
   },
   "source": [
    "* H0: The feature \"condition\" does not have an effect on price.\n",
    "\n",
    "* Ha: The feature \"condition\" does  have an effect on price.\n"
   ]
  },
  {
   "cell_type": "code",
   "execution_count": null,
   "metadata": {
    "id": "xe1MbyMtsq2N"
   },
   "outputs": [],
   "source": [
    "## Defining variables for the prices of each value of conditions\n",
    "\n",
    "condition_1 = df.loc[df['condition'] == 1, 'price']\n",
    "condition_2 = df.loc[df['condition'] == 2, 'price']\n",
    "condition_3 = df.loc[df['condition'] == 3, 'price']\n",
    "condition_4 = df.loc[df['condition'] == 4, 'price']\n",
    "condition_5 = df.loc[df['condition'] == 5, 'price']"
   ]
  },
  {
   "cell_type": "code",
   "execution_count": null,
   "metadata": {
    "id": "DiDFHUHOsq2N",
    "outputId": "0711a090-2a13-4e69-feae-3d663b24d10a"
   },
   "outputs": [],
   "source": [
    "## Running ANOVA test to determine significance\n",
    "\n",
    "## Define alpha\n",
    "alpha = .05\n",
    "\n",
    "## Run test\n",
    "result = stats.f_oneway(condition_1, condition_2, condition_3, condition_4, condition_5)\n",
    "f_stat, p_value = result\n",
    "\n",
    "# Evaluate signficance\n",
    "if p_value < .05:\n",
    "    print(f'The condition of a home is statistically significant with a p-value of {p_value}.')\n",
    "    \n",
    "else:\n",
    "     print(f'The condition of a home is not statistically significant with a p-value of {p_value}.')"
   ]
  },
  {
   "cell_type": "code",
   "execution_count": null,
   "metadata": {
    "id": "_3orw6bWsq2N",
    "outputId": "50c265c8-130d-4a38-c424-8dabb2f1f64f"
   },
   "outputs": [],
   "source": [
    "# Show visual of conclusion\n",
    "\n",
    "sns.barplot(data=df, x= 'condition', y = 'price', ci=68)\n",
    "plt.suptitle(\"Conditon's Affect on Price\", size = (20))\n",
    "plt.xlabel('Condition')\n",
    "plt.ylabel('Price ($)');"
   ]
  },
  {
   "cell_type": "markdown",
   "metadata": {
    "id": "XzKDlc_esq2O"
   },
   "source": [
    "#### Interpretation"
   ]
  },
  {
   "cell_type": "markdown",
   "metadata": {
    "id": "zWjL33n8sq2O"
   },
   "source": [
    "> The t-test shows that the condition of a house is statistically significant due to the p-value below our alpha of .05.\n",
    ">\n",
    "> This means that the quality of a house will have a statistically significant impact on the sell price."
   ]
  },
  {
   "cell_type": "markdown",
   "metadata": {
    "id": "ATFs3b9Hsq2P"
   },
   "source": [
    "## Two-Sample T-Tests"
   ]
  },
  {
   "cell_type": "markdown",
   "metadata": {
    "id": "gPCrxq7Tsq2P"
   },
   "source": [
    "Again, common sense tells us that waterfront homes would sell for higher prices, but I wanted to confirm that assumption."
   ]
  },
  {
   "cell_type": "markdown",
   "metadata": {
    "id": "gubc6lj5sq2P"
   },
   "source": [
    "### *Testing  `'waterfront'`*"
   ]
  },
  {
   "cell_type": "markdown",
   "metadata": {
    "id": "hWdn8FqJsq2Q"
   },
   "source": [
    "---\n",
    "**Hypotheses**\n",
    "\n",
    ">* **H0:** The feature \"waterfront\" does not have an effect on price.\n",
    ">\n",
    ">* **HA:** The feature \"waterfront\" does  have an effect on price.\n",
    ">\n",
    ">* **Alpha** = .05\n",
    "---"
   ]
  },
  {
   "cell_type": "code",
   "execution_count": null,
   "metadata": {
    "id": "yjQblRCmsq2Q"
   },
   "outputs": [],
   "source": [
    "# Set variables to represent whether or not a property is listed as 'waterfront.'\n",
    "\n",
    "wf_yes = df.loc[df['waterfront'] == 1, 'price']\n",
    "wf_no = df.loc[df['waterfront'] == 0, 'price']"
   ]
  },
  {
   "cell_type": "code",
   "execution_count": null,
   "metadata": {
    "id": "SNoysQKPsq2Q",
    "outputId": "bdbf82c7-22ff-4d90-a724-3345cd2e4467"
   },
   "outputs": [],
   "source": [
    "ttest_review(wf_yes, wf_no)"
   ]
  },
  {
   "cell_type": "code",
   "execution_count": null,
   "metadata": {
    "id": "DicqNa_xsq2R",
    "outputId": "ef434034-7eaf-4054-daf4-006f3e2c70ef"
   },
   "outputs": [],
   "source": [
    "# Show visual of conclusion\n",
    "\n",
    "sns.barplot(data=df, x= 'waterfront', y = 'price', ci=68);"
   ]
  },
  {
   "cell_type": "markdown",
   "metadata": {
    "id": "KNbtcqHFsq2R"
   },
   "source": [
    "#### Interpretation"
   ]
  },
  {
   "cell_type": "markdown",
   "metadata": {
    "id": "SgLxEdZ1sq2R"
   },
   "source": [
    "> The t-test shows that waterfront is statistically significant due to the p-value below our alpha of .05.\n",
    ">\n",
    "> This means that having a house on the waterfront will have a significant impact on the sell price."
   ]
  },
  {
   "cell_type": "markdown",
   "metadata": {
    "id": "1Fkrd1Khsq2S"
   },
   "source": [
    "### *Testing `\"was_renovated\"`*"
   ]
  },
  {
   "cell_type": "markdown",
   "metadata": {
    "id": "Rrwe_sRVsq2S"
   },
   "source": [
    "**Hypotheses**\n",
    "\n",
    "---\n",
    ">* **H0:** There is not a statistically significant difference in price in homes with a basement than those without.\n",
    ">\n",
    ">* **HA:** There is a statistically significant difference in price in homes with a basement than those without.\n",
    ">\n",
    ">* **Alpha** = 0.05\n",
    "---"
   ]
  },
  {
   "cell_type": "code",
   "execution_count": null,
   "metadata": {
    "id": "0qa0trbYsq2S"
   },
   "outputs": [],
   "source": [
    "reno_y = df.loc[df['was_renovated'] == 1, 'price']\n",
    "reno_n = df.loc[df['was_renovated'] == 0, 'price']\n"
   ]
  },
  {
   "cell_type": "code",
   "execution_count": null,
   "metadata": {
    "id": "RMNlQcJCsq2S",
    "outputId": "b7bb7a86-a2d9-419a-9450-5629d94a9a2b"
   },
   "outputs": [],
   "source": [
    "ttest_review(reno_y, reno_n)"
   ]
  },
  {
   "cell_type": "code",
   "execution_count": null,
   "metadata": {
    "id": "hPq6AGApsq2S",
    "outputId": "8b8f00c7-ef4c-4b9d-eee8-9bf5b8dcded0",
    "scrolled": false
   },
   "outputs": [],
   "source": [
    "# Show visual of conclusion\n",
    "\n",
    "sns.barplot(data=df, x= 'was_renovated', y = 'price', ci=68);"
   ]
  },
  {
   "cell_type": "markdown",
   "metadata": {
    "id": "jr45YIu1sq2S"
   },
   "source": [
    "#### Interpretation"
   ]
  },
  {
   "cell_type": "markdown",
   "metadata": {
    "id": "oSaSkJmusq2T"
   },
   "source": [
    "> The t-test shows that having a basement is statistically significant due to the p-value below our alpha of .05.\n",
    ">\n",
    "> This means that having a house with a basement will have a significant impact on the sell price."
   ]
  },
  {
   "cell_type": "markdown",
   "metadata": {
    "id": "KyrJSNajsq2T"
   },
   "source": [
    "# **Inferential Modeling**"
   ]
  },
  {
   "cell_type": "markdown",
   "metadata": {
    "id": "osjaKwPusq2T"
   },
   "source": [
    "## Baseline Model with Raw Data"
   ]
  },
  {
   "cell_type": "markdown",
   "metadata": {
    "id": "hcBMl7Szsq2T"
   },
   "source": [
    "Creating a baseline model using the raw dataset."
   ]
  },
  {
   "cell_type": "code",
   "execution_count": null,
   "metadata": {
    "id": "rdv6gEP0sq2T",
    "outputId": "091433ff-045a-4c95-b743-d9a266772e5d",
    "scrolled": true
   },
   "outputs": [],
   "source": [
    "## Reviewing feature names and their datatypes\n",
    "df.info()"
   ]
  },
  {
   "cell_type": "code",
   "execution_count": null,
   "metadata": {
    "id": "-MbOfyeYsq2T",
    "outputId": "8f8cb1a1-c364-4bb0-d28e-e592fbad16e4"
   },
   "outputs": [],
   "source": [
    "## Establishing the features for inferential modeling\n",
    "\n",
    "categorical_features = ['was_renovated','has_bsmnt', 'waterfront']\n",
    "\n",
    "continuous_features = ['y_old_sold','yrs_since_reno', 'bedrooms', 'bathrooms',\n",
    "                       'condition','grade', 'floors']\n",
    "\n",
    "model_baseline = create_model(df,continuous_features,categorical_features);"
   ]
  },
  {
   "cell_type": "markdown",
   "metadata": {
    "id": "hQULST8Vsq2U"
   },
   "source": [
    "---\n",
    "**Interpretation:**\n",
    "\n",
    ">* R^2: ~.6, less than target of .75\n",
    ">\n",
    ">* Residual plots show heteroscedasticity\n",
    ">\n",
    ">* Q-Q Plot shows non-normal residuals\n",
    ">\n",
    ">* Changes: remove outliers and retest\n",
    "---"
   ]
  },
  {
   "cell_type": "markdown",
   "metadata": {
    "id": "jM3a19FXsq2U"
   },
   "source": [
    "## Model without Outliers in 'Price'"
   ]
  },
  {
   "cell_type": "markdown",
   "metadata": {
    "id": "H_pMiJLOsq2U"
   },
   "source": [
    "What would the model look like if we ignored the outliers?"
   ]
  },
  {
   "cell_type": "markdown",
   "metadata": {
    "id": "s4aSzcfIsq2U"
   },
   "source": [
    "### Removing Outliers from 'Price' Data"
   ]
  },
  {
   "cell_type": "code",
   "execution_count": null,
   "metadata": {
    "id": "tEZiZkRdsq2U",
    "outputId": "5f3eb837-895d-475a-dd6f-fa7459250164"
   },
   "outputs": [],
   "source": [
    "## Remove outliers from price \n",
    "idx_outs = find_outliers_z(df['price'])\n",
    "df_clean = df[~idx_outs].copy()\n",
    "df_clean"
   ]
  },
  {
   "cell_type": "code",
   "execution_count": null,
   "metadata": {
    "id": "1EQm3MNXsq2V",
    "outputId": "1f1fef5c-4176-4a07-c389-ab6172e44fc5"
   },
   "outputs": [],
   "source": [
    "## Remove outliers from bedrooms\n",
    "idx_outs = find_outliers_z(df_clean['bedrooms'])\n",
    "df_clean = df_clean[~idx_outs].copy()\n",
    "\n",
    "df_clean"
   ]
  },
  {
   "cell_type": "code",
   "execution_count": null,
   "metadata": {
    "id": "js_lW6Krsq2V",
    "outputId": "aa668c37-ae0b-4837-a2ac-b707e4fbe771"
   },
   "outputs": [],
   "source": [
    "df_clean.describe()"
   ]
  },
  {
   "cell_type": "code",
   "execution_count": null,
   "metadata": {
    "id": "nnUmjRNrsq2W",
    "outputId": "1e7e6dfe-c661-4118-8008-bb7ae16338d2"
   },
   "outputs": [],
   "source": [
    "## Redefining updated features and re-running model\n",
    "\n",
    "categorical_features = ['was_renovated','has_bsmnt', 'waterfront']\n",
    "\n",
    "continuous_features = ['y_old_sold','yrs_since_reno', 'bedrooms', 'bathrooms',\n",
    "                       'condition','grade', 'floors']\n",
    "\n",
    "model_clean = create_model(df_clean,cont=continuous_features,cat=categorical_features);"
   ]
  },
  {
   "cell_type": "markdown",
   "metadata": {
    "id": "rNMiPXvmsq2W"
   },
   "source": [
    "Interpretation:\n",
    "\n",
    "* R^2: ~.59, less than target of .75 (performed slightly worse)\n",
    "\n",
    "* Residual plots show somewhat increased homoscedasticity\n",
    "\n",
    "* Q-Q Plot shows more normal residuals (vs. earlier plot)\n",
    "\n",
    "* Changes: add zipcode "
   ]
  },
  {
   "cell_type": "markdown",
   "metadata": {
    "id": "z0ehm9Whsq2W"
   },
   "source": [
    "## Model (Clean) - w/ Zip Codes"
   ]
  },
  {
   "cell_type": "code",
   "execution_count": null,
   "metadata": {
    "id": "Oy6FlXRZsq2X",
    "outputId": "7254ed7b-3fdb-4342-ac61-781881f65d02"
   },
   "outputs": [],
   "source": [
    "## Adding zip codes as a categorical variable\n",
    "\n",
    "categorical_features = ['was_renovated','has_bsmnt', 'waterfront', 'zipcode']\n",
    "\n",
    "continuous_features = ['y_old_sold','yrs_since_reno', 'bedrooms', 'bathrooms',\n",
    "                       'condition','grade', 'floors']\n",
    "\n",
    "model_w_zip = create_model(df_clean,continuous_features, categorical_features)"
   ]
  },
  {
   "cell_type": "markdown",
   "metadata": {
    "id": "T4aVFVpYsq2X"
   },
   "source": [
    "Interpretation:\n",
    "\n",
    ">* Model is significant with an R-squared value over the threshold of .75 (result: .77)\n",
    ">\n",
    ">* Residual plots show somewhat homoscedasticity\n",
    ">\n",
    ">* Q-Q Plot shows more normal residuals (vs. earlier plot)\n",
    ">\n",
    ">* Changes: remove features with p-values higher than .05 (statistically insignificant values)"
   ]
  },
  {
   "cell_type": "code",
   "execution_count": null,
   "metadata": {
    "id": "fOyUpfaisq2X",
    "outputId": "d3b37c03-48ae-4078-8397-9cab8b5db5de",
    "scrolled": false
   },
   "outputs": [],
   "source": [
    "## Re-running model after removing 'has_bsmnt' and 'floors'\" due to high p-value\n",
    "categorical_features = ['was_renovated','waterfront', 'zipcode']\n",
    "\n",
    "continuous_features = ['y_old_sold','yrs_since_reno', 'bedrooms', 'bathrooms',\n",
    "                       'condition','grade']\n",
    "\n",
    "model_clean = create_model(data=df_clean, cont=continuous_features, cat=categorical_features)"
   ]
  },
  {
   "cell_type": "code",
   "execution_count": null,
   "metadata": {
    "id": "lEy1A-Llsq2X"
   },
   "outputs": [],
   "source": [
    "# coeff_clean.sort_values(ascending=False)"
   ]
  },
  {
   "cell_type": "code",
   "execution_count": null,
   "metadata": {
    "id": "WJrJXFDRsq2Y",
    "scrolled": false
   },
   "outputs": [],
   "source": [
    "# # Graphing mode paramnerters to show values\n",
    "# coeff_clean = model_clean.params.sort_values(ascending=False)\n",
    "# coeff_clean.plot(kind='barh');"
   ]
  },
  {
   "cell_type": "markdown",
   "metadata": {
    "id": "6oXGAE6Wsq2Y"
   },
   "source": [
    "# Recommendations based on Inferential Modeling"
   ]
  },
  {
   "cell_type": "markdown",
   "metadata": {
    "id": "8bdHGFCCsq2Y"
   },
   "source": [
    "If a homeowner is interested in renovating their house, I would recommend the following improvements based on the high coefficients from my model.\n",
    "\n",
    "* Add bathrooms\n",
    "* Also consider adding bedrooms\n",
    "* Use high-quality materials in renovations\n",
    "\n",
    "While it is outside of the homeowner's ability to change, the zip code for a house's location also has a large impact on the price. A prospective buyer should keep the zip code of the area in mind to help determine the prices of the homes there."
   ]
  },
  {
   "cell_type": "code",
   "execution_count": null,
   "metadata": {
    "id": "qsZS96CYsq2Y",
    "outputId": "39c4ec85-108f-471a-ec32-8a744974ff48"
   },
   "outputs": [],
   "source": [
    "## Visualizing the impact of number of bathrooms on price\n",
    "sns.regplot(data=df_clean, x=\"bathrooms\", y='price')\n",
    "plt.suptitle('Impact of Number of Bathrooms on Price')\n",
    "plt.xlabel('Number of Bathrooms')\n",
    "plt.ylabel('Price ($)');"
   ]
  },
  {
   "cell_type": "code",
   "execution_count": null,
   "metadata": {
    "id": "asT9x0w_sq2Z",
    "outputId": "f7abd67e-df96-4273-e692-287f9fa6833d"
   },
   "outputs": [],
   "source": [
    "## Visualizing impact of number of bedrooms on price\n",
    "sns.regplot(data=df_clean, x=\"bedrooms\", y='price')\n",
    "plt.suptitle('Impact of Number of Bedrooms on Price')\n",
    "plt.xlabel('Number of Bedrooms')\n",
    "plt.ylabel('Price ($)');"
   ]
  },
  {
   "cell_type": "code",
   "execution_count": null,
   "metadata": {
    "id": "BWraZ1qbsq2Z",
    "outputId": "38a2d3d7-a999-4a6f-9d52-ec2980b36679"
   },
   "outputs": [],
   "source": [
    "## Visualizing impact of the grade of construction materials on price\n",
    "sns.regplot(data=df_clean, x=\"grade\", y='price')\n",
    "plt.suptitle('Impact of Grade of Materials on Price')\n",
    "plt.xlabel('Grade of Materials')\n",
    "plt.ylabel('Price ($)');"
   ]
  },
  {
   "cell_type": "code",
   "execution_count": null,
   "metadata": {
    "id": "p4bKXY8Qsq2Z",
    "outputId": "05dae25b-fc6f-4742-a21f-9b8b7c6d1a45",
    "scrolled": false
   },
   "outputs": [],
   "source": [
    "## Representing the diversity of prices based on zip codes\n",
    "\n",
    "fg = sns.catplot(data=df_clean, x=\"zipcode\", y='price', aspect=2.75, height=5)\n",
    "fg.ax.set_xticklabels(fg.ax.get_xticklabels(), rotation=45, ha='right')\n",
    "plt.suptitle('Impact of Zip Code on Price')\n",
    "plt.xlabel('Zip Code')\n",
    "plt.ylabel('Price ($)');"
   ]
  },
  {
   "cell_type": "markdown",
   "metadata": {
    "id": "gveTdOoZsq2a"
   },
   "source": [
    "# **Model Testing for Predictions**"
   ]
  },
  {
   "cell_type": "markdown",
   "metadata": {
    "id": "xJ5wrQk5sq2a"
   },
   "source": [
    "Now that I have a working model, I want to go ahead and test it to see how well it works. I will split the data in a 75/25 split into two groups; train a model on the 75%; and then compare it against the remaining 25%. \n",
    "\n",
    "**My goal is to have a Root Mean Squared Error (RMSE) less than 200,000.**"
   ]
  },
  {
   "cell_type": "markdown",
   "metadata": {
    "id": "WR15-KmDsq2a"
   },
   "source": [
    "## ID Features, Target"
   ]
  },
  {
   "cell_type": "markdown",
   "metadata": {
    "id": "u081atqUsq2a"
   },
   "source": [
    "First, I want to establish the features I want to use in my testing and my target variable (in this case, price)."
   ]
  },
  {
   "cell_type": "code",
   "execution_count": null,
   "metadata": {
    "id": "LdpaAR3osq2a"
   },
   "outputs": [],
   "source": [
    "## Save the features that we used previously - I will use these features \n",
    "## to fit my model.\n",
    "\n",
    "X = df_clean[['was_renovated','waterfront', 'zipcode', 'y_old_sold',\n",
    "            'yrs_since_reno', 'bedrooms', 'bathrooms', 'condition','grade']].copy()"
   ]
  },
  {
   "cell_type": "code",
   "execution_count": null,
   "metadata": {
    "id": "J_k1iObRsq2a"
   },
   "outputs": [],
   "source": [
    "## Creating the y values by setting them equal to the 'price' values from the dataframe\n",
    "\n",
    "y = df_clean['price'].copy()"
   ]
  },
  {
   "cell_type": "code",
   "execution_count": null,
   "metadata": {
    "id": "cZKZ4CKisq2b",
    "outputId": "d3a55f62-df0c-46c1-d4af-48cf8bbda1cd"
   },
   "outputs": [],
   "source": [
    "## Verifying the two groups are of equal length\n",
    "\n",
    "print(X.shape[0] == y.shape[0])"
   ]
  },
  {
   "cell_type": "markdown",
   "metadata": {
    "id": "z3zhfDCMsq2b"
   },
   "source": [
    "## Create Train/Test Split"
   ]
  },
  {
   "cell_type": "markdown",
   "metadata": {
    "id": "Ywgx91Sisq2b"
   },
   "source": [
    "Now I will split the data into the train/test groups. Then, I will run the first linear regression on the \"train\" data, then another regression on the \"test\" data."
   ]
  },
  {
   "cell_type": "code",
   "execution_count": null,
   "metadata": {
    "id": "1lMgryRqsq2b"
   },
   "outputs": [],
   "source": [
    "## Establishing the train and test data before doing anything else\n",
    "\n",
    "X_train, X_test, y_train, y_test = train_test_split(X, y, test_size=0.25,\n",
    "                                                    random_state=5)"
   ]
  },
  {
   "cell_type": "code",
   "execution_count": null,
   "metadata": {
    "id": "X6dWiRDNsq2b"
   },
   "outputs": [],
   "source": [
    "## Using OneHotEncoder to create columns for the categorical variables.\n",
    "\n",
    "## Create list of categorical variables\n",
    "cat_feats = ['condition','grade', 'zipcode']\n",
    "\n",
    "## Create the OHE without \"drop='first\" as it would throw an error in this case\n",
    "ohe = OneHotEncoder(handle_unknown = 'ignore', sparse=False)\n",
    "\n",
    "## Using OHE on our categorical variables for training (NOT testing)\n",
    "train_ohe = ohe.fit_transform(X_train[cat_feats])\n",
    "test_ohe = ohe.transform(X_test[cat_feats])"
   ]
  },
  {
   "cell_type": "code",
   "execution_count": null,
   "metadata": {
    "id": "Cv7nd8pgsq2b"
   },
   "outputs": [],
   "source": [
    "## Getting feature names from our list of categories\n",
    "feat_col_name = ohe.get_feature_names(cat_feats)"
   ]
  },
  {
   "cell_type": "code",
   "execution_count": null,
   "metadata": {
    "id": "K7_nby2tsq2b"
   },
   "outputs": [],
   "source": [
    "## Creating dataframes from the results of our fit&transform and transform\n",
    "\n",
    "train_ohe_df = pd.DataFrame(train_ohe, columns=feat_col_name, index=X_train.index)\n",
    "\n",
    "test_ohe_df = pd.DataFrame(test_ohe, columns=feat_col_name, index=X_test.index)"
   ]
  },
  {
   "cell_type": "code",
   "execution_count": null,
   "metadata": {
    "id": "1UqkMFNvsq2d",
    "outputId": "e2e26798-5f70-4fc1-a208-fb852d597903"
   },
   "outputs": [],
   "source": [
    "## Reviewing one of the resulting dataframes\n",
    "test_ohe_df"
   ]
  },
  {
   "cell_type": "code",
   "execution_count": null,
   "metadata": {
    "id": "0dkYNPEpsq2d",
    "outputId": "3d7ae6a8-0f7d-40ae-fb29-aa8fd86fb57c"
   },
   "outputs": [],
   "source": [
    "## Reviewing the training dataset\n",
    "X_train"
   ]
  },
  {
   "cell_type": "code",
   "execution_count": null,
   "metadata": {
    "id": "jZpbJz5esq2e"
   },
   "outputs": [],
   "source": [
    "## Concatenating the two training dataframes after OHE\n",
    "X_train_ohe = pd.concat([X_train.drop(cat_feats, axis=1), train_ohe_df], axis=1)"
   ]
  },
  {
   "cell_type": "code",
   "execution_count": null,
   "metadata": {
    "id": "PA-j80S_sq2e",
    "outputId": "a3cce813-49ab-452b-9fc8-af8f8a62cd6c"
   },
   "outputs": [],
   "source": [
    "## Concatenating the two test dataframes after OHE\n",
    "X_test_ohe = pd.concat([X_test.drop(cat_feats, axis=1), test_ohe_df], axis=1)\n",
    "X_test_ohe"
   ]
  },
  {
   "cell_type": "markdown",
   "metadata": {
    "id": "Sj0kz257sq2e"
   },
   "source": [
    "## Fitting the Model"
   ]
  },
  {
   "cell_type": "markdown",
   "metadata": {
    "id": "I0cR-Z66sq2e"
   },
   "source": [
    "Now I will create the linear regression model."
   ]
  },
  {
   "cell_type": "code",
   "execution_count": null,
   "metadata": {
    "id": "J83jJJVRsq2e",
    "outputId": "9f7da6d8-be3b-46ab-dee0-3b8a4eb1fb3e"
   },
   "outputs": [],
   "source": [
    "## Instantiating the model and fitting it\n",
    "lr = LinearRegression()\n",
    "\n",
    "lr.fit(X_train_ohe, y_train)"
   ]
  },
  {
   "cell_type": "code",
   "execution_count": null,
   "metadata": {
    "id": "lAh3ti0usq2e",
    "outputId": "ba593559-654c-4531-d6f5-b04409ad0638"
   },
   "outputs": [],
   "source": [
    "## Checking the R^2 for train and test\n",
    "\n",
    "train_r = lr.score(X_train_ohe, y_train)\n",
    "print(f'R-Square value for training data is {round(train_r,3)}.')\n",
    "\n",
    "test_r = lr.score(X_test_ohe, y_test)\n",
    "print(f'R-Square value for test data is {round(test_r,3)}.')\n",
    "\n",
    "## Getting model coefficients\n",
    "train_coef = pd.Series(lr.coef_, index=X_train_ohe.columns)\n",
    "train_coef['intercept'] = lr.intercept_\n",
    "\n",
    "## Displaying resulting features and coefficients\n",
    "train_coef.sort_values(ascending=False)#.plot(kind='barh');"
   ]
  },
  {
   "cell_type": "code",
   "execution_count": null,
   "metadata": {
    "id": "00phmaVcsq2f"
   },
   "outputs": [],
   "source": [
    "## Determining predictions for training data\n",
    "\n",
    "y_train_pred = lr.predict(X_train_ohe)\n",
    "\n",
    "## Determining predictions for test data\n",
    "\n",
    "y_test_pred = lr.predict(X_test_ohe)"
   ]
  },
  {
   "cell_type": "markdown",
   "metadata": {
    "id": "uC7TS-Ytsq2f"
   },
   "source": [
    "## Evaluate Performance"
   ]
  },
  {
   "cell_type": "markdown",
   "metadata": {
    "id": "11EVLGXgsq2f"
   },
   "source": [
    "Let's see how it performed against the test dataset!"
   ]
  },
  {
   "cell_type": "code",
   "execution_count": null,
   "metadata": {
    "id": "up44Qsbasq2f",
    "outputId": "c9f02071-6a14-4394-c518-aac281b72c79"
   },
   "outputs": [],
   "source": [
    "## Calculating scores for training model\n",
    "\n",
    "train_mae = metrics.mean_absolute_error(y_train, y_train_pred)\n",
    "train_mse = metrics.mean_squared_error(y_train, y_train_pred)\n",
    "train_rmse = np.sqrt(metrics.mean_squared_error(y_train, y_train_pred))\n",
    "\n",
    "print('Evaluating performance of training data.')\n",
    "print()\n",
    "print(f'Mean Absolute Error: {train_mae:,.2f}')\n",
    "print(f'Mean Squared Error:  {train_mse:,.2f}')\n",
    "print()\n",
    "print(f'Root Mean Squared Error: {train_rmse:,.2f}')\n",
    "train_r = lr.score(X_train_ohe, y_train)\n",
    "print(f'R-Square value for training data is {round(train_r,2)}.')"
   ]
  },
  {
   "cell_type": "code",
   "execution_count": null,
   "metadata": {
    "id": "hcFNM96ysq2f",
    "outputId": "2102dd56-1199-4eb2-b174-c2fd1a2cb6e6",
    "scrolled": true
   },
   "outputs": [],
   "source": [
    "## Calculating scores for test model\n",
    "\n",
    "test_mae = metrics.mean_absolute_error(y_test, y_test_pred)\n",
    "test_mse = metrics.mean_squared_error(y_test, y_test_pred)\n",
    "test_rmse = np.sqrt(metrics.mean_squared_error(y_test, y_test_pred))\n",
    "\n",
    "print(f'Mean Absolute Error: {test_mae:,.2f}')\n",
    "print(f'Mean Squared Error: {test_mse:,.2f}')\n",
    "print()\n",
    "print(f'Root Mean Squared Error: {test_rmse:,.2f}')\n",
    "test_r = lr.score(X_test_ohe, y_test)\n",
    "print(f'R-Square value for test data is {round(test_r,2)}.')"
   ]
  },
  {
   "cell_type": "markdown",
   "metadata": {
    "id": "XBqd_9G3sq2f"
   },
   "source": [
    "## Comparing Results"
   ]
  },
  {
   "cell_type": "code",
   "execution_count": null,
   "metadata": {
    "id": "gurpyNr8sq2g",
    "outputId": "ed6c1bfe-1df1-42e3-cc3f-68f08bec65aa",
    "scrolled": true
   },
   "outputs": [],
   "source": [
    "## Calculating difference between RMSE(Training) and RMSE(Test)\n",
    "\n",
    "print('Our RMSE values for each set:')\n",
    "print(f'Train RMSE: {train_rmse:,.2f}')\n",
    "print(f'Test RMSE: {test_rmse:,.2f}')\n",
    "\n",
    "diff = train_rmse - test_rmse\n",
    "\n",
    "print()\n",
    "print(f'The difference in RMSE between our training and test sets is {diff:,.2f}.')"
   ]
  },
  {
   "cell_type": "markdown",
   "metadata": {
    "id": "HnP7OWpnsq2i"
   },
   "source": [
    "## Testing Assumptions"
   ]
  },
  {
   "cell_type": "code",
   "execution_count": null,
   "metadata": {
    "id": "OFnElN0Rsq2i",
    "outputId": "ee26d375-8ed7-43ab-cabe-c1b9b3e9315b"
   },
   "outputs": [],
   "source": [
    "## Determining residuals\n",
    "residuals = (y_test - y_test_pred)\n",
    "residuals"
   ]
  },
  {
   "cell_type": "code",
   "execution_count": null,
   "metadata": {
    "id": "DTQ2Xg_6sq2i",
    "outputId": "077a363d-27d8-462a-9bf5-718857b37f96"
   },
   "outputs": [],
   "source": [
    "## Plotting to test for normality\n",
    "sns.histplot(data=residuals);"
   ]
  },
  {
   "cell_type": "code",
   "execution_count": null,
   "metadata": {
    "id": "-XvKdUZ8sq2i",
    "outputId": "a5d0fd55-9b9b-416d-9c9a-a9cf108cade0",
    "scrolled": true
   },
   "outputs": [],
   "source": [
    "## Checking the homoscedasticity of the new model\n",
    "sns.residplot(x=y_test, y=residuals, lowess=True, color=\"g\");"
   ]
  },
  {
   "cell_type": "markdown",
   "metadata": {
    "id": "HGls8iMDsq2i"
   },
   "source": [
    "### Interpretation of Model Results"
   ]
  },
  {
   "cell_type": "markdown",
   "metadata": {
    "id": "oQio8WsZsq2j"
   },
   "source": [
    "The model does a great job of explaining the variance between our selected features, with an r-squared value of .79/1.\n",
    "\n",
    "The RMSE for both the training and test sets are below our target of 200,000! Additionally, the difference between the two is within an acceptable range.\n",
    "\n",
    "The assumption tests confirm the assumptions that our residuals would be normally distributed and homoscedastic."
   ]
  },
  {
   "cell_type": "markdown",
   "metadata": {
    "id": "oiRay-fwsq2j"
   },
   "source": [
    "## Recursive Feature Elimination"
   ]
  },
  {
   "cell_type": "markdown",
   "metadata": {
    "id": "9LfXmFl4sq2j"
   },
   "source": [
    "I have a good model created above, but I'd like to see if changing the features would have an impact for me.\n",
    "\n",
    "**I will use the Recursive Feature Elimination method with Cross Validation to determine another selection of features.**"
   ]
  },
  {
   "cell_type": "code",
   "execution_count": null,
   "metadata": {
    "id": "Bna-FQfgsq2j"
   },
   "outputs": [],
   "source": [
    "## Creating the settings for the selector\n",
    "selector = RFECV(estimator=lr, step=2, cv=3, scoring='neg_mean_squared_error', n_jobs=-1, verbose=1)"
   ]
  },
  {
   "cell_type": "code",
   "execution_count": null,
   "metadata": {
    "id": "-Y7RgkKFsq2j",
    "outputId": "b438b66b-75a9-4f88-dfea-0c7d1019aa3f"
   },
   "outputs": [],
   "source": [
    "## Running it on our training data\n",
    "selector.fit(X_train_ohe, y_train)"
   ]
  },
  {
   "cell_type": "code",
   "execution_count": null,
   "metadata": {
    "id": "WQB4Bpw4sq2k"
   },
   "outputs": [],
   "source": [
    "## Dividing the data into two separate variables for inspection\n",
    "selected_columns = X_train_ohe.columns[selector.get_support()]\n",
    "removed_columns = X_train_ohe.columns[~selector.get_support()]"
   ]
  },
  {
   "cell_type": "code",
   "execution_count": null,
   "metadata": {
    "id": "qo9isA03sq2k",
    "outputId": "032ebecf-95a3-4f0e-fda3-ddd8ec7fe913"
   },
   "outputs": [],
   "source": [
    "## Inspecting the columns with the greatest impact according to the RSECV method\n",
    "list(selected_columns.values)"
   ]
  },
  {
   "cell_type": "code",
   "execution_count": null,
   "metadata": {
    "id": "BiuOJmKNsq2k",
    "outputId": "f8a77711-f4da-4a33-a8e4-5d7703f933e6"
   },
   "outputs": [],
   "source": [
    "## Testing the new list of columns\n",
    "\n",
    "## Instantiating a new regression model\n",
    "lr_rfe = LinearRegression()\n",
    "\n",
    "## Fitting the model to the new data\n",
    "lr_rfe.fit(X_train_ohe[selected_columns], y_train)\n",
    "\n",
    "# Using the model to create new predictions\n",
    "y_rfe = lr_rfe.predict(X_train_ohe[selected_columns])\n",
    "\n",
    "# Determining RMSE for new list of columns and TRAIN data\n",
    "trainRFE_rmse = np.sqrt(metrics.mean_squared_error(y_train, y_rfe))\n",
    "\n",
    "print(f'Training Root Mean Squared Error: {trainRFE_rmse:,.2f}')\n",
    "\n",
    "# Determining RMSE for new list of columns and TEST data\n",
    "y_pred_rfe = lr_rfe.predict(X_test_ohe[selected_columns])\n",
    "\n",
    "testRFE_rmse = np.sqrt(metrics.mean_squared_error(y_test, y_pred_rfe))\n",
    "\n",
    "print(f'Testing Root Mean Squared Error: {testRFE_rmse:,.2f}')\n",
    "\n",
    "diff2 = trainRFE_rmse - testRFE_rmse\n",
    "print()\n",
    "print(f'The difference in RMSE between our training and test sets is {diff2:,.2f}.')"
   ]
  },
  {
   "cell_type": "code",
   "execution_count": null,
   "metadata": {
    "id": "1yb5B-SDsq2k",
    "outputId": "9604652f-53a4-46b4-9e7e-e8c13e5a21fb"
   },
   "outputs": [],
   "source": [
    "test_rsq = lr_rfe.score(X_test_ohe[selected_columns], y_test)\n",
    "print(f'R-Square value for testing data after RFECV is {round(test_rsq,2)}.')"
   ]
  },
  {
   "cell_type": "markdown",
   "metadata": {
    "id": "TuQUz5_gsq2l"
   },
   "source": [
    "### Interpretation of Results of RFEVC"
   ]
  },
  {
   "cell_type": "markdown",
   "metadata": {
    "id": "nIRmhQuOsq2l"
   },
   "source": [
    "---\n",
    "**Comparing RMSEs from original model to RFECV:**\n",
    "\n",
    "* **Pre-RFECV model results:**\n",
    "   * The R^2 value for both training and testing data was .79 (significant as it is over the .70 threshold).\n",
    "   * *Our RMSE values for each set:*\n",
    "        * Train RMSE: 117,679.79\n",
    "        * Test RMSE: 122,263.56\n",
    "    * The difference in RMSE between our training and test sets is **-4,583.77**.\n",
    "\n",
    "\n",
    " * **Post-RFECV model results:**\n",
    "     * The R^2 value for the test data is .48 (.31 lower than other model, and far below threshold).\n",
    "     * *Our RMSE values for each set:*\n",
    "         * Training Root Mean Squared Error: 182,158.41\n",
    "         * Testing Root Mean Squared Error: 191,360.88\n",
    "     * The difference in RMSE between our training and test sets is **-9,202.47**.\n",
    "\n",
    "---\n",
    "\n",
    "**Final Analysis of RFE method:** The RFE results produced a large decrease in model perfomance as determined by the lower R^2 and lower RMSE values. I will continue using the first model for future predictions.\n",
    "\n",
    "---"
   ]
  },
  {
   "cell_type": "markdown",
   "metadata": {
    "id": "ePzDV6dysq2l"
   },
   "source": [
    "# **Model Testing - Original Data**"
   ]
  },
  {
   "cell_type": "markdown",
   "metadata": {
    "id": "-Ej5PdPAsq2l"
   },
   "source": [
    "The model produced above was based on data from which we removed any outliers. I am re-running the tests to determine if there is any difference in the results. \n",
    "\n",
    "**My goal is to have a Root Mean Squared Error (RMSE) less than 200,000.**"
   ]
  },
  {
   "cell_type": "markdown",
   "metadata": {
    "id": "0oIBr13Tsq2l"
   },
   "source": [
    "## ID Features, Target"
   ]
  },
  {
   "cell_type": "code",
   "execution_count": null,
   "metadata": {
    "id": "OU4PKAM1sq2l"
   },
   "outputs": [],
   "source": [
    "## Saving the features that I used for inferential modeling - I will use these features \n",
    "## to fit my model.\n",
    "\n",
    "X = df[['was_renovated','waterfront', 'zipcode', 'y_old_sold',\n",
    "            'yrs_since_reno', 'bedrooms', 'bathrooms', 'condition','grade']].copy()"
   ]
  },
  {
   "cell_type": "code",
   "execution_count": null,
   "metadata": {
    "id": "me9QULf1sq2l"
   },
   "outputs": [],
   "source": [
    "## Creating the y values by setting them equal to the 'price' values from the dataframe\n",
    "\n",
    "y = df['price'].copy()"
   ]
  },
  {
   "cell_type": "code",
   "execution_count": null,
   "metadata": {
    "id": "gdxlPa7fsq2l",
    "outputId": "94e25dd6-f2e6-455e-9e64-0b38ccc9ab09"
   },
   "outputs": [],
   "source": [
    "## Verifying the two groups are of equal length\n",
    "\n",
    "print(X.shape[0] == y.shape[0])"
   ]
  },
  {
   "cell_type": "markdown",
   "metadata": {
    "id": "8uXAq1o9sq2m"
   },
   "source": [
    "## Create Train/Test Split"
   ]
  },
  {
   "cell_type": "markdown",
   "metadata": {
    "id": "mwP6qaTEsq2m"
   },
   "source": [
    "Now I will split the data into the train/test groups. Then, I will run the first linear regression on the \"train\" data, then another regression on the \"test\" data."
   ]
  },
  {
   "cell_type": "code",
   "execution_count": null,
   "metadata": {
    "id": "VfB9_nl0sq2m"
   },
   "outputs": [],
   "source": [
    "## Establishing the train and test data before doing anything else\n",
    "\n",
    "X_train, X_test, y_train, y_test = train_test_split(X, y, test_size=0.25,\n",
    "                                                    random_state=5)"
   ]
  },
  {
   "cell_type": "code",
   "execution_count": null,
   "metadata": {
    "id": "db26Rknfsq2m"
   },
   "outputs": [],
   "source": [
    "## Using OneHotEncoder to create columns for the categorical variables.\n",
    "\n",
    "## Create list of categorical variables\n",
    "cat_feats = ['condition','grade', 'zipcode']\n",
    "\n",
    "## Create the OHE without \"drop='first\" as it would throw an error in this case\n",
    "ohe = OneHotEncoder(handle_unknown = 'ignore', sparse=False)\n",
    "\n",
    "## Using OHE on our categorical variables for training (NOT testing)\n",
    "train_ohe = ohe.fit_transform(X_train[cat_feats])\n",
    "test_ohe = ohe.transform(X_test[cat_feats])"
   ]
  },
  {
   "cell_type": "code",
   "execution_count": null,
   "metadata": {
    "id": "CjT47QZjsq2m"
   },
   "outputs": [],
   "source": [
    "## Getting feature names from our list of categories\n",
    "feat_col_name = ohe.get_feature_names(cat_feats)"
   ]
  },
  {
   "cell_type": "code",
   "execution_count": null,
   "metadata": {
    "id": "Ra8XNLjhsq2m"
   },
   "outputs": [],
   "source": [
    "## Creating dataframes from the results of our fit&transform and transform\n",
    "\n",
    "train_ohe_df = pd.DataFrame(train_ohe, columns=feat_col_name, index=X_train.index)\n",
    "\n",
    "test_ohe_df = pd.DataFrame(test_ohe, columns=feat_col_name, index=X_test.index)"
   ]
  },
  {
   "cell_type": "code",
   "execution_count": null,
   "metadata": {
    "id": "XQSoFGn3sq2m",
    "outputId": "41e3ee77-7c5b-49c0-e712-2bd84b409e60"
   },
   "outputs": [],
   "source": [
    "## Reviewing one of the resulting dataframes\n",
    "test_ohe_df"
   ]
  },
  {
   "cell_type": "code",
   "execution_count": null,
   "metadata": {
    "id": "_I0pLUtesq2n",
    "outputId": "dccc7c41-d17c-4fdb-aca8-7024cf45d8ae"
   },
   "outputs": [],
   "source": [
    "X_train"
   ]
  },
  {
   "cell_type": "code",
   "execution_count": null,
   "metadata": {
    "id": "EkwUEb4Ysq2n"
   },
   "outputs": [],
   "source": [
    "## Combining the training dataframes after performing OHE\n",
    "X_train_ohe = pd.concat([X_train.drop(cat_feats, axis=1), train_ohe_df], axis=1)"
   ]
  },
  {
   "cell_type": "code",
   "execution_count": null,
   "metadata": {
    "id": "iPBBWTbXsq2n",
    "outputId": "f36519b2-412a-45f6-e224-57ae64178155"
   },
   "outputs": [],
   "source": [
    "## Combining the testing dataframes after performing OHE\n",
    "X_test_ohe = pd.concat([X_test.drop(cat_feats, axis=1), test_ohe_df], axis=1)\n",
    "X_test_ohe"
   ]
  },
  {
   "cell_type": "markdown",
   "metadata": {
    "id": "eQJF4zwCsq2n"
   },
   "source": [
    "## Fitting the Model"
   ]
  },
  {
   "cell_type": "code",
   "execution_count": null,
   "metadata": {
    "id": "11Z6SSDqsq2o",
    "outputId": "95650380-d38a-4e85-b398-c2d1003960b3"
   },
   "outputs": [],
   "source": [
    "## Instantiating the model and fitting it\n",
    "lr = LinearRegression()\n",
    "\n",
    "lr.fit(X_train_ohe, y_train)"
   ]
  },
  {
   "cell_type": "code",
   "execution_count": null,
   "metadata": {
    "id": "tHOCVnY6sq2o",
    "outputId": "228f846d-daca-4d01-f081-bd5cea1cb94a"
   },
   "outputs": [],
   "source": [
    "## Checking the R^2 for train and test\n",
    "\n",
    "train_r = lr.score(X_train_ohe, y_train)\n",
    "print(f'R-Square value for training data is {round(train_r,3)}.')\n",
    "\n",
    "test_r = lr.score(X_test_ohe, y_test)\n",
    "print(f'R-Square value for test data is {round(test_r,3)}.')\n",
    "\n",
    "## Getting model coefficients\n",
    "train_coef = pd.Series(lr.coef_, index=X_train_ohe.columns)\n",
    "train_coef['intercept'] = lr.intercept_\n",
    "\n",
    "## Displaying resulting features and coefficients\n",
    "train_coef.sort_values(ascending=False)[:11]#.plot(kind='barh');"
   ]
  },
  {
   "cell_type": "code",
   "execution_count": null,
   "metadata": {
    "id": "WK-62-cSsq2o"
   },
   "outputs": [],
   "source": [
    "## Determining predictions for training data\n",
    "\n",
    "y_train_pred = lr.predict(X_train_ohe)\n",
    "\n",
    "\n",
    "## Determining predictions for test data\n",
    "\n",
    "y_test_pred = lr.predict(X_test_ohe)\n"
   ]
  },
  {
   "cell_type": "markdown",
   "metadata": {
    "id": "c6ER9c6wsq2o"
   },
   "source": [
    "## Evaluate Performance"
   ]
  },
  {
   "cell_type": "code",
   "execution_count": null,
   "metadata": {
    "id": "vmuL6AVVsq2o",
    "outputId": "7ad3a0b2-307e-4f59-e2b2-92a4d093652f"
   },
   "outputs": [],
   "source": [
    "## Calculating scores for training model\n",
    "\n",
    "train_mae = metrics.mean_absolute_error(y_train, y_train_pred)\n",
    "train_mse = metrics.mean_squared_error(y_train, y_train_pred)\n",
    "train_rmse = np.sqrt(metrics.mean_squared_error(y_train, y_train_pred))\n",
    "\n",
    "print('Evaluating performance of training data.')\n",
    "print()\n",
    "print(f'Mean Absolute Error: {train_mae:,.2f}')\n",
    "print(f'Mean Squared Error:  {train_mse:,.2f}')\n",
    "print()\n",
    "print(f'Root Mean Squared Error: {train_rmse:,.2f}')\n",
    "train_r = lr.score(X_train_ohe, y_train)\n",
    "print(f'R-Square value for training data is {round(train_r,2)}.')"
   ]
  },
  {
   "cell_type": "code",
   "execution_count": null,
   "metadata": {
    "id": "qh5WdxiSsq2p",
    "outputId": "8d151602-4bd1-4cff-a106-0fda4f9ce239"
   },
   "outputs": [],
   "source": [
    "## Calculating scores for test model\n",
    "\n",
    "test_mae = metrics.mean_absolute_error(y_test, y_test_pred)\n",
    "test_mse = metrics.mean_squared_error(y_test, y_test_pred)\n",
    "test_rmse = np.sqrt(metrics.mean_squared_error(y_test, y_test_pred))\n",
    "\n",
    "print(f'Mean Absolute Error: {test_mae:,.2f}')\n",
    "print(f'Mean Squared Error: {test_mse:,.2f}')\n",
    "print()\n",
    "print(f'Root Mean Squared Error: {test_rmse:,.2f}')\n",
    "test_r = lr.score(X_test_ohe, y_test)\n",
    "print(f'R-Square value for test data is {round(test_r,2)}.')"
   ]
  },
  {
   "cell_type": "markdown",
   "metadata": {
    "id": "Iggd6QyBsq2p"
   },
   "source": [
    "## Comparing Results"
   ]
  },
  {
   "cell_type": "code",
   "execution_count": null,
   "metadata": {
    "id": "N4Zwe3w1sq2p",
    "outputId": "fd579ecd-94a5-497c-cf01-20906e21f2a7"
   },
   "outputs": [],
   "source": [
    "## Calculating difference between RMSE(Training) and RMSE(Test)\n",
    "\n",
    "print('Our RMSE values for each set:')\n",
    "print(f'Train RMSE: {train_rmse:,.2f}')\n",
    "print(f'Test RMSE: {test_rmse:,.2f}')\n",
    "\n",
    "diff = train_rmse - test_rmse\n",
    "\n",
    "print()\n",
    "print(f'The difference in RMSE between our training and test sets is {diff:,.2f}.')"
   ]
  },
  {
   "cell_type": "markdown",
   "metadata": {
    "id": "N8gXWxkwsq2p"
   },
   "source": [
    "## Testing Assumptions"
   ]
  },
  {
   "cell_type": "code",
   "execution_count": null,
   "metadata": {
    "id": "RK1I3BjNsq2p",
    "outputId": "8f65df47-f769-4ab2-db0e-0a8b8393bb93"
   },
   "outputs": [],
   "source": [
    "## Determining residuals\n",
    "residuals = (y_test - y_test_pred)\n",
    "residuals"
   ]
  },
  {
   "cell_type": "code",
   "execution_count": null,
   "metadata": {
    "id": "8Ki7jgWOsq2q",
    "outputId": "d107272f-03ff-4ec8-c089-2e3f8e62ab38"
   },
   "outputs": [],
   "source": [
    "## Plotting to test for normality\n",
    "sns.histplot(data=residuals);"
   ]
  },
  {
   "cell_type": "code",
   "execution_count": null,
   "metadata": {
    "id": "a_xcXzy0sq2q",
    "outputId": "2411638a-ad62-4290-fa15-923c33b6edc2",
    "scrolled": false
   },
   "outputs": [],
   "source": [
    "## Checking the homoscedasticity of the new model\n",
    "sns.residplot(x=y_test, y=residuals, lowess=True, color=\"g\");"
   ]
  },
  {
   "cell_type": "markdown",
   "metadata": {
    "id": "PRDdiLI5sq2q"
   },
   "source": [
    "### Interpretation of Model Results"
   ]
  },
  {
   "cell_type": "markdown",
   "metadata": {
    "id": "mWmdMLABsq2q"
   },
   "source": [
    "The model continues to do a job of explaining the variance between our selected features, with an r-squared value of .79/1.\n",
    "\n",
    "The RMSE for both the training and test sets are below our target of 200,000, but higher than our model without the outliers. The difference between the two RMSEs did increase, indicating area for improvement.\n",
    "\n",
    "The assumption tests confirm the assumptions that our residuals would be normally distributed and homoscedastic."
   ]
  },
  {
   "cell_type": "markdown",
   "metadata": {
    "id": "LO9JgvYJsq2r"
   },
   "source": [
    "## Recursive Feature Elimination"
   ]
  },
  {
   "cell_type": "markdown",
   "metadata": {
    "id": "TBOLHVIrsq2r"
   },
   "source": [
    "The model using the original data performed worse in terms of RMSE, but maintained the R^2 value of .79.\n",
    "\n",
    "Let's see if the RFECV has any impact this time."
   ]
  },
  {
   "cell_type": "code",
   "execution_count": null,
   "metadata": {
    "id": "g6S_oHNKsq2r"
   },
   "outputs": [],
   "source": [
    "## Creating the settings for the selector\n",
    "selector = RFECV(estimator=lr, step=2, cv=3, scoring='neg_mean_squared_error', n_jobs=-1, verbose=1)"
   ]
  },
  {
   "cell_type": "code",
   "execution_count": null,
   "metadata": {
    "id": "7Z3EjlQPsq2r",
    "outputId": "6f936a35-02a9-41cb-e783-ac00f513165e"
   },
   "outputs": [],
   "source": [
    "## Running it on our training data\n",
    "selector.fit(X_train_ohe, y_train)"
   ]
  },
  {
   "cell_type": "code",
   "execution_count": null,
   "metadata": {
    "id": "3PWeGts9sq2r"
   },
   "outputs": [],
   "source": [
    "## Dividing the data into two separate variables for inspection\n",
    "selected_columns = X_train_ohe.columns[selector.get_support()]\n",
    "removed_columns = X_train_ohe.columns[~selector.get_support()]"
   ]
  },
  {
   "cell_type": "code",
   "execution_count": null,
   "metadata": {
    "id": "olE8MJqHsq2s",
    "outputId": "66c2f970-16f4-474f-f265-637d6386e328"
   },
   "outputs": [],
   "source": [
    "## Inspecting the columns with the greatest impact according to the RSECV method\n",
    "list(selected_columns.values)"
   ]
  },
  {
   "cell_type": "code",
   "execution_count": null,
   "metadata": {
    "id": "jKJQfUXtsq2s",
    "outputId": "33c67b46-0d77-40ea-80fb-c30837f80b43"
   },
   "outputs": [],
   "source": [
    "## Testing the new list of columns\n",
    "\n",
    "## Instantiating a new regression model\n",
    "lr_rfe = LinearRegression()\n",
    "\n",
    "## Fitting the model to the new data\n",
    "lr_rfe.fit(X_train_ohe[selected_columns], y_train)\n",
    "\n",
    "# Using the model to create new predictions\n",
    "y_rfe = lr_rfe.predict(X_train_ohe[selected_columns])\n",
    "\n",
    "# Determining RMSE for new list of columns and TRAIN data\n",
    "trainRFE_rmse = np.sqrt(metrics.mean_squared_error(y_train, y_rfe))\n",
    "\n",
    "print(f'Training Root Mean Squared Error: {trainRFE_rmse:,.2f}')\n",
    "\n",
    "# Determining RMSE for new list of columns and TEST data\n",
    "y_pred_rfe = lr_rfe.predict(X_test_ohe[selected_columns])\n",
    "\n",
    "testRFE_rmse = np.sqrt(metrics.mean_squared_error(y_test, y_pred_rfe))\n",
    "\n",
    "print(f'Testing Root Mean Squared Error: {testRFE_rmse:,.2f}')\n",
    "\n",
    "diff2 = trainRFE_rmse - testRFE_rmse\n",
    "print()\n",
    "print(f'The difference in RMSE between our training and test sets is {diff2:,.2f}.')"
   ]
  },
  {
   "cell_type": "code",
   "execution_count": null,
   "metadata": {
    "id": "FeFZGzAOsq2s",
    "outputId": "745d755e-2470-4c64-f415-f34cc9be5daf"
   },
   "outputs": [],
   "source": [
    "test_rsq = lr_rfe.score(X_test_ohe[selected_columns], y_test)\n",
    "print(f'R-Square value for testing data after RFECV is {round(test_rsq,2)}.')"
   ]
  },
  {
   "cell_type": "markdown",
   "metadata": {
    "id": "ZusOwnj-sq2t"
   },
   "source": [
    "---\n",
    "**Comparing RMSEs from original to RFECV:**\n",
    "\n",
    "* **Pre-RFECV model results:**\n",
    "   * The R^2 value for both training and testing data was .79 (significant as it is over the .70 threshold).\n",
    "   * *Our RMSE values for each set:*\n",
    "        * Train RMSE: 117,679.79\n",
    "        * Test RMSE: 122,263.56\n",
    "    * The difference in RMSE between our training and test sets is **-4,583.77**.\n",
    "\n",
    "\n",
    " * **Post-RFECV model results:**\n",
    "     * The R^2 value for the test data is .48 (.31 lower than other model, and far below threshold).\n",
    "     * *Our RMSE values for each set:*\n",
    "         * Training Root Mean Squared Error: 182,158.41\n",
    "         * Testing Root Mean Squared Error: 191,360.88\n",
    "     * The difference in RMSE between our training and test sets is **-9,202.47**.\n",
    "\n",
    "---\n",
    "\n",
    "**Final Analysis of RFE method:** The RFE results produced a large decrease in model perfomance as determined by the lower R^2 and lower RMSE values. I will continue with the first model for future predictions.\n",
    "\n",
    "---"
   ]
  },
  {
   "cell_type": "markdown",
   "metadata": {
    "id": "wag43Q9Osq2t"
   },
   "source": [
    "# **Pickling the Model for Reuse**"
   ]
  },
  {
   "cell_type": "code",
   "execution_count": null,
   "metadata": {
    "id": "4GN7b92Bsq2t"
   },
   "outputs": [],
   "source": [
    "## Setting coefficients and target\n",
    "X = df[['was_renovated','waterfront', 'zipcode', 'y_old_sold',\n",
    "            'yrs_since_reno', 'bedrooms', 'bathrooms', 'condition','grade']].copy()\n",
    "y = df['price'].copy()"
   ]
  },
  {
   "cell_type": "code",
   "execution_count": null,
   "metadata": {
    "id": "aAaWB2p-sq2u"
   },
   "outputs": [],
   "source": [
    "## Create list of categorical variables\n",
    "cat_feats = ['condition','grade', 'zipcode']\n",
    "\n",
    "## Create the OHE without \"drop='first\" as it would throw an error in this case\n",
    "ohe = OneHotEncoder(handle_unknown = 'ignore', sparse=False)\n",
    "\n",
    "## Using OHE on our categorical variables for training (NOT testing)\n",
    "final_ohe = ohe.fit_transform(X[cat_feats])"
   ]
  },
  {
   "cell_type": "code",
   "execution_count": null,
   "metadata": {
    "id": "K4ZlDVedsq2u"
   },
   "outputs": [],
   "source": [
    "## Getting feature names from our list of categories\n",
    "feat_col_name = ohe.get_feature_names(cat_feats)"
   ]
  },
  {
   "cell_type": "code",
   "execution_count": null,
   "metadata": {
    "id": "N-PMoCc9sq2u"
   },
   "outputs": [],
   "source": [
    "## Creating DF of final results\n",
    "penultimate_ohe_df = pd.DataFrame(final_ohe, columns=feat_col_name, index=X.index)"
   ]
  },
  {
   "cell_type": "code",
   "execution_count": null,
   "metadata": {
    "id": "gbBUH7sesq2u"
   },
   "outputs": [],
   "source": [
    "## Updating final DF\n",
    "final_ohe_df = pd.concat([X.drop(cat_feats, axis=1), penultimate_ohe_df], axis=1)"
   ]
  },
  {
   "cell_type": "code",
   "execution_count": null,
   "metadata": {
    "id": "xeejWre2sq2u"
   },
   "outputs": [],
   "source": [
    "## Instantiating and fitting the regression\n",
    "lr_final = LinearRegression()\n",
    "\n",
    "lr_final = lr_final.fit(final_ohe_df, y)"
   ]
  },
  {
   "cell_type": "code",
   "execution_count": null,
   "metadata": {
    "id": "oI59t6jLsq2u"
   },
   "outputs": [],
   "source": [
    "# Generating predictions\n",
    "final_pred = lr_final.predict(final_ohe_df)"
   ]
  },
  {
   "cell_type": "code",
   "execution_count": null,
   "metadata": {
    "id": "S0i9fViVsq2v",
    "outputId": "62cdf02d-fcfe-4d89-f573-6fc99ebcae01"
   },
   "outputs": [],
   "source": [
    "## Confirming predictions work\n",
    "display(final_pred)"
   ]
  },
  {
   "cell_type": "code",
   "execution_count": null,
   "metadata": {
    "id": "BLGZNG78sq2v"
   },
   "outputs": [],
   "source": [
    "# Saving model to .pickle file\n",
    "import pickle\n",
    "\n",
    "pickle_out = open(\"final_model.pickle\",\"wb\")\n",
    "pickle.dump(lr_final, pickle_out)\n",
    "pickle_out.close()"
   ]
  },
  {
   "cell_type": "code",
   "execution_count": null,
   "metadata": {
    "id": "7Ngukx0ssq2v"
   },
   "outputs": [],
   "source": [
    "# final_ohe_df.columns.to_list()"
   ]
  }
 ],
 "metadata": {
  "colab": {
   "collapsed_sections": [],
   "name": "P2Pv2_wb.ipynb",
   "provenance": [],
   "toc_visible": true
  },
  "kernelspec": {
   "display_name": "Python 3",
   "language": "python",
   "name": "python3"
  },
  "language_info": {
   "codemirror_mode": {
    "name": "ipython",
    "version": 3
   },
   "file_extension": ".py",
   "mimetype": "text/x-python",
   "name": "python",
   "nbconvert_exporter": "python",
   "pygments_lexer": "ipython3",
   "version": "3.8.5"
  },
  "toc": {
   "base_numbering": 1,
   "nav_menu": {},
   "number_sections": true,
   "sideBar": true,
   "skip_h1_title": false,
   "title_cell": "Table of Contents",
   "title_sidebar": "Contents",
   "toc_cell": false,
   "toc_position": {
    "height": "757px",
    "left": "35px",
    "top": "110px",
    "width": "278.92px"
   },
   "toc_section_display": true,
   "toc_window_display": true
  }
 },
 "nbformat": 4,
 "nbformat_minor": 1
}
