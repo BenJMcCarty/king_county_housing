{
  "nbformat": 4,
  "nbformat_minor": 0,
  "metadata": {
    "colab": {
      "name": "P2_Project.ipynb",
      "provenance": [],
      "collapsed_sections": [],
      "toc_visible": true
    },
    "kernelspec": {
      "name": "python3",
      "display_name": "Python 3"
    },
    "language_info": {
      "name": "python"
    }
  },
  "cells": [
    {
      "cell_type": "markdown",
      "metadata": {
        "id": "toeVcIL61W5M"
      },
      "source": [
        "# **Phase 2 Project Notebook - King County House Sales Dataset**\n",
        "\n",
        "Authors: Ben M, Samantha, Ian, Sanjit"
      ]
    },
    {
      "cell_type": "markdown",
      "metadata": {
        "id": "-v4Qa_Qx2c6I"
      },
      "source": [
        "# **Table of Contents** <a name=\"🔝\"></a>\n",
        "\n",
        "\n",
        "[✨ To-Do's ✨](#td_main)\n",
        "\n",
        "\n",
        "*Markdown examples for use with later sections of NB*\n",
        "1. [Importing Packages and Reading Data](#imports)\n",
        "2. [Section 2](#s2)\n",
        "\n",
        "test\n",
        "test\n",
        "test\n"
      ]
    },
    {
      "cell_type": "markdown",
      "metadata": {
        "id": "xABMxGAz2c3n"
      },
      "source": [
        "## References and Reminders:\n",
        "\n",
        "---\n",
        "**Reference Links**\n",
        "\n",
        "[Project Launch Slides](#https://docs.google.com/presentation/d/1V35_n5Zof-KvfJvkbp8g847CGa9cK7hHLk-6VBUYULg/edit#slide=id.g8067c3178c_0_0)\n",
        "\n",
        "[Grading Rubric](https://docs.google.com/document/d/1ILvwpx8b9VvV8JLBc6FgZylTet5wNvyZFmpI67wk_8E/edit)\n",
        "\n",
        "[Project Templates Repo](https://github.com/BenJMcCarty/dsc-project-template)\n",
        "\n",
        "[Data Science Processes](#https://github.com/learn-co-curriculum/dsc-data-science-processes)\n",
        "\n",
        "---\n",
        "\n",
        "**REMINDER** To get datasets from external sources:\n",
        "\n",
        "1. [Go to GitHub repo](https://github.com/BenJMcCarty/dsc-ols-statsmodels-lab)\n",
        "2. [Click on data file name in repository list](https://github.com/BenJMcCarty/dsc-ols-statsmodels-lab/blob/master/advertising.csv)\n",
        "3. [Select \"raw\" from two buttons on left-side above the data](https://raw.githubusercontent.com/BenJMcCarty/dsc-ols-statsmodels-lab/961d1d4a93790d2c09bcab561d8d2129cc2efa3a/advertising.csv)\n",
        "\n",
        "![image.png](data:image/png;base64,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)\n",
        "\n",
        "***To read data from the cloud into a JNB:***\n",
        "\n",
        "```\n",
        "file_url = 'https://raw.githubusercontent.com/BenJMcCarty/dsc-ols-statsmodels-lab/961d1d4a93790d2c09bcab561d8d2129cc2efa3a/advertising.csv'\n",
        "\n",
        "data = pd.read_csv(file_url, index_col=0)\n",
        "```\n"
      ]
    },
    {
      "cell_type": "markdown",
      "metadata": {
        "id": "FShWp4P-2c1O"
      },
      "source": [
        "# ✨ To-Do's ✨ <a name=\"td_main\"></a>\n",
        "\n",
        ">* ❗ - Review and update these sections\n",
        ">* **Test**\n",
        ">* *Test*\n",
        "---\n",
        "\n",
        ">* ❗ [Section 1](#s1)\n",
        ">* ❗ [Section 2](#s2)\n",
        ">* ❗ [Section 3](#s3)\n",
        ">* ❗ [Section 4](#s4)\n",
        ">* ❗ [Section 5](#s5)\n",
        ">* ❗ [Section 6](#s6)\n",
        ">* ❗ [Section 7](#s7)\n"
      ]
    },
    {
      "cell_type": "markdown",
      "metadata": {
        "id": "ts6Jzl_z5gJV"
      },
      "source": [
        "# Importing Packages and Reading Data <a name=\"imports\"></a>"
      ]
    },
    {
      "cell_type": "code",
      "metadata": {
        "id": "Ad8_-GNiHBQC"
      },
      "source": [
        "# Data Handling\n",
        "import pandas as pd\n",
        "import numpy as np\n",
        "from scipy import stats\n",
        "\n",
        "# Visualizations\n",
        "import matplotlib.pyplot as plt\n",
        "import seaborn as sns\n",
        "import plotly.express as px\n",
        "\n",
        "# Modeling - Statsmodels\n",
        "import statsmodels.formula.api as smf\n",
        "import statsmodels.api as sm\n",
        "\n",
        "# Modeling - SKLearn\n",
        "from sklearn import metrics\n",
        "from sklearn.linear_model import LinearRegression\n",
        "from sklearn.preprocessing import PolynomialFeatures, StandardScaler, OneHotEncoder\n",
        "from sklearn.model_selection import train_test_split, cross_validate\n",
        "from sklearn.feature_selection import RFECV\n",
        "\n",
        "# Settings\n",
        "%matplotlib inline\n",
        "plt.style.use('seaborn-talk')\n",
        "pd.set_option('display.max_columns', None)"
      ],
      "execution_count": 3,
      "outputs": []
    },
    {
      "cell_type": "code",
      "metadata": {
        "id": "J8mz21KGG-_i"
      },
      "source": [
        "## Reading in the dataset and creating dataframe\n",
        "\n",
        "file_url = 'https://raw.githubusercontent.com/iansharff/king_county_housing/main/data/kc_house_data.csv'\n",
        " \n",
        "df = pd.read_csv(file_url, index_col=0)"
      ],
      "execution_count": 8,
      "outputs": []
    },
    {
      "cell_type": "markdown",
      "metadata": {
        "id": "VSzCs9SB6p45"
      },
      "source": [
        "# Data Cleaning and Exploration <a name=\"s2\"></a>"
      ]
    },
    {
      "cell_type": "markdown",
      "metadata": {
        "id": "SXn45cJUMheq"
      },
      "source": [
        "## Basic Overview"
      ]
    },
    {
      "cell_type": "markdown",
      "metadata": {
        "id": "chNVh2g2MlYr"
      },
      "source": [
        "The goal for this section is to get a broad idea of the data before I start any cleaning or feature engineering."
      ]
    },
    {
      "cell_type": "code",
      "metadata": {
        "colab": {
          "base_uri": "https://localhost:8080/",
          "height": 669
        },
        "id": "ORjlDeCCG5Tq",
        "outputId": "771a77bc-61e5-4c47-f3bb-b10577490d96"
      },
      "source": [
        "## Creating dataframe to summarize the data\n",
        "\n",
        "report_df = pd.DataFrame({'num_unique':df.nunique(),\n",
        "              'DTypes':df.dtypes,\n",
        "              'NaN_sum':df.isna().sum(),\n",
        "              'NaN_pct':df.isna().sum()/len(df)})\n",
        "report_df"
      ],
      "execution_count": 9,
      "outputs": [
        {
          "output_type": "execute_result",
          "data": {
            "text/html": [
              "<div>\n",
              "<style scoped>\n",
              "    .dataframe tbody tr th:only-of-type {\n",
              "        vertical-align: middle;\n",
              "    }\n",
              "\n",
              "    .dataframe tbody tr th {\n",
              "        vertical-align: top;\n",
              "    }\n",
              "\n",
              "    .dataframe thead th {\n",
              "        text-align: right;\n",
              "    }\n",
              "</style>\n",
              "<table border=\"1\" class=\"dataframe\">\n",
              "  <thead>\n",
              "    <tr style=\"text-align: right;\">\n",
              "      <th></th>\n",
              "      <th>num_unique</th>\n",
              "      <th>DTypes</th>\n",
              "      <th>NaN_sum</th>\n",
              "      <th>NaN_pct</th>\n",
              "    </tr>\n",
              "  </thead>\n",
              "  <tbody>\n",
              "    <tr>\n",
              "      <th>date</th>\n",
              "      <td>372</td>\n",
              "      <td>object</td>\n",
              "      <td>0</td>\n",
              "      <td>0.000000</td>\n",
              "    </tr>\n",
              "    <tr>\n",
              "      <th>price</th>\n",
              "      <td>3622</td>\n",
              "      <td>float64</td>\n",
              "      <td>0</td>\n",
              "      <td>0.000000</td>\n",
              "    </tr>\n",
              "    <tr>\n",
              "      <th>bedrooms</th>\n",
              "      <td>12</td>\n",
              "      <td>int64</td>\n",
              "      <td>0</td>\n",
              "      <td>0.000000</td>\n",
              "    </tr>\n",
              "    <tr>\n",
              "      <th>bathrooms</th>\n",
              "      <td>29</td>\n",
              "      <td>float64</td>\n",
              "      <td>0</td>\n",
              "      <td>0.000000</td>\n",
              "    </tr>\n",
              "    <tr>\n",
              "      <th>sqft_living</th>\n",
              "      <td>1034</td>\n",
              "      <td>int64</td>\n",
              "      <td>0</td>\n",
              "      <td>0.000000</td>\n",
              "    </tr>\n",
              "    <tr>\n",
              "      <th>sqft_lot</th>\n",
              "      <td>9776</td>\n",
              "      <td>int64</td>\n",
              "      <td>0</td>\n",
              "      <td>0.000000</td>\n",
              "    </tr>\n",
              "    <tr>\n",
              "      <th>floors</th>\n",
              "      <td>6</td>\n",
              "      <td>float64</td>\n",
              "      <td>0</td>\n",
              "      <td>0.000000</td>\n",
              "    </tr>\n",
              "    <tr>\n",
              "      <th>waterfront</th>\n",
              "      <td>2</td>\n",
              "      <td>float64</td>\n",
              "      <td>2376</td>\n",
              "      <td>0.110015</td>\n",
              "    </tr>\n",
              "    <tr>\n",
              "      <th>view</th>\n",
              "      <td>5</td>\n",
              "      <td>float64</td>\n",
              "      <td>63</td>\n",
              "      <td>0.002917</td>\n",
              "    </tr>\n",
              "    <tr>\n",
              "      <th>condition</th>\n",
              "      <td>5</td>\n",
              "      <td>int64</td>\n",
              "      <td>0</td>\n",
              "      <td>0.000000</td>\n",
              "    </tr>\n",
              "    <tr>\n",
              "      <th>grade</th>\n",
              "      <td>11</td>\n",
              "      <td>int64</td>\n",
              "      <td>0</td>\n",
              "      <td>0.000000</td>\n",
              "    </tr>\n",
              "    <tr>\n",
              "      <th>sqft_above</th>\n",
              "      <td>942</td>\n",
              "      <td>int64</td>\n",
              "      <td>0</td>\n",
              "      <td>0.000000</td>\n",
              "    </tr>\n",
              "    <tr>\n",
              "      <th>sqft_basement</th>\n",
              "      <td>304</td>\n",
              "      <td>object</td>\n",
              "      <td>0</td>\n",
              "      <td>0.000000</td>\n",
              "    </tr>\n",
              "    <tr>\n",
              "      <th>yr_built</th>\n",
              "      <td>116</td>\n",
              "      <td>int64</td>\n",
              "      <td>0</td>\n",
              "      <td>0.000000</td>\n",
              "    </tr>\n",
              "    <tr>\n",
              "      <th>yr_renovated</th>\n",
              "      <td>70</td>\n",
              "      <td>float64</td>\n",
              "      <td>3842</td>\n",
              "      <td>0.177895</td>\n",
              "    </tr>\n",
              "    <tr>\n",
              "      <th>zipcode</th>\n",
              "      <td>70</td>\n",
              "      <td>int64</td>\n",
              "      <td>0</td>\n",
              "      <td>0.000000</td>\n",
              "    </tr>\n",
              "    <tr>\n",
              "      <th>lat</th>\n",
              "      <td>5033</td>\n",
              "      <td>float64</td>\n",
              "      <td>0</td>\n",
              "      <td>0.000000</td>\n",
              "    </tr>\n",
              "    <tr>\n",
              "      <th>long</th>\n",
              "      <td>751</td>\n",
              "      <td>float64</td>\n",
              "      <td>0</td>\n",
              "      <td>0.000000</td>\n",
              "    </tr>\n",
              "    <tr>\n",
              "      <th>sqft_living15</th>\n",
              "      <td>777</td>\n",
              "      <td>int64</td>\n",
              "      <td>0</td>\n",
              "      <td>0.000000</td>\n",
              "    </tr>\n",
              "    <tr>\n",
              "      <th>sqft_lot15</th>\n",
              "      <td>8682</td>\n",
              "      <td>int64</td>\n",
              "      <td>0</td>\n",
              "      <td>0.000000</td>\n",
              "    </tr>\n",
              "  </tbody>\n",
              "</table>\n",
              "</div>"
            ],
            "text/plain": [
              "               num_unique   DTypes  NaN_sum   NaN_pct\n",
              "date                  372   object        0  0.000000\n",
              "price                3622  float64        0  0.000000\n",
              "bedrooms               12    int64        0  0.000000\n",
              "bathrooms              29  float64        0  0.000000\n",
              "sqft_living          1034    int64        0  0.000000\n",
              "sqft_lot             9776    int64        0  0.000000\n",
              "floors                  6  float64        0  0.000000\n",
              "waterfront              2  float64     2376  0.110015\n",
              "view                    5  float64       63  0.002917\n",
              "condition               5    int64        0  0.000000\n",
              "grade                  11    int64        0  0.000000\n",
              "sqft_above            942    int64        0  0.000000\n",
              "sqft_basement         304   object        0  0.000000\n",
              "yr_built              116    int64        0  0.000000\n",
              "yr_renovated           70  float64     3842  0.177895\n",
              "zipcode                70    int64        0  0.000000\n",
              "lat                  5033  float64        0  0.000000\n",
              "long                  751  float64        0  0.000000\n",
              "sqft_living15         777    int64        0  0.000000\n",
              "sqft_lot15           8682    int64        0  0.000000"
            ]
          },
          "metadata": {
            "tags": []
          },
          "execution_count": 9
        }
      ]
    },
    {
      "cell_type": "code",
      "metadata": {
        "colab": {
          "base_uri": "https://localhost:8080/"
        },
        "id": "nmdZqlxdM4qt",
        "outputId": "7f0c28ba-590b-4439-ab5b-81cd792da3a1"
      },
      "source": [
        "df.info()"
      ],
      "execution_count": 10,
      "outputs": [
        {
          "output_type": "stream",
          "text": [
            "<class 'pandas.core.frame.DataFrame'>\n",
            "Int64Index: 21597 entries, 7129300520 to 1523300157\n",
            "Data columns (total 20 columns):\n",
            " #   Column         Non-Null Count  Dtype  \n",
            "---  ------         --------------  -----  \n",
            " 0   date           21597 non-null  object \n",
            " 1   price          21597 non-null  float64\n",
            " 2   bedrooms       21597 non-null  int64  \n",
            " 3   bathrooms      21597 non-null  float64\n",
            " 4   sqft_living    21597 non-null  int64  \n",
            " 5   sqft_lot       21597 non-null  int64  \n",
            " 6   floors         21597 non-null  float64\n",
            " 7   waterfront     19221 non-null  float64\n",
            " 8   view           21534 non-null  float64\n",
            " 9   condition      21597 non-null  int64  \n",
            " 10  grade          21597 non-null  int64  \n",
            " 11  sqft_above     21597 non-null  int64  \n",
            " 12  sqft_basement  21597 non-null  object \n",
            " 13  yr_built       21597 non-null  int64  \n",
            " 14  yr_renovated   17755 non-null  float64\n",
            " 15  zipcode        21597 non-null  int64  \n",
            " 16  lat            21597 non-null  float64\n",
            " 17  long           21597 non-null  float64\n",
            " 18  sqft_living15  21597 non-null  int64  \n",
            " 19  sqft_lot15     21597 non-null  int64  \n",
            "dtypes: float64(8), int64(10), object(2)\n",
            "memory usage: 3.5+ MB\n"
          ],
          "name": "stdout"
        }
      ]
    },
    {
      "cell_type": "markdown",
      "metadata": {
        "id": "PiZgtGGaLz6g"
      },
      "source": [
        "### Overview Summary"
      ]
    },
    {
      "cell_type": "markdown",
      "metadata": {
        "id": "TwPfsk31MrE-"
      },
      "source": [
        "The dataset contains 20 colums of data, most of which seem useful for evaluations and modeling, but \"waterfront\" and \"yr_renovated\" are not really usable in their current state due to null values.\n",
        "\n",
        "The data types seem to be relatively accurate; I will need to change \"sqft_basement\" to an integer datatype instead of an object, and I can convert some of the categorical features to the \"category\" datatype to save on memory.\n",
        "\n",
        "I could convert the date for later calculations, engineering, or modeling. For now, I will leave it as-is."
      ]
    },
    {
      "cell_type": "markdown",
      "metadata": {
        "id": "PStbjy7lNn0R"
      },
      "source": [
        "## Exploring Features"
      ]
    },
    {
      "cell_type": "markdown",
      "metadata": {
        "id": "PMD_BqKhNnwJ"
      },
      "source": [
        "Now I will be comparing each individual feature against \"price\" to determine if a feature is continuous or categorical.\n",
        "\n",
        "I will check the regressions and histograms for each feature. If a regression plot shows a flatter regression line or if the histogram is not a normal distribution, I will treat that feature as a categorical feature.\n",
        "\n",
        "As part of the function to create the plots, I set my function to ignore any outliers for the purpose of the visualizations. I will *not* change the data itself yet."
      ]
    },
    {
      "cell_type": "markdown",
      "metadata": {
        "id": "QmUu9g20Nnsq"
      },
      "source": [
        "### Date"
      ]
    },
    {
      "cell_type": "markdown",
      "metadata": {
        "id": "SJEIzprWONdt"
      },
      "source": [
        "### Bedrooms"
      ]
    },
    {
      "cell_type": "markdown",
      "metadata": {
        "id": "DdNKraX8ONZL"
      },
      "source": [
        "### Bathrooms"
      ]
    },
    {
      "cell_type": "markdown",
      "metadata": {
        "id": "J-a3AB7UONUU"
      },
      "source": [
        "### Sqft_living"
      ]
    },
    {
      "cell_type": "markdown",
      "metadata": {
        "id": "WJm9TO9rONQM"
      },
      "source": [
        "### Sqft_lot"
      ]
    },
    {
      "cell_type": "markdown",
      "metadata": {
        "id": "Ciu-EyZSONMV"
      },
      "source": [
        "### Floors"
      ]
    },
    {
      "cell_type": "markdown",
      "metadata": {
        "id": "S2ahWU0xONIW"
      },
      "source": [
        "### Waterfront"
      ]
    },
    {
      "cell_type": "markdown",
      "metadata": {
        "id": "wuuK8Y8sOrIW"
      },
      "source": [
        "### View"
      ]
    },
    {
      "cell_type": "markdown",
      "metadata": {
        "id": "ECckR1SzOrEm"
      },
      "source": [
        "### Condition"
      ]
    },
    {
      "cell_type": "markdown",
      "metadata": {
        "id": "gXm6TFigOrAf"
      },
      "source": [
        "### Grade"
      ]
    },
    {
      "cell_type": "markdown",
      "metadata": {
        "id": "CeuDkl-LO-nf"
      },
      "source": [
        "### Sqft_above"
      ]
    },
    {
      "cell_type": "markdown",
      "metadata": {
        "id": "Yd3b7npcO-lA"
      },
      "source": [
        "### Sqft_basement"
      ]
    },
    {
      "cell_type": "markdown",
      "metadata": {
        "id": "GkmT4CLLO-io"
      },
      "source": [
        "### Yr_built"
      ]
    },
    {
      "cell_type": "markdown",
      "metadata": {
        "id": "2qYdPaAqPZ7u"
      },
      "source": [
        "### Zipcode"
      ]
    },
    {
      "cell_type": "markdown",
      "metadata": {
        "id": "KfcTJrS8PZ5j"
      },
      "source": [
        "### Lat/Long"
      ]
    },
    {
      "cell_type": "markdown",
      "metadata": {
        "id": "OaEwy4yMPjn9"
      },
      "source": [
        "### Sqft_living15"
      ]
    },
    {
      "cell_type": "markdown",
      "metadata": {
        "id": "EBd9WoldPjlb"
      },
      "source": [
        "### Sqft_lot15"
      ]
    },
    {
      "cell_type": "code",
      "metadata": {
        "id": "hMou2YY2PhGC"
      },
      "source": [
        ""
      ],
      "execution_count": null,
      "outputs": []
    },
    {
      "cell_type": "markdown",
      "metadata": {
        "id": "pixesytrQn1D"
      },
      "source": [
        "# Feature Engineering"
      ]
    },
    {
      "cell_type": "markdown",
      "metadata": {
        "id": "BF_W_u_uRKn5"
      },
      "source": [
        "## `yrs_old_sold`"
      ]
    },
    {
      "cell_type": "markdown",
      "metadata": {
        "id": "_j1uSU2pRQwP"
      },
      "source": [
        "## `was_renovated`"
      ]
    },
    {
      "cell_type": "markdown",
      "metadata": {
        "id": "l4lozbWFRWdF"
      },
      "source": [
        "## `has_bsmnt`"
      ]
    },
    {
      "cell_type": "markdown",
      "metadata": {
        "id": "1NOr1NoGQnyJ"
      },
      "source": [
        "# Correlations"
      ]
    },
    {
      "cell_type": "markdown",
      "metadata": {
        "id": "y6i8oG3URfGc"
      },
      "source": [
        "### Correlations to Price"
      ]
    },
    {
      "cell_type": "markdown",
      "metadata": {
        "id": "jcQFrw7-RfAD"
      },
      "source": [
        "### Multicollinearity between Features"
      ]
    },
    {
      "cell_type": "markdown",
      "metadata": {
        "id": "lknZS2RjRePt"
      },
      "source": [
        "### Interpretation of Correlations and Multicollinearity"
      ]
    },
    {
      "cell_type": "markdown",
      "metadata": {
        "id": "EwnKGu3BQnvw"
      },
      "source": [
        "# Statistical Testing"
      ]
    },
    {
      "cell_type": "markdown",
      "metadata": {
        "id": "iPPNES00Ruyu"
      },
      "source": [
        "## ANOVA"
      ]
    },
    {
      "cell_type": "markdown",
      "metadata": {
        "id": "xyvqHffTR0G7"
      },
      "source": [
        "### Testing 'waterfront'"
      ]
    },
    {
      "cell_type": "markdown",
      "metadata": {
        "id": "7VLAHqIERzwp"
      },
      "source": [
        "#### Interpretation"
      ]
    },
    {
      "cell_type": "markdown",
      "metadata": {
        "id": "L71MsTkBRzue"
      },
      "source": [
        "## Two-Sample T-Tests"
      ]
    },
    {
      "cell_type": "markdown",
      "metadata": {
        "id": "DWBFvE2eSXVn"
      },
      "source": [
        "### ✨ Testing 'waterfront'"
      ]
    },
    {
      "cell_type": "markdown",
      "metadata": {
        "id": "VULBCvGuSXTN"
      },
      "source": [
        "Is a t-test well-suited for this feature?"
      ]
    },
    {
      "cell_type": "markdown",
      "metadata": {
        "id": "WnaH3yakSXQg"
      },
      "source": [
        "#### Interpretation"
      ]
    },
    {
      "cell_type": "markdown",
      "metadata": {
        "id": "eo1OTjW6S0gP"
      },
      "source": [
        "### Testing \"was_renovated\""
      ]
    },
    {
      "cell_type": "markdown",
      "metadata": {
        "id": "N6R-7jYUS0bG"
      },
      "source": [
        "#### Interpretation"
      ]
    },
    {
      "cell_type": "markdown",
      "metadata": {
        "id": "Mlv-QQZfQxjE"
      },
      "source": [
        "# Inferential Modeling"
      ]
    },
    {
      "cell_type": "markdown",
      "metadata": {
        "id": "Ye1qaArfTCBG"
      },
      "source": [
        "## Baseline Model with Raw Data"
      ]
    },
    {
      "cell_type": "markdown",
      "metadata": {
        "id": "qRnh_5etTB-d"
      },
      "source": [
        "Creating a baseline model using the raw dataset."
      ]
    },
    {
      "cell_type": "markdown",
      "metadata": {
        "id": "YWVy5t1LTHaJ"
      },
      "source": [
        "## Model without Outliers in 'feature-here'"
      ]
    },
    {
      "cell_type": "markdown",
      "metadata": {
        "id": "HrS0naifTB8O"
      },
      "source": [
        "### Removing Outliers from 'feature-here' Data"
      ]
    },
    {
      "cell_type": "markdown",
      "metadata": {
        "id": "fYpIGh8LTB5q"
      },
      "source": [
        "## Model (Clean) - w/ Zip Codes"
      ]
    },
    {
      "cell_type": "markdown",
      "metadata": {
        "id": "w3AxsggCTnZu"
      },
      "source": [
        "## Recommendations based on Inferential Modeling"
      ]
    },
    {
      "cell_type": "markdown",
      "metadata": {
        "id": "0t3OvXXbQxg9"
      },
      "source": [
        "# Model Testing for Predictions"
      ]
    },
    {
      "cell_type": "markdown",
      "metadata": {
        "id": "Yyzzz4uGQxfT"
      },
      "source": [
        "Now that I have a working model, I want to go ahead and test it to see how well it works. I will split the data in a 75/25 split into two groups; train a model on the 75%; and then compare it against the remaining 25%."
      ]
    },
    {
      "cell_type": "markdown",
      "metadata": {
        "id": "lmVW3M6zQxcm"
      },
      "source": [
        "## ID Features, Target\n"
      ]
    },
    {
      "cell_type": "markdown",
      "metadata": {
        "id": "8eqFHRA1QxaS"
      },
      "source": [
        "## Create Train/Test Split"
      ]
    },
    {
      "cell_type": "markdown",
      "metadata": {
        "id": "36JYgCdSQxX4"
      },
      "source": [
        "## Fitting the Model"
      ]
    },
    {
      "cell_type": "markdown",
      "metadata": {
        "id": "rIh_qd2tT4Xt"
      },
      "source": [
        "## Evaluate Performance"
      ]
    },
    {
      "cell_type": "markdown",
      "metadata": {
        "id": "xNpJ7iOnT4V5"
      },
      "source": [
        "## Comparing Results"
      ]
    },
    {
      "cell_type": "markdown",
      "metadata": {
        "id": "mxHdcIrBT4Sx"
      },
      "source": [
        "## Testing Assumptions"
      ]
    },
    {
      "cell_type": "markdown",
      "metadata": {
        "id": "fQwlmrtYT4Qo"
      },
      "source": [
        "### Interpretation of Model Results"
      ]
    },
    {
      "cell_type": "markdown",
      "metadata": {
        "id": "t7xKO8lBT4OI"
      },
      "source": [
        "## Recursive Feature Elimination"
      ]
    },
    {
      "cell_type": "markdown",
      "metadata": {
        "id": "BSrpprSoUHNL"
      },
      "source": [
        "### Interpretation of Results of RFEVC"
      ]
    },
    {
      "cell_type": "markdown",
      "metadata": {
        "id": "Q0wJGBECUIpJ"
      },
      "source": [
        "---\n",
        "**Comparing RMSEs from original model to RFECV:**\n",
        "\n",
        "* **Pre-RFECV model results:**\n",
        "   * The R^2 value for both training and testing data was --- (significant as it is over the .70 threshold).\n",
        "   * *Our RMSE values for each set:*\n",
        "        * Train RMSE: ---\n",
        "        * Test RMSE: ---\n",
        "    * The difference in RMSE between our training and test sets is **---**.\n",
        "\n",
        "\n",
        " * **Post-RFECV model results:**\n",
        "     * The R^2 value for the test data is --- (--- lower than other model, and far below threshold).\n",
        "     * *Our RMSE values for each set:*\n",
        "         * Training Root Mean Squared Error: ---\n",
        "         * Testing Root Mean Squared Error: ---\n",
        "     * The difference in RMSE between our training and test sets is **---**.\n",
        "\n",
        "---\n",
        "\n",
        "**Final Analysis of RFE method:** The RFE results produced a large decrease in model perfomance as determined by the lower R^2 and lower RMSE values. I will continue using the first model for future predictions.\n",
        "\n",
        "---"
      ]
    },
    {
      "cell_type": "markdown",
      "metadata": {
        "id": "mbsqC-L8UIlC"
      },
      "source": [
        "# **Pickling the Model for Reuse**"
      ]
    },
    {
      "cell_type": "code",
      "metadata": {
        "id": "Eg13Zja1QtrD"
      },
      "source": [
        ""
      ],
      "execution_count": null,
      "outputs": []
    }
  ]
}